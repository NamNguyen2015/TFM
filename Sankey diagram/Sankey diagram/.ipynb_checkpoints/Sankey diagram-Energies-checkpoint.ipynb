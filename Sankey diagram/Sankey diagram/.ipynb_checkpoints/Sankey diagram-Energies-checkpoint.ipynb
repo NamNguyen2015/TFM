{
 "cells": [
  {
   "cell_type": "code",
   "execution_count": 5,
   "id": "d718ece3",
   "metadata": {},
   "outputs": [],
   "source": [
    "from collections import defaultdict\n",
    "import numpy as np\n",
    "import pandas as pd\n",
    "import plotly.graph_objects as go"
   ]
  },
  {
   "cell_type": "markdown",
   "id": "5b75a9bc",
   "metadata": {},
   "source": [
    "# Import and clean up the table"
   ]
  },
  {
   "cell_type": "code",
   "execution_count": 6,
   "id": "f3cb93df",
   "metadata": {},
   "outputs": [
    {
     "data": {
      "text/html": [
       "<div>\n",
       "<style scoped>\n",
       "    .dataframe tbody tr th:only-of-type {\n",
       "        vertical-align: middle;\n",
       "    }\n",
       "\n",
       "    .dataframe tbody tr th {\n",
       "        vertical-align: top;\n",
       "    }\n",
       "\n",
       "    .dataframe thead th {\n",
       "        text-align: right;\n",
       "    }\n",
       "</style>\n",
       "<table border=\"1\" class=\"dataframe\">\n",
       "  <thead>\n",
       "    <tr style=\"text-align: right;\">\n",
       "      <th>TITLE</th>\n",
       "      <th>PRODUCTION</th>\n",
       "      <th>IMPORT</th>\n",
       "      <th>EXPORT</th>\n",
       "      <th>STOCK CHANGE</th>\n",
       "      <th>UNUSED</th>\n",
       "      <th>TOTAL SUPPLY</th>\n",
       "      <th>REFINERIES</th>\n",
       "      <th>POWER PLANTS</th>\n",
       "      <th>SELF-PRODUCERS</th>\n",
       "      <th>GAS PLANTS</th>\n",
       "      <th>...</th>\n",
       "      <th>ADJUSTMENT</th>\n",
       "      <th>TRANSPORT</th>\n",
       "      <th>INDUSTRIAL</th>\n",
       "      <th>RESIDENTIAL</th>\n",
       "      <th>COMMERCIAL, SERVICES, PUBLIC</th>\n",
       "      <th>AGRICULTURE, FISHING AND MINING</th>\n",
       "      <th>CONSTRUCTION AND OTHERS</th>\n",
       "      <th>ENERGY CONSUMPTION</th>\n",
       "      <th>NON-ENERGY CONSUMPTION</th>\n",
       "      <th>FINAL CONSUMPTION</th>\n",
       "    </tr>\n",
       "  </thead>\n",
       "  <tbody>\n",
       "    <tr>\n",
       "      <th>OIL</th>\n",
       "      <td>107651.575222</td>\n",
       "      <td>17695.372984</td>\n",
       "      <td>32985.746732</td>\n",
       "      <td>349.121380</td>\n",
       "      <td>NaN</td>\n",
       "      <td>92710.322854</td>\n",
       "      <td>-92507.066953</td>\n",
       "      <td>NaN</td>\n",
       "      <td>NaN</td>\n",
       "      <td>NaN</td>\n",
       "      <td>...</td>\n",
       "      <td>2.032559e+02</td>\n",
       "      <td>NaN</td>\n",
       "      <td>NaN</td>\n",
       "      <td>NaN</td>\n",
       "      <td>NaN</td>\n",
       "      <td>NaN</td>\n",
       "      <td>NaN</td>\n",
       "      <td>NaN</td>\n",
       "      <td>NaN</td>\n",
       "      <td>NaN</td>\n",
       "    </tr>\n",
       "    <tr>\n",
       "      <th>NATURAL GAS</th>\n",
       "      <td>18724.799905</td>\n",
       "      <td>11101.901921</td>\n",
       "      <td>NaN</td>\n",
       "      <td>-1209.095438</td>\n",
       "      <td>2359.435539</td>\n",
       "      <td>26258.170850</td>\n",
       "      <td>NaN</td>\n",
       "      <td>-4806.510809</td>\n",
       "      <td>-2171.785629</td>\n",
       "      <td>-1998.590784</td>\n",
       "      <td>...</td>\n",
       "      <td>3.946190e+00</td>\n",
       "      <td>1762.299794</td>\n",
       "      <td>8624.037791</td>\n",
       "      <td>254.563565</td>\n",
       "      <td>261.109093</td>\n",
       "      <td>629.125619</td>\n",
       "      <td>NaN</td>\n",
       "      <td>11531.135863</td>\n",
       "      <td>1448.989471</td>\n",
       "      <td>12980.125334</td>\n",
       "    </tr>\n",
       "    <tr>\n",
       "      <th>COAL</th>\n",
       "      <td>2099.250119</td>\n",
       "      <td>10840.479076</td>\n",
       "      <td>NaN</td>\n",
       "      <td>303.799880</td>\n",
       "      <td>NaN</td>\n",
       "      <td>13243.529075</td>\n",
       "      <td>NaN</td>\n",
       "      <td>-1717.040054</td>\n",
       "      <td>-183.617632</td>\n",
       "      <td>NaN</td>\n",
       "      <td>...</td>\n",
       "      <td>-1.818471e+00</td>\n",
       "      <td>NaN</td>\n",
       "      <td>2858.032507</td>\n",
       "      <td>NaN</td>\n",
       "      <td>NaN</td>\n",
       "      <td>366.702678</td>\n",
       "      <td>NaN</td>\n",
       "      <td>3224.735184</td>\n",
       "      <td>NaN</td>\n",
       "      <td>3224.735184</td>\n",
       "    </tr>\n",
       "    <tr>\n",
       "      <th>HYDROENERGY</th>\n",
       "      <td>34596.917235</td>\n",
       "      <td>NaN</td>\n",
       "      <td>NaN</td>\n",
       "      <td>NaN</td>\n",
       "      <td>NaN</td>\n",
       "      <td>34596.917235</td>\n",
       "      <td>NaN</td>\n",
       "      <td>-32821.950166</td>\n",
       "      <td>-1774.967069</td>\n",
       "      <td>NaN</td>\n",
       "      <td>...</td>\n",
       "      <td>NaN</td>\n",
       "      <td>NaN</td>\n",
       "      <td>NaN</td>\n",
       "      <td>NaN</td>\n",
       "      <td>NaN</td>\n",
       "      <td>NaN</td>\n",
       "      <td>NaN</td>\n",
       "      <td>NaN</td>\n",
       "      <td>NaN</td>\n",
       "      <td>NaN</td>\n",
       "    </tr>\n",
       "    <tr>\n",
       "      <th>GEOTHERMAL</th>\n",
       "      <td>NaN</td>\n",
       "      <td>NaN</td>\n",
       "      <td>NaN</td>\n",
       "      <td>NaN</td>\n",
       "      <td>NaN</td>\n",
       "      <td>NaN</td>\n",
       "      <td>NaN</td>\n",
       "      <td>NaN</td>\n",
       "      <td>NaN</td>\n",
       "      <td>NaN</td>\n",
       "      <td>...</td>\n",
       "      <td>NaN</td>\n",
       "      <td>NaN</td>\n",
       "      <td>NaN</td>\n",
       "      <td>NaN</td>\n",
       "      <td>NaN</td>\n",
       "      <td>NaN</td>\n",
       "      <td>NaN</td>\n",
       "      <td>NaN</td>\n",
       "      <td>NaN</td>\n",
       "      <td>NaN</td>\n",
       "    </tr>\n",
       "    <tr>\n",
       "      <th>NUCLEAR</th>\n",
       "      <td>3779.696515</td>\n",
       "      <td>NaN</td>\n",
       "      <td>NaN</td>\n",
       "      <td>NaN</td>\n",
       "      <td>NaN</td>\n",
       "      <td>3779.696515</td>\n",
       "      <td>NaN</td>\n",
       "      <td>-3779.696515</td>\n",
       "      <td>NaN</td>\n",
       "      <td>NaN</td>\n",
       "      <td>...</td>\n",
       "      <td>NaN</td>\n",
       "      <td>NaN</td>\n",
       "      <td>NaN</td>\n",
       "      <td>NaN</td>\n",
       "      <td>NaN</td>\n",
       "      <td>NaN</td>\n",
       "      <td>NaN</td>\n",
       "      <td>NaN</td>\n",
       "      <td>NaN</td>\n",
       "      <td>NaN</td>\n",
       "    </tr>\n",
       "    <tr>\n",
       "      <th>FIREWOOD</th>\n",
       "      <td>25932.879059</td>\n",
       "      <td>NaN</td>\n",
       "      <td>NaN</td>\n",
       "      <td>NaN</td>\n",
       "      <td>NaN</td>\n",
       "      <td>25932.879059</td>\n",
       "      <td>NaN</td>\n",
       "      <td>-13.915407</td>\n",
       "      <td>-294.106763</td>\n",
       "      <td>NaN</td>\n",
       "      <td>...</td>\n",
       "      <td>NaN</td>\n",
       "      <td>NaN</td>\n",
       "      <td>7145.849022</td>\n",
       "      <td>7257.957724</td>\n",
       "      <td>88.647326</td>\n",
       "      <td>2517.195060</td>\n",
       "      <td>NaN</td>\n",
       "      <td>17009.649132</td>\n",
       "      <td>NaN</td>\n",
       "      <td>17009.649132</td>\n",
       "    </tr>\n",
       "    <tr>\n",
       "      <th>SUGARCANE AND PRODUCTS</th>\n",
       "      <td>48898.730538</td>\n",
       "      <td>NaN</td>\n",
       "      <td>NaN</td>\n",
       "      <td>NaN</td>\n",
       "      <td>NaN</td>\n",
       "      <td>48898.730538</td>\n",
       "      <td>NaN</td>\n",
       "      <td>NaN</td>\n",
       "      <td>-4084.566021</td>\n",
       "      <td>NaN</td>\n",
       "      <td>...</td>\n",
       "      <td>-2.019515e-12</td>\n",
       "      <td>NaN</td>\n",
       "      <td>17305.238714</td>\n",
       "      <td>NaN</td>\n",
       "      <td>NaN</td>\n",
       "      <td>NaN</td>\n",
       "      <td>NaN</td>\n",
       "      <td>17305.238714</td>\n",
       "      <td>NaN</td>\n",
       "      <td>17305.238714</td>\n",
       "    </tr>\n",
       "    <tr>\n",
       "      <th>OTHER PRIMARY</th>\n",
       "      <td>10449.899462</td>\n",
       "      <td>NaN</td>\n",
       "      <td>NaN</td>\n",
       "      <td>NaN</td>\n",
       "      <td>NaN</td>\n",
       "      <td>10449.899462</td>\n",
       "      <td>NaN</td>\n",
       "      <td>-193.512056</td>\n",
       "      <td>-2172.648085</td>\n",
       "      <td>NaN</td>\n",
       "      <td>...</td>\n",
       "      <td>3.191940e-02</td>\n",
       "      <td>NaN</td>\n",
       "      <td>6048.919204</td>\n",
       "      <td>NaN</td>\n",
       "      <td>NaN</td>\n",
       "      <td>NaN</td>\n",
       "      <td>NaN</td>\n",
       "      <td>6048.919204</td>\n",
       "      <td>NaN</td>\n",
       "      <td>6048.919204</td>\n",
       "    </tr>\n",
       "    <tr>\n",
       "      <th>TOTAL PRIMARIES</th>\n",
       "      <td>252133.748055</td>\n",
       "      <td>39637.753982</td>\n",
       "      <td>32985.746732</td>\n",
       "      <td>-556.174178</td>\n",
       "      <td>2359.435539</td>\n",
       "      <td>255870.145588</td>\n",
       "      <td>-92507.066953</td>\n",
       "      <td>-43332.625006</td>\n",
       "      <td>-10681.691200</td>\n",
       "      <td>-1998.590784</td>\n",
       "      <td>...</td>\n",
       "      <td>2.054155e+02</td>\n",
       "      <td>1762.299794</td>\n",
       "      <td>41982.077238</td>\n",
       "      <td>7512.521289</td>\n",
       "      <td>349.756420</td>\n",
       "      <td>3513.023356</td>\n",
       "      <td>NaN</td>\n",
       "      <td>55119.678097</td>\n",
       "      <td>1448.989471</td>\n",
       "      <td>56568.667568</td>\n",
       "    </tr>\n",
       "    <tr>\n",
       "      <th>ELECTRICITY</th>\n",
       "      <td>44248.687366</td>\n",
       "      <td>3080.232041</td>\n",
       "      <td>107.875108</td>\n",
       "      <td>NaN</td>\n",
       "      <td>NaN</td>\n",
       "      <td>47221.044298</td>\n",
       "      <td>NaN</td>\n",
       "      <td>37986.654359</td>\n",
       "      <td>6262.033006</td>\n",
       "      <td>NaN</td>\n",
       "      <td>...</td>\n",
       "      <td>8.078059e-12</td>\n",
       "      <td>142.577559</td>\n",
       "      <td>16475.377454</td>\n",
       "      <td>9304.172303</td>\n",
       "      <td>9153.155045</td>\n",
       "      <td>2487.514307</td>\n",
       "      <td>NaN</td>\n",
       "      <td>37562.796668</td>\n",
       "      <td>NaN</td>\n",
       "      <td>37562.796668</td>\n",
       "    </tr>\n",
       "    <tr>\n",
       "      <th>LPG</th>\n",
       "      <td>5832.474172</td>\n",
       "      <td>1903.162384</td>\n",
       "      <td>4.571154</td>\n",
       "      <td>34.449855</td>\n",
       "      <td>NaN</td>\n",
       "      <td>7765.515256</td>\n",
       "      <td>4681.113085</td>\n",
       "      <td>NaN</td>\n",
       "      <td>NaN</td>\n",
       "      <td>1090.977658</td>\n",
       "      <td>...</td>\n",
       "      <td>7.740146e+01</td>\n",
       "      <td>NaN</td>\n",
       "      <td>681.129138</td>\n",
       "      <td>6281.960037</td>\n",
       "      <td>676.924296</td>\n",
       "      <td>26.964675</td>\n",
       "      <td>NaN</td>\n",
       "      <td>7666.978146</td>\n",
       "      <td>NaN</td>\n",
       "      <td>7666.978146</td>\n",
       "    </tr>\n",
       "    <tr>\n",
       "      <th>GASOLINE/ALCOHOL</th>\n",
       "      <td>36605.001384</td>\n",
       "      <td>5554.977688</td>\n",
       "      <td>1574.380955</td>\n",
       "      <td>-954.785853</td>\n",
       "      <td>NaN</td>\n",
       "      <td>39630.812264</td>\n",
       "      <td>22199.025890</td>\n",
       "      <td>NaN</td>\n",
       "      <td>NaN</td>\n",
       "      <td>NaN</td>\n",
       "      <td>...</td>\n",
       "      <td>-6.471422e+01</td>\n",
       "      <td>29537.435507</td>\n",
       "      <td>NaN</td>\n",
       "      <td>NaN</td>\n",
       "      <td>NaN</td>\n",
       "      <td>7.916289</td>\n",
       "      <td>NaN</td>\n",
       "      <td>29545.351796</td>\n",
       "      <td>8167.576534</td>\n",
       "      <td>37712.928329</td>\n",
       "    </tr>\n",
       "    <tr>\n",
       "      <th>KEROSENE/JET FUEL</th>\n",
       "      <td>3844.806917</td>\n",
       "      <td>1576.620606</td>\n",
       "      <td>1971.969005</td>\n",
       "      <td>-10.866664</td>\n",
       "      <td>NaN</td>\n",
       "      <td>3438.591855</td>\n",
       "      <td>3844.806917</td>\n",
       "      <td>NaN</td>\n",
       "      <td>NaN</td>\n",
       "      <td>NaN</td>\n",
       "      <td>...</td>\n",
       "      <td>2.214427e+02</td>\n",
       "      <td>3180.023922</td>\n",
       "      <td>2.160295</td>\n",
       "      <td>4.168053</td>\n",
       "      <td>NaN</td>\n",
       "      <td>0.608846</td>\n",
       "      <td>NaN</td>\n",
       "      <td>3186.961116</td>\n",
       "      <td>13.788343</td>\n",
       "      <td>3200.749459</td>\n",
       "    </tr>\n",
       "    <tr>\n",
       "      <th>DIESEL OIL</th>\n",
       "      <td>36307.677795</td>\n",
       "      <td>7461.761500</td>\n",
       "      <td>1280.176272</td>\n",
       "      <td>7.830876</td>\n",
       "      <td>NaN</td>\n",
       "      <td>42497.093898</td>\n",
       "      <td>34321.680793</td>\n",
       "      <td>-1778.081655</td>\n",
       "      <td>-335.568499</td>\n",
       "      <td>NaN</td>\n",
       "      <td>...</td>\n",
       "      <td>-4.575365e+01</td>\n",
       "      <td>33189.020041</td>\n",
       "      <td>380.724134</td>\n",
       "      <td>NaN</td>\n",
       "      <td>46.156722</td>\n",
       "      <td>5893.153463</td>\n",
       "      <td>NaN</td>\n",
       "      <td>39509.054360</td>\n",
       "      <td>NaN</td>\n",
       "      <td>39509.054360</td>\n",
       "    </tr>\n",
       "    <tr>\n",
       "      <th>FUEL OIL</th>\n",
       "      <td>14081.955251</td>\n",
       "      <td>152.338284</td>\n",
       "      <td>7874.109504</td>\n",
       "      <td>-10.453598</td>\n",
       "      <td>NaN</td>\n",
       "      <td>6349.730434</td>\n",
       "      <td>14081.955251</td>\n",
       "      <td>-879.645567</td>\n",
       "      <td>-235.647553</td>\n",
       "      <td>NaN</td>\n",
       "      <td>...</td>\n",
       "      <td>2.839939e+02</td>\n",
       "      <td>954.383669</td>\n",
       "      <td>2831.585241</td>\n",
       "      <td>NaN</td>\n",
       "      <td>27.601960</td>\n",
       "      <td>444.601959</td>\n",
       "      <td>NaN</td>\n",
       "      <td>4258.172829</td>\n",
       "      <td>NaN</td>\n",
       "      <td>4258.172829</td>\n",
       "    </tr>\n",
       "    <tr>\n",
       "      <th>COKE</th>\n",
       "      <td>6324.372524</td>\n",
       "      <td>1239.870336</td>\n",
       "      <td>NaN</td>\n",
       "      <td>-56.439712</td>\n",
       "      <td>NaN</td>\n",
       "      <td>7507.803148</td>\n",
       "      <td>NaN</td>\n",
       "      <td>NaN</td>\n",
       "      <td>NaN</td>\n",
       "      <td>NaN</td>\n",
       "      <td>...</td>\n",
       "      <td>-2.615499e-01</td>\n",
       "      <td>NaN</td>\n",
       "      <td>7441.575965</td>\n",
       "      <td>NaN</td>\n",
       "      <td>NaN</td>\n",
       "      <td>56.164396</td>\n",
       "      <td>NaN</td>\n",
       "      <td>7497.740361</td>\n",
       "      <td>NaN</td>\n",
       "      <td>7497.740361</td>\n",
       "    </tr>\n",
       "    <tr>\n",
       "      <th>CHARCOAL</th>\n",
       "      <td>4754.799868</td>\n",
       "      <td>0.644398</td>\n",
       "      <td>NaN</td>\n",
       "      <td>NaN</td>\n",
       "      <td>NaN</td>\n",
       "      <td>4755.444266</td>\n",
       "      <td>NaN</td>\n",
       "      <td>NaN</td>\n",
       "      <td>-24.409795</td>\n",
       "      <td>NaN</td>\n",
       "      <td>...</td>\n",
       "      <td>-2.460956e+01</td>\n",
       "      <td>NaN</td>\n",
       "      <td>4035.078234</td>\n",
       "      <td>507.740482</td>\n",
       "      <td>85.956243</td>\n",
       "      <td>7.487904</td>\n",
       "      <td>NaN</td>\n",
       "      <td>4636.262864</td>\n",
       "      <td>NaN</td>\n",
       "      <td>4636.262864</td>\n",
       "    </tr>\n",
       "    <tr>\n",
       "      <th>GASES</th>\n",
       "      <td>1975.082265</td>\n",
       "      <td>NaN</td>\n",
       "      <td>0.414952</td>\n",
       "      <td>NaN</td>\n",
       "      <td>NaN</td>\n",
       "      <td>1974.667313</td>\n",
       "      <td>NaN</td>\n",
       "      <td>NaN</td>\n",
       "      <td>-315.646783</td>\n",
       "      <td>NaN</td>\n",
       "      <td>...</td>\n",
       "      <td>-1.372257e+01</td>\n",
       "      <td>NaN</td>\n",
       "      <td>1345.955054</td>\n",
       "      <td>NaN</td>\n",
       "      <td>NaN</td>\n",
       "      <td>NaN</td>\n",
       "      <td>NaN</td>\n",
       "      <td>1345.955054</td>\n",
       "      <td>142.792130</td>\n",
       "      <td>1488.747184</td>\n",
       "    </tr>\n",
       "    <tr>\n",
       "      <th>OTHER SECONDARY</th>\n",
       "      <td>9024.225012</td>\n",
       "      <td>3387.567064</td>\n",
       "      <td>157.154472</td>\n",
       "      <td>-7.867438</td>\n",
       "      <td>NaN</td>\n",
       "      <td>12246.770165</td>\n",
       "      <td>6986.097769</td>\n",
       "      <td>-0.008327</td>\n",
       "      <td>-465.397342</td>\n",
       "      <td>NaN</td>\n",
       "      <td>...</td>\n",
       "      <td>-5.635856e+00</td>\n",
       "      <td>NaN</td>\n",
       "      <td>7003.883813</td>\n",
       "      <td>NaN</td>\n",
       "      <td>NaN</td>\n",
       "      <td>508.009741</td>\n",
       "      <td>NaN</td>\n",
       "      <td>7511.893555</td>\n",
       "      <td>98.493554</td>\n",
       "      <td>7610.387108</td>\n",
       "    </tr>\n",
       "    <tr>\n",
       "      <th>NON-ENERGY</th>\n",
       "      <td>7190.218168</td>\n",
       "      <td>1724.205496</td>\n",
       "      <td>489.840664</td>\n",
       "      <td>-174.792022</td>\n",
       "      <td>NaN</td>\n",
       "      <td>8249.790978</td>\n",
       "      <td>6308.117222</td>\n",
       "      <td>NaN</td>\n",
       "      <td>NaN</td>\n",
       "      <td>882.100946</td>\n",
       "      <td>...</td>\n",
       "      <td>7.921725e+03</td>\n",
       "      <td>NaN</td>\n",
       "      <td>NaN</td>\n",
       "      <td>NaN</td>\n",
       "      <td>NaN</td>\n",
       "      <td>NaN</td>\n",
       "      <td>NaN</td>\n",
       "      <td>NaN</td>\n",
       "      <td>NaN</td>\n",
       "      <td>NaN</td>\n",
       "    </tr>\n",
       "    <tr>\n",
       "      <th>TOTAL SECUNDARIES</th>\n",
       "      <td>170189.300721</td>\n",
       "      <td>26081.379796</td>\n",
       "      <td>13460.492086</td>\n",
       "      <td>-1172.924556</td>\n",
       "      <td>NaN</td>\n",
       "      <td>181637.263875</td>\n",
       "      <td>92422.796928</td>\n",
       "      <td>37986.654359</td>\n",
       "      <td>6262.033006</td>\n",
       "      <td>1973.078604</td>\n",
       "      <td>...</td>\n",
       "      <td>8.349865e+03</td>\n",
       "      <td>67003.440698</td>\n",
       "      <td>40197.469329</td>\n",
       "      <td>16098.040875</td>\n",
       "      <td>9989.794267</td>\n",
       "      <td>9432.421579</td>\n",
       "      <td>NaN</td>\n",
       "      <td>142721.166747</td>\n",
       "      <td>8422.650560</td>\n",
       "      <td>151143.817308</td>\n",
       "    </tr>\n",
       "    <tr>\n",
       "      <th>TOTAL</th>\n",
       "      <td>252133.748055</td>\n",
       "      <td>65719.133778</td>\n",
       "      <td>46446.238817</td>\n",
       "      <td>-1729.098734</td>\n",
       "      <td>2359.435539</td>\n",
       "      <td>267318.108742</td>\n",
       "      <td>-84.270025</td>\n",
       "      <td>-8003.706196</td>\n",
       "      <td>-5796.328166</td>\n",
       "      <td>-25.512180</td>\n",
       "      <td>...</td>\n",
       "      <td>8.555281e+03</td>\n",
       "      <td>68765.740492</td>\n",
       "      <td>82179.546567</td>\n",
       "      <td>23610.562164</td>\n",
       "      <td>10339.550687</td>\n",
       "      <td>12945.444935</td>\n",
       "      <td>NaN</td>\n",
       "      <td>197840.844845</td>\n",
       "      <td>9871.640031</td>\n",
       "      <td>207712.484876</td>\n",
       "    </tr>\n",
       "  </tbody>\n",
       "</table>\n",
       "<p>23 rows × 27 columns</p>\n",
       "</div>"
      ],
      "text/plain": [
       "TITLE                      PRODUCTION        IMPORT        EXPORT  \\\n",
       "OIL                     107651.575222  17695.372984  32985.746732   \n",
       "NATURAL GAS              18724.799905  11101.901921           NaN   \n",
       "COAL                      2099.250119  10840.479076           NaN   \n",
       "HYDROENERGY              34596.917235           NaN           NaN   \n",
       "GEOTHERMAL                        NaN           NaN           NaN   \n",
       "NUCLEAR                   3779.696515           NaN           NaN   \n",
       "FIREWOOD                 25932.879059           NaN           NaN   \n",
       "SUGARCANE AND PRODUCTS   48898.730538           NaN           NaN   \n",
       "OTHER PRIMARY            10449.899462           NaN           NaN   \n",
       "TOTAL PRIMARIES         252133.748055  39637.753982  32985.746732   \n",
       "ELECTRICITY              44248.687366   3080.232041    107.875108   \n",
       "LPG                       5832.474172   1903.162384      4.571154   \n",
       "GASOLINE/ALCOHOL         36605.001384   5554.977688   1574.380955   \n",
       "KEROSENE/JET FUEL         3844.806917   1576.620606   1971.969005   \n",
       "DIESEL OIL               36307.677795   7461.761500   1280.176272   \n",
       "FUEL OIL                 14081.955251    152.338284   7874.109504   \n",
       "COKE                      6324.372524   1239.870336           NaN   \n",
       "CHARCOAL                  4754.799868      0.644398           NaN   \n",
       "GASES                     1975.082265           NaN      0.414952   \n",
       "OTHER SECONDARY           9024.225012   3387.567064    157.154472   \n",
       "NON-ENERGY                7190.218168   1724.205496    489.840664   \n",
       "TOTAL SECUNDARIES       170189.300721  26081.379796  13460.492086   \n",
       "TOTAL                   252133.748055  65719.133778  46446.238817   \n",
       "\n",
       "TITLE                   STOCK CHANGE       UNUSED   TOTAL SUPPLY  \\\n",
       "OIL                       349.121380          NaN   92710.322854   \n",
       "NATURAL GAS             -1209.095438  2359.435539   26258.170850   \n",
       "COAL                      303.799880          NaN   13243.529075   \n",
       "HYDROENERGY                      NaN          NaN   34596.917235   \n",
       "GEOTHERMAL                       NaN          NaN            NaN   \n",
       "NUCLEAR                          NaN          NaN    3779.696515   \n",
       "FIREWOOD                         NaN          NaN   25932.879059   \n",
       "SUGARCANE AND PRODUCTS           NaN          NaN   48898.730538   \n",
       "OTHER PRIMARY                    NaN          NaN   10449.899462   \n",
       "TOTAL PRIMARIES          -556.174178  2359.435539  255870.145588   \n",
       "ELECTRICITY                      NaN          NaN   47221.044298   \n",
       "LPG                        34.449855          NaN    7765.515256   \n",
       "GASOLINE/ALCOHOL         -954.785853          NaN   39630.812264   \n",
       "KEROSENE/JET FUEL         -10.866664          NaN    3438.591855   \n",
       "DIESEL OIL                  7.830876          NaN   42497.093898   \n",
       "FUEL OIL                  -10.453598          NaN    6349.730434   \n",
       "COKE                      -56.439712          NaN    7507.803148   \n",
       "CHARCOAL                         NaN          NaN    4755.444266   \n",
       "GASES                            NaN          NaN    1974.667313   \n",
       "OTHER SECONDARY            -7.867438          NaN   12246.770165   \n",
       "NON-ENERGY               -174.792022          NaN    8249.790978   \n",
       "TOTAL SECUNDARIES       -1172.924556          NaN  181637.263875   \n",
       "TOTAL                   -1729.098734  2359.435539  267318.108742   \n",
       "\n",
       "TITLE                     REFINERIES  POWER PLANTS   SELF-PRODUCERS  \\\n",
       "OIL                    -92507.066953            NaN             NaN   \n",
       "NATURAL GAS                      NaN   -4806.510809    -2171.785629   \n",
       "COAL                             NaN   -1717.040054     -183.617632   \n",
       "HYDROENERGY                      NaN  -32821.950166    -1774.967069   \n",
       "GEOTHERMAL                       NaN            NaN             NaN   \n",
       "NUCLEAR                          NaN   -3779.696515             NaN   \n",
       "FIREWOOD                         NaN     -13.915407     -294.106763   \n",
       "SUGARCANE AND PRODUCTS           NaN            NaN    -4084.566021   \n",
       "OTHER PRIMARY                    NaN    -193.512056    -2172.648085   \n",
       "TOTAL PRIMARIES        -92507.066953  -43332.625006   -10681.691200   \n",
       "ELECTRICITY                      NaN   37986.654359     6262.033006   \n",
       "LPG                      4681.113085            NaN             NaN   \n",
       "GASOLINE/ALCOHOL        22199.025890            NaN             NaN   \n",
       "KEROSENE/JET FUEL        3844.806917            NaN             NaN   \n",
       "DIESEL OIL              34321.680793   -1778.081655     -335.568499   \n",
       "FUEL OIL                14081.955251    -879.645567     -235.647553   \n",
       "COKE                             NaN            NaN             NaN   \n",
       "CHARCOAL                         NaN            NaN      -24.409795   \n",
       "GASES                            NaN            NaN     -315.646783   \n",
       "OTHER SECONDARY          6986.097769      -0.008327     -465.397342   \n",
       "NON-ENERGY               6308.117222            NaN             NaN   \n",
       "TOTAL SECUNDARIES       92422.796928   37986.654359     6262.033006   \n",
       "TOTAL                     -84.270025   -8003.706196    -5796.328166   \n",
       "\n",
       "TITLE                    GAS PLANTS  ...    ADJUSTMENT     TRANSPORT  \\\n",
       "OIL                             NaN  ...  2.032559e+02           NaN   \n",
       "NATURAL GAS            -1998.590784  ...  3.946190e+00   1762.299794   \n",
       "COAL                            NaN  ... -1.818471e+00           NaN   \n",
       "HYDROENERGY                     NaN  ...           NaN           NaN   \n",
       "GEOTHERMAL                      NaN  ...           NaN           NaN   \n",
       "NUCLEAR                         NaN  ...           NaN           NaN   \n",
       "FIREWOOD                        NaN  ...           NaN           NaN   \n",
       "SUGARCANE AND PRODUCTS          NaN  ... -2.019515e-12           NaN   \n",
       "OTHER PRIMARY                   NaN  ...  3.191940e-02           NaN   \n",
       "TOTAL PRIMARIES        -1998.590784  ...  2.054155e+02   1762.299794   \n",
       "ELECTRICITY                     NaN  ...  8.078059e-12    142.577559   \n",
       "LPG                     1090.977658  ...  7.740146e+01           NaN   \n",
       "GASOLINE/ALCOHOL                NaN  ... -6.471422e+01  29537.435507   \n",
       "KEROSENE/JET FUEL               NaN  ...  2.214427e+02   3180.023922   \n",
       "DIESEL OIL                      NaN  ... -4.575365e+01  33189.020041   \n",
       "FUEL OIL                        NaN  ...  2.839939e+02    954.383669   \n",
       "COKE                            NaN  ... -2.615499e-01           NaN   \n",
       "CHARCOAL                        NaN  ... -2.460956e+01           NaN   \n",
       "GASES                           NaN  ... -1.372257e+01           NaN   \n",
       "OTHER SECONDARY                 NaN  ... -5.635856e+00           NaN   \n",
       "NON-ENERGY               882.100946  ...  7.921725e+03           NaN   \n",
       "TOTAL SECUNDARIES       1973.078604  ...  8.349865e+03  67003.440698   \n",
       "TOTAL                    -25.512180  ...  8.555281e+03  68765.740492   \n",
       "\n",
       "TITLE                     INDUSTRIAL   RESIDENTIAL  \\\n",
       "OIL                              NaN           NaN   \n",
       "NATURAL GAS              8624.037791    254.563565   \n",
       "COAL                     2858.032507           NaN   \n",
       "HYDROENERGY                      NaN           NaN   \n",
       "GEOTHERMAL                       NaN           NaN   \n",
       "NUCLEAR                          NaN           NaN   \n",
       "FIREWOOD                 7145.849022   7257.957724   \n",
       "SUGARCANE AND PRODUCTS  17305.238714           NaN   \n",
       "OTHER PRIMARY            6048.919204           NaN   \n",
       "TOTAL PRIMARIES         41982.077238   7512.521289   \n",
       "ELECTRICITY             16475.377454   9304.172303   \n",
       "LPG                       681.129138   6281.960037   \n",
       "GASOLINE/ALCOHOL                 NaN           NaN   \n",
       "KEROSENE/JET FUEL           2.160295      4.168053   \n",
       "DIESEL OIL                380.724134           NaN   \n",
       "FUEL OIL                 2831.585241           NaN   \n",
       "COKE                     7441.575965           NaN   \n",
       "CHARCOAL                 4035.078234    507.740482   \n",
       "GASES                    1345.955054           NaN   \n",
       "OTHER SECONDARY          7003.883813           NaN   \n",
       "NON-ENERGY                       NaN           NaN   \n",
       "TOTAL SECUNDARIES       40197.469329  16098.040875   \n",
       "TOTAL                   82179.546567  23610.562164   \n",
       "\n",
       "TITLE                   COMMERCIAL, SERVICES, PUBLIC  \\\n",
       "OIL                                              NaN   \n",
       "NATURAL GAS                               261.109093   \n",
       "COAL                                             NaN   \n",
       "HYDROENERGY                                      NaN   \n",
       "GEOTHERMAL                                       NaN   \n",
       "NUCLEAR                                          NaN   \n",
       "FIREWOOD                                   88.647326   \n",
       "SUGARCANE AND PRODUCTS                           NaN   \n",
       "OTHER PRIMARY                                    NaN   \n",
       "TOTAL PRIMARIES                           349.756420   \n",
       "ELECTRICITY                              9153.155045   \n",
       "LPG                                       676.924296   \n",
       "GASOLINE/ALCOHOL                                 NaN   \n",
       "KEROSENE/JET FUEL                                NaN   \n",
       "DIESEL OIL                                 46.156722   \n",
       "FUEL OIL                                   27.601960   \n",
       "COKE                                             NaN   \n",
       "CHARCOAL                                   85.956243   \n",
       "GASES                                            NaN   \n",
       "OTHER SECONDARY                                  NaN   \n",
       "NON-ENERGY                                       NaN   \n",
       "TOTAL SECUNDARIES                        9989.794267   \n",
       "TOTAL                                   10339.550687   \n",
       "\n",
       "TITLE                   AGRICULTURE, FISHING AND MINING  \\\n",
       "OIL                                                 NaN   \n",
       "NATURAL GAS                                  629.125619   \n",
       "COAL                                         366.702678   \n",
       "HYDROENERGY                                         NaN   \n",
       "GEOTHERMAL                                          NaN   \n",
       "NUCLEAR                                             NaN   \n",
       "FIREWOOD                                    2517.195060   \n",
       "SUGARCANE AND PRODUCTS                              NaN   \n",
       "OTHER PRIMARY                                       NaN   \n",
       "TOTAL PRIMARIES                             3513.023356   \n",
       "ELECTRICITY                                 2487.514307   \n",
       "LPG                                           26.964675   \n",
       "GASOLINE/ALCOHOL                               7.916289   \n",
       "KEROSENE/JET FUEL                              0.608846   \n",
       "DIESEL OIL                                  5893.153463   \n",
       "FUEL OIL                                     444.601959   \n",
       "COKE                                          56.164396   \n",
       "CHARCOAL                                       7.487904   \n",
       "GASES                                               NaN   \n",
       "OTHER SECONDARY                              508.009741   \n",
       "NON-ENERGY                                          NaN   \n",
       "TOTAL SECUNDARIES                           9432.421579   \n",
       "TOTAL                                      12945.444935   \n",
       "\n",
       "TITLE                   CONSTRUCTION AND OTHERS  ENERGY CONSUMPTION  \\\n",
       "OIL                                         NaN                 NaN   \n",
       "NATURAL GAS                                 NaN        11531.135863   \n",
       "COAL                                        NaN         3224.735184   \n",
       "HYDROENERGY                                 NaN                 NaN   \n",
       "GEOTHERMAL                                  NaN                 NaN   \n",
       "NUCLEAR                                     NaN                 NaN   \n",
       "FIREWOOD                                    NaN        17009.649132   \n",
       "SUGARCANE AND PRODUCTS                      NaN        17305.238714   \n",
       "OTHER PRIMARY                               NaN         6048.919204   \n",
       "TOTAL PRIMARIES                             NaN        55119.678097   \n",
       "ELECTRICITY                                 NaN        37562.796668   \n",
       "LPG                                         NaN         7666.978146   \n",
       "GASOLINE/ALCOHOL                            NaN        29545.351796   \n",
       "KEROSENE/JET FUEL                           NaN         3186.961116   \n",
       "DIESEL OIL                                  NaN        39509.054360   \n",
       "FUEL OIL                                    NaN         4258.172829   \n",
       "COKE                                        NaN         7497.740361   \n",
       "CHARCOAL                                    NaN         4636.262864   \n",
       "GASES                                       NaN         1345.955054   \n",
       "OTHER SECONDARY                             NaN         7511.893555   \n",
       "NON-ENERGY                                  NaN                 NaN   \n",
       "TOTAL SECUNDARIES                           NaN       142721.166747   \n",
       "TOTAL                                       NaN       197840.844845   \n",
       "\n",
       "TITLE                   NON-ENERGY CONSUMPTION  FINAL CONSUMPTION  \n",
       "OIL                                        NaN                NaN  \n",
       "NATURAL GAS                        1448.989471       12980.125334  \n",
       "COAL                                       NaN        3224.735184  \n",
       "HYDROENERGY                                NaN                NaN  \n",
       "GEOTHERMAL                                 NaN                NaN  \n",
       "NUCLEAR                                    NaN                NaN  \n",
       "FIREWOOD                                   NaN       17009.649132  \n",
       "SUGARCANE AND PRODUCTS                     NaN       17305.238714  \n",
       "OTHER PRIMARY                              NaN        6048.919204  \n",
       "TOTAL PRIMARIES                    1448.989471       56568.667568  \n",
       "ELECTRICITY                                NaN       37562.796668  \n",
       "LPG                                        NaN        7666.978146  \n",
       "GASOLINE/ALCOHOL                   8167.576534       37712.928329  \n",
       "KEROSENE/JET FUEL                    13.788343        3200.749459  \n",
       "DIESEL OIL                                 NaN       39509.054360  \n",
       "FUEL OIL                                   NaN        4258.172829  \n",
       "COKE                                       NaN        7497.740361  \n",
       "CHARCOAL                                   NaN        4636.262864  \n",
       "GASES                               142.792130        1488.747184  \n",
       "OTHER SECONDARY                      98.493554        7610.387108  \n",
       "NON-ENERGY                                 NaN                NaN  \n",
       "TOTAL SECUNDARIES                  8422.650560      151143.817308  \n",
       "TOTAL                              9871.640031      207712.484876  \n",
       "\n",
       "[23 rows x 27 columns]"
      ]
     },
     "execution_count": 6,
     "metadata": {},
     "output_type": "execute_result"
    }
   ],
   "source": [
    "df=pd.read_excel(\"Brazil_Energy balance matrix.xlsx\",sheet_name=\"2010 - Brazil\",skiprows=4,nrows=28)\n",
    "df=df.drop([0])\n",
    "columns=['TITLE','OIL','NATURAL GAS','COAL','HYDROENERGY','GEOTHERMAL','NUCLEAR','FIREWOOD','SUGARCANE AND PRODUCTS','OTHER PRIMARY','TOTAL PRIMARIES','ELECTRICITY','LPG','GASOLINE/ALCOHOL','KEROSENE/JET FUEL','DIESEL OIL','FUEL OIL','COKE','CHARCOAL','GASES','OTHER SECONDARY','NON-ENERGY','TOTAL SECUNDARIES','TOTAL']\n",
    "rows=['PRODUCTION','IMPORT','EXPORT','STOCK CHANGE','UNUSED','TOTAL SUPPLY','REFINERIES','POWER PLANTS ','SELF-PRODUCERS','GAS PLANTS','CHARCOAL PLANTS','COKE PLANTS AND BLAST FURNACES','DISTILLERIES','OTHER CENTERS','TOTAL TRANSFORMATION','OWN CONSUMPTION','LOSSES','ADJUSTMENT','TRANSPORT','INDUSTRIAL','RESIDENTIAL','COMMERCIAL, SERVICES, PUBLIC','AGRICULTURE, FISHING AND MINING','CONSTRUCTION AND OTHERS','ENERGY CONSUMPTION','NON-ENERGY CONSUMPTION','FINAL CONSUMPTION']\n",
    "\n",
    "df.columns=columns\n",
    "df['TITLE']=rows\n",
    "\n",
    "df=df.set_index('TITLE')\n",
    "df=df.T\n",
    "df=df.fillna(np.nan)\n",
    "df"
   ]
  },
  {
   "cell_type": "code",
   "execution_count": 13,
   "id": "35501e54",
   "metadata": {},
   "outputs": [],
   "source": [
    "# define the combinations\n",
    "Transformers=['REFINERIES','POWER PLANTS ','SELF-PRODUCERS','GAS PLANTS','CHARCOAL PLANTS','COKE PLANTS AND BLAST FURNACES','DISTILLERIES','OTHER CENTERS']\n",
    "Primaries=['OIL','NATURAL GAS','COAL','HYDROENERGY','GEOTHERMAL','NUCLEAR','FIREWOOD','SUGARCANE AND PRODUCTS','OTHER PRIMARY']\n",
    "Secondaries=['ELECTRICITY','LPG','GASOLINE/ALCOHOL','KEROSENE/JET FUEL','DIESEL OIL','FUEL OIL','COKE','CHARCOAL','GASES','OTHER SECONDARY']\n",
    "Usage=['TRANSPORT','INDUSTRIAL','RESIDENTIAL','COMMERCIAL, SERVICES, PUBLIC','AGRICULTURE, FISHING AND MINING','CONSTRUCTION AND OTHERS']\n",
    "\n",
    "unique_combinations = []\n",
    "\n",
    "# here add secondary combination then type of consumption combination\n",
    "\n",
    "for i in Transformers:\n",
    "    for j in Primaries:\n",
    "        unique_combinations.append((j, i,abs(df[i][j])))\n",
    "\n",
    "for i in Transformers:\n",
    "    for j in Secondaries:\n",
    "        unique_combinations.append((i, j,abs(df[i][j])))\n",
    "\n",
    "#get the final consumption column     \n",
    "\n",
    "for i in Primaries+Secondaries:\n",
    "        unique_combinations.append((i, i+'-FINAL CONSUMPTION',abs(df['FINAL CONSUMPTION'][i])))\n",
    "\n",
    "# the final consumption column - Usage column\n",
    "for i in Primaries+Secondaries:\n",
    "    for j in Usage:\n",
    "        unique_combinations.append((i+'-FINAL CONSUMPTION', j,abs(df['FINAL CONSUMPTION'][i])))\n",
    "        \n",
    "source = []\n",
    "target = []\n",
    "value = []\n",
    "\n",
    "\n",
    "label=Transformers+Primaries+Secondaries+Usage+[i+'-FINAL CONSUMPTION' for i in Primaries+Secondaries]\n",
    "\n",
    "\n",
    "for k in unique_combinations:\n",
    "    source.append(labels.index(k[0]))\n",
    "    target.append(labels.index(k[1]))\n",
    "    value.append(k[2])"
   ]
  },
  {
   "cell_type": "code",
   "execution_count": null,
   "id": "508be3df-0644-489c-876d-9a0600cf7888",
   "metadata": {},
   "outputs": [],
   "source": []
  },
  {
   "cell_type": "markdown",
   "id": "b86ed3a5",
   "metadata": {},
   "source": [
    "# the Sankey Plot"
   ]
  },
  {
   "cell_type": "code",
   "execution_count": 14,
   "id": "faef667c",
   "metadata": {},
   "outputs": [
    {
     "data": {
      "application/vnd.plotly.v1+json": {
       "config": {
        "plotlyServerURL": "https://plot.ly"
       },
       "data": [
        {
         "link": {
          "source": [
           8,
           9,
           10,
           11,
           12,
           13,
           14,
           15,
           16,
           8,
           9,
           10,
           11,
           12,
           13,
           14,
           15,
           16,
           8,
           9,
           10,
           11,
           12,
           13,
           14,
           15,
           16,
           8,
           9,
           10,
           11,
           12,
           13,
           14,
           15,
           16,
           8,
           9,
           10,
           11,
           12,
           13,
           14,
           15,
           16,
           8,
           9,
           10,
           11,
           12,
           13,
           14,
           15,
           16,
           8,
           9,
           10,
           11,
           12,
           13,
           14,
           15,
           16,
           8,
           9,
           10,
           11,
           12,
           13,
           14,
           15,
           16,
           0,
           0,
           0,
           0,
           0,
           0,
           0,
           0,
           0,
           0,
           1,
           1,
           1,
           1,
           1,
           1,
           1,
           1,
           1,
           1,
           2,
           2,
           2,
           2,
           2,
           2,
           2,
           2,
           2,
           2,
           3,
           3,
           3,
           3,
           3,
           3,
           3,
           3,
           3,
           3,
           4,
           4,
           4,
           4,
           4,
           4,
           4,
           4,
           4,
           4,
           5,
           5,
           5,
           5,
           5,
           5,
           5,
           5,
           5,
           5,
           6,
           6,
           6,
           6,
           6,
           6,
           6,
           6,
           6,
           6,
           7,
           7,
           7,
           7,
           7,
           7,
           7,
           7,
           7,
           7,
           8,
           9,
           10,
           11,
           12,
           13,
           14,
           15,
           16,
           17,
           18,
           19,
           20,
           21,
           22,
           23,
           24,
           25,
           26,
           33,
           33,
           33,
           33,
           33,
           33,
           34,
           34,
           34,
           34,
           34,
           34,
           35,
           35,
           35,
           35,
           35,
           35,
           36,
           36,
           36,
           36,
           36,
           36,
           37,
           37,
           37,
           37,
           37,
           37,
           38,
           38,
           38,
           38,
           38,
           38,
           39,
           39,
           39,
           39,
           39,
           39,
           40,
           40,
           40,
           40,
           40,
           40,
           41,
           41,
           41,
           41,
           41,
           41,
           42,
           42,
           42,
           42,
           42,
           42,
           43,
           43,
           43,
           43,
           43,
           43,
           44,
           44,
           44,
           44,
           44,
           44,
           45,
           45,
           45,
           45,
           45,
           45,
           46,
           46,
           46,
           46,
           46,
           46,
           47,
           47,
           47,
           47,
           47,
           47,
           48,
           48,
           48,
           48,
           48,
           48,
           49,
           49,
           49,
           49,
           49,
           49,
           50,
           50,
           50,
           50,
           50,
           50,
           51,
           51,
           51,
           51,
           51,
           51
          ],
          "target": [
           0,
           0,
           0,
           0,
           0,
           0,
           0,
           0,
           0,
           1,
           1,
           1,
           1,
           1,
           1,
           1,
           1,
           1,
           2,
           2,
           2,
           2,
           2,
           2,
           2,
           2,
           2,
           3,
           3,
           3,
           3,
           3,
           3,
           3,
           3,
           3,
           4,
           4,
           4,
           4,
           4,
           4,
           4,
           4,
           4,
           5,
           5,
           5,
           5,
           5,
           5,
           5,
           5,
           5,
           6,
           6,
           6,
           6,
           6,
           6,
           6,
           6,
           6,
           7,
           7,
           7,
           7,
           7,
           7,
           7,
           7,
           7,
           17,
           18,
           19,
           20,
           21,
           22,
           23,
           24,
           25,
           26,
           17,
           18,
           19,
           20,
           21,
           22,
           23,
           24,
           25,
           26,
           17,
           18,
           19,
           20,
           21,
           22,
           23,
           24,
           25,
           26,
           17,
           18,
           19,
           20,
           21,
           22,
           23,
           24,
           25,
           26,
           17,
           18,
           19,
           20,
           21,
           22,
           23,
           24,
           25,
           26,
           17,
           18,
           19,
           20,
           21,
           22,
           23,
           24,
           25,
           26,
           17,
           18,
           19,
           20,
           21,
           22,
           23,
           24,
           25,
           26,
           17,
           18,
           19,
           20,
           21,
           22,
           23,
           24,
           25,
           26,
           33,
           34,
           35,
           36,
           37,
           38,
           39,
           40,
           41,
           42,
           43,
           44,
           45,
           46,
           47,
           48,
           49,
           50,
           51,
           27,
           28,
           29,
           30,
           31,
           32,
           27,
           28,
           29,
           30,
           31,
           32,
           27,
           28,
           29,
           30,
           31,
           32,
           27,
           28,
           29,
           30,
           31,
           32,
           27,
           28,
           29,
           30,
           31,
           32,
           27,
           28,
           29,
           30,
           31,
           32,
           27,
           28,
           29,
           30,
           31,
           32,
           27,
           28,
           29,
           30,
           31,
           32,
           27,
           28,
           29,
           30,
           31,
           32,
           27,
           28,
           29,
           30,
           31,
           32,
           27,
           28,
           29,
           30,
           31,
           32,
           27,
           28,
           29,
           30,
           31,
           32,
           27,
           28,
           29,
           30,
           31,
           32,
           27,
           28,
           29,
           30,
           31,
           32,
           27,
           28,
           29,
           30,
           31,
           32,
           27,
           28,
           29,
           30,
           31,
           32,
           27,
           28,
           29,
           30,
           31,
           32,
           27,
           28,
           29,
           30,
           31,
           32,
           27,
           28,
           29,
           30,
           31,
           32
          ],
          "value": [
           92507.06695267127,
           null,
           null,
           null,
           null,
           null,
           null,
           null,
           null,
           null,
           4806.510808641933,
           1717.0400542919713,
           32821.950165601265,
           null,
           3779.69651450593,
           13.915406886983122,
           null,
           193.51205639999998,
           null,
           2171.7856288156418,
           183.6176321402209,
           1774.9670693987496,
           null,
           null,
           294.10676302535063,
           4084.5660209999996,
           2172.6480851999995,
           null,
           1998.5907841904466,
           null,
           null,
           null,
           null,
           null,
           null,
           null,
           null,
           null,
           null,
           null,
           null,
           null,
           8615.20775786446,
           null,
           null,
           null,
           null,
           8085.442103531215,
           null,
           null,
           null,
           null,
           null,
           null,
           null,
           null,
           null,
           null,
           null,
           null,
           null,
           14719.915808999998,
           null,
           null,
           null,
           null,
           null,
           null,
           null,
           null,
           null,
           2034.7881966,
           null,
           4681.113085278925,
           22199.025889774326,
           3844.8069174,
           34321.68079285804,
           14081.955251399957,
           null,
           null,
           null,
           6986.097768599999,
           37986.654359481785,
           null,
           null,
           null,
           1778.0816551714283,
           879.6455667629784,
           null,
           null,
           null,
           0.008326799999999999,
           6262.033006118245,
           null,
           null,
           null,
           335.5684990326484,
           235.64755349130292,
           null,
           24.40979458150152,
           315.64678319999996,
           465.39734219999997,
           null,
           1090.9776582313511,
           null,
           null,
           null,
           null,
           null,
           null,
           null,
           null,
           null,
           null,
           null,
           null,
           null,
           null,
           null,
           4754.799867599996,
           null,
           null,
           null,
           null,
           null,
           null,
           null,
           null,
           6324.3725238,
           null,
           1975.082265,
           612.5554907999999,
           null,
           null,
           14405.975494225679,
           null,
           null,
           null,
           null,
           null,
           null,
           null,
           null,
           60.38342800887157,
           1828.3804111761774,
           null,
           1985.9970019214795,
           null,
           null,
           null,
           null,
           2038.1272433999998,
           null,
           12980.125333706428,
           3224.735184287254,
           null,
           null,
           null,
           17009.649131623253,
           17305.2387144,
           6048.9192041999995,
           37562.79666803131,
           7666.978145853511,
           37712.928329339076,
           3200.749459248581,
           39509.05435953564,
           4258.172828773184,
           7497.740360656918,
           4636.2628635538695,
           1488.7471841999998,
           7610.387108399999,
           null,
           null,
           null,
           null,
           null,
           null,
           12980.125333706428,
           12980.125333706428,
           12980.125333706428,
           12980.125333706428,
           12980.125333706428,
           12980.125333706428,
           3224.735184287254,
           3224.735184287254,
           3224.735184287254,
           3224.735184287254,
           3224.735184287254,
           3224.735184287254,
           null,
           null,
           null,
           null,
           null,
           null,
           null,
           null,
           null,
           null,
           null,
           null,
           null,
           null,
           null,
           null,
           null,
           null,
           17009.649131623253,
           17009.649131623253,
           17009.649131623253,
           17009.649131623253,
           17009.649131623253,
           17009.649131623253,
           17305.2387144,
           17305.2387144,
           17305.2387144,
           17305.2387144,
           17305.2387144,
           17305.2387144,
           6048.9192041999995,
           6048.9192041999995,
           6048.9192041999995,
           6048.9192041999995,
           6048.9192041999995,
           6048.9192041999995,
           37562.79666803131,
           37562.79666803131,
           37562.79666803131,
           37562.79666803131,
           37562.79666803131,
           37562.79666803131,
           7666.978145853511,
           7666.978145853511,
           7666.978145853511,
           7666.978145853511,
           7666.978145853511,
           7666.978145853511,
           37712.928329339076,
           37712.928329339076,
           37712.928329339076,
           37712.928329339076,
           37712.928329339076,
           37712.928329339076,
           3200.749459248581,
           3200.749459248581,
           3200.749459248581,
           3200.749459248581,
           3200.749459248581,
           3200.749459248581,
           39509.05435953564,
           39509.05435953564,
           39509.05435953564,
           39509.05435953564,
           39509.05435953564,
           39509.05435953564,
           4258.172828773184,
           4258.172828773184,
           4258.172828773184,
           4258.172828773184,
           4258.172828773184,
           4258.172828773184,
           7497.740360656918,
           7497.740360656918,
           7497.740360656918,
           7497.740360656918,
           7497.740360656918,
           7497.740360656918,
           4636.2628635538695,
           4636.2628635538695,
           4636.2628635538695,
           4636.2628635538695,
           4636.2628635538695,
           4636.2628635538695,
           1488.7471841999998,
           1488.7471841999998,
           1488.7471841999998,
           1488.7471841999998,
           1488.7471841999998,
           1488.7471841999998,
           7610.387108399999,
           7610.387108399999,
           7610.387108399999,
           7610.387108399999,
           7610.387108399999,
           7610.387108399999
          ]
         },
         "node": {
          "label": [
           "REFINERIES",
           "POWER PLANTS ",
           "SELF-PRODUCERS",
           "GAS PLANTS",
           "CHARCOAL PLANTS",
           "COKE PLANTS AND BLAST FURNACES",
           "DISTILLERIES",
           "OTHER CENTERS",
           "OIL",
           "NATURAL GAS",
           "COAL",
           "HYDROENERGY",
           "GEOTHERMAL",
           "NUCLEAR",
           "FIREWOOD",
           "SUGARCANE AND PRODUCTS",
           "OTHER PRIMARY",
           "ELECTRICITY",
           "LPG",
           "GASOLINE/ALCOHOL",
           "KEROSENE/JET FUEL",
           "DIESEL OIL",
           "FUEL OIL",
           "COKE",
           "CHARCOAL",
           "GASES",
           "OTHER SECONDARY",
           "TRANSPORT",
           "INDUSTRIAL",
           "RESIDENTIAL",
           "COMMERCIAL, SERVICES, PUBLIC",
           "AGRICULTURE, FISHING AND MINING",
           "CONSTRUCTION AND OTHERS",
           "OIL-FINAL CONSUMPTION",
           "NATURAL GAS-FINAL CONSUMPTION",
           "COAL-FINAL CONSUMPTION",
           "HYDROENERGY-FINAL CONSUMPTION",
           "GEOTHERMAL-FINAL CONSUMPTION",
           "NUCLEAR-FINAL CONSUMPTION",
           "FIREWOOD-FINAL CONSUMPTION",
           "SUGARCANE AND PRODUCTS-FINAL CONSUMPTION",
           "OTHER PRIMARY-FINAL CONSUMPTION",
           "ELECTRICITY-FINAL CONSUMPTION",
           "LPG-FINAL CONSUMPTION",
           "GASOLINE/ALCOHOL-FINAL CONSUMPTION",
           "KEROSENE/JET FUEL-FINAL CONSUMPTION",
           "DIESEL OIL-FINAL CONSUMPTION",
           "FUEL OIL-FINAL CONSUMPTION",
           "COKE-FINAL CONSUMPTION",
           "CHARCOAL-FINAL CONSUMPTION",
           "GASES-FINAL CONSUMPTION",
           "OTHER SECONDARY-FINAL CONSUMPTION"
          ],
          "pad": 30,
          "thickness": 20
         },
         "type": "sankey"
        }
       ],
       "layout": {
        "autosize": true,
        "font": {
         "size": 10
        },
        "template": {
         "data": {
          "bar": [
           {
            "error_x": {
             "color": "#2a3f5f"
            },
            "error_y": {
             "color": "#2a3f5f"
            },
            "marker": {
             "line": {
              "color": "#E5ECF6",
              "width": 0.5
             },
             "pattern": {
              "fillmode": "overlay",
              "size": 10,
              "solidity": 0.2
             }
            },
            "type": "bar"
           }
          ],
          "barpolar": [
           {
            "marker": {
             "line": {
              "color": "#E5ECF6",
              "width": 0.5
             },
             "pattern": {
              "fillmode": "overlay",
              "size": 10,
              "solidity": 0.2
             }
            },
            "type": "barpolar"
           }
          ],
          "carpet": [
           {
            "aaxis": {
             "endlinecolor": "#2a3f5f",
             "gridcolor": "white",
             "linecolor": "white",
             "minorgridcolor": "white",
             "startlinecolor": "#2a3f5f"
            },
            "baxis": {
             "endlinecolor": "#2a3f5f",
             "gridcolor": "white",
             "linecolor": "white",
             "minorgridcolor": "white",
             "startlinecolor": "#2a3f5f"
            },
            "type": "carpet"
           }
          ],
          "choropleth": [
           {
            "colorbar": {
             "outlinewidth": 0,
             "ticks": ""
            },
            "type": "choropleth"
           }
          ],
          "contour": [
           {
            "colorbar": {
             "outlinewidth": 0,
             "ticks": ""
            },
            "colorscale": [
             [
              0,
              "#0d0887"
             ],
             [
              0.1111111111111111,
              "#46039f"
             ],
             [
              0.2222222222222222,
              "#7201a8"
             ],
             [
              0.3333333333333333,
              "#9c179e"
             ],
             [
              0.4444444444444444,
              "#bd3786"
             ],
             [
              0.5555555555555556,
              "#d8576b"
             ],
             [
              0.6666666666666666,
              "#ed7953"
             ],
             [
              0.7777777777777778,
              "#fb9f3a"
             ],
             [
              0.8888888888888888,
              "#fdca26"
             ],
             [
              1,
              "#f0f921"
             ]
            ],
            "type": "contour"
           }
          ],
          "contourcarpet": [
           {
            "colorbar": {
             "outlinewidth": 0,
             "ticks": ""
            },
            "type": "contourcarpet"
           }
          ],
          "heatmap": [
           {
            "colorbar": {
             "outlinewidth": 0,
             "ticks": ""
            },
            "colorscale": [
             [
              0,
              "#0d0887"
             ],
             [
              0.1111111111111111,
              "#46039f"
             ],
             [
              0.2222222222222222,
              "#7201a8"
             ],
             [
              0.3333333333333333,
              "#9c179e"
             ],
             [
              0.4444444444444444,
              "#bd3786"
             ],
             [
              0.5555555555555556,
              "#d8576b"
             ],
             [
              0.6666666666666666,
              "#ed7953"
             ],
             [
              0.7777777777777778,
              "#fb9f3a"
             ],
             [
              0.8888888888888888,
              "#fdca26"
             ],
             [
              1,
              "#f0f921"
             ]
            ],
            "type": "heatmap"
           }
          ],
          "heatmapgl": [
           {
            "colorbar": {
             "outlinewidth": 0,
             "ticks": ""
            },
            "colorscale": [
             [
              0,
              "#0d0887"
             ],
             [
              0.1111111111111111,
              "#46039f"
             ],
             [
              0.2222222222222222,
              "#7201a8"
             ],
             [
              0.3333333333333333,
              "#9c179e"
             ],
             [
              0.4444444444444444,
              "#bd3786"
             ],
             [
              0.5555555555555556,
              "#d8576b"
             ],
             [
              0.6666666666666666,
              "#ed7953"
             ],
             [
              0.7777777777777778,
              "#fb9f3a"
             ],
             [
              0.8888888888888888,
              "#fdca26"
             ],
             [
              1,
              "#f0f921"
             ]
            ],
            "type": "heatmapgl"
           }
          ],
          "histogram": [
           {
            "marker": {
             "pattern": {
              "fillmode": "overlay",
              "size": 10,
              "solidity": 0.2
             }
            },
            "type": "histogram"
           }
          ],
          "histogram2d": [
           {
            "colorbar": {
             "outlinewidth": 0,
             "ticks": ""
            },
            "colorscale": [
             [
              0,
              "#0d0887"
             ],
             [
              0.1111111111111111,
              "#46039f"
             ],
             [
              0.2222222222222222,
              "#7201a8"
             ],
             [
              0.3333333333333333,
              "#9c179e"
             ],
             [
              0.4444444444444444,
              "#bd3786"
             ],
             [
              0.5555555555555556,
              "#d8576b"
             ],
             [
              0.6666666666666666,
              "#ed7953"
             ],
             [
              0.7777777777777778,
              "#fb9f3a"
             ],
             [
              0.8888888888888888,
              "#fdca26"
             ],
             [
              1,
              "#f0f921"
             ]
            ],
            "type": "histogram2d"
           }
          ],
          "histogram2dcontour": [
           {
            "colorbar": {
             "outlinewidth": 0,
             "ticks": ""
            },
            "colorscale": [
             [
              0,
              "#0d0887"
             ],
             [
              0.1111111111111111,
              "#46039f"
             ],
             [
              0.2222222222222222,
              "#7201a8"
             ],
             [
              0.3333333333333333,
              "#9c179e"
             ],
             [
              0.4444444444444444,
              "#bd3786"
             ],
             [
              0.5555555555555556,
              "#d8576b"
             ],
             [
              0.6666666666666666,
              "#ed7953"
             ],
             [
              0.7777777777777778,
              "#fb9f3a"
             ],
             [
              0.8888888888888888,
              "#fdca26"
             ],
             [
              1,
              "#f0f921"
             ]
            ],
            "type": "histogram2dcontour"
           }
          ],
          "mesh3d": [
           {
            "colorbar": {
             "outlinewidth": 0,
             "ticks": ""
            },
            "type": "mesh3d"
           }
          ],
          "parcoords": [
           {
            "line": {
             "colorbar": {
              "outlinewidth": 0,
              "ticks": ""
             }
            },
            "type": "parcoords"
           }
          ],
          "pie": [
           {
            "automargin": true,
            "type": "pie"
           }
          ],
          "scatter": [
           {
            "fillpattern": {
             "fillmode": "overlay",
             "size": 10,
             "solidity": 0.2
            },
            "type": "scatter"
           }
          ],
          "scatter3d": [
           {
            "line": {
             "colorbar": {
              "outlinewidth": 0,
              "ticks": ""
             }
            },
            "marker": {
             "colorbar": {
              "outlinewidth": 0,
              "ticks": ""
             }
            },
            "type": "scatter3d"
           }
          ],
          "scattercarpet": [
           {
            "marker": {
             "colorbar": {
              "outlinewidth": 0,
              "ticks": ""
             }
            },
            "type": "scattercarpet"
           }
          ],
          "scattergeo": [
           {
            "marker": {
             "colorbar": {
              "outlinewidth": 0,
              "ticks": ""
             }
            },
            "type": "scattergeo"
           }
          ],
          "scattergl": [
           {
            "marker": {
             "colorbar": {
              "outlinewidth": 0,
              "ticks": ""
             }
            },
            "type": "scattergl"
           }
          ],
          "scattermapbox": [
           {
            "marker": {
             "colorbar": {
              "outlinewidth": 0,
              "ticks": ""
             }
            },
            "type": "scattermapbox"
           }
          ],
          "scatterpolar": [
           {
            "marker": {
             "colorbar": {
              "outlinewidth": 0,
              "ticks": ""
             }
            },
            "type": "scatterpolar"
           }
          ],
          "scatterpolargl": [
           {
            "marker": {
             "colorbar": {
              "outlinewidth": 0,
              "ticks": ""
             }
            },
            "type": "scatterpolargl"
           }
          ],
          "scatterternary": [
           {
            "marker": {
             "colorbar": {
              "outlinewidth": 0,
              "ticks": ""
             }
            },
            "type": "scatterternary"
           }
          ],
          "surface": [
           {
            "colorbar": {
             "outlinewidth": 0,
             "ticks": ""
            },
            "colorscale": [
             [
              0,
              "#0d0887"
             ],
             [
              0.1111111111111111,
              "#46039f"
             ],
             [
              0.2222222222222222,
              "#7201a8"
             ],
             [
              0.3333333333333333,
              "#9c179e"
             ],
             [
              0.4444444444444444,
              "#bd3786"
             ],
             [
              0.5555555555555556,
              "#d8576b"
             ],
             [
              0.6666666666666666,
              "#ed7953"
             ],
             [
              0.7777777777777778,
              "#fb9f3a"
             ],
             [
              0.8888888888888888,
              "#fdca26"
             ],
             [
              1,
              "#f0f921"
             ]
            ],
            "type": "surface"
           }
          ],
          "table": [
           {
            "cells": {
             "fill": {
              "color": "#EBF0F8"
             },
             "line": {
              "color": "white"
             }
            },
            "header": {
             "fill": {
              "color": "#C8D4E3"
             },
             "line": {
              "color": "white"
             }
            },
            "type": "table"
           }
          ]
         },
         "layout": {
          "annotationdefaults": {
           "arrowcolor": "#2a3f5f",
           "arrowhead": 0,
           "arrowwidth": 1
          },
          "autotypenumbers": "strict",
          "coloraxis": {
           "colorbar": {
            "outlinewidth": 0,
            "ticks": ""
           }
          },
          "colorscale": {
           "diverging": [
            [
             0,
             "#8e0152"
            ],
            [
             0.1,
             "#c51b7d"
            ],
            [
             0.2,
             "#de77ae"
            ],
            [
             0.3,
             "#f1b6da"
            ],
            [
             0.4,
             "#fde0ef"
            ],
            [
             0.5,
             "#f7f7f7"
            ],
            [
             0.6,
             "#e6f5d0"
            ],
            [
             0.7,
             "#b8e186"
            ],
            [
             0.8,
             "#7fbc41"
            ],
            [
             0.9,
             "#4d9221"
            ],
            [
             1,
             "#276419"
            ]
           ],
           "sequential": [
            [
             0,
             "#0d0887"
            ],
            [
             0.1111111111111111,
             "#46039f"
            ],
            [
             0.2222222222222222,
             "#7201a8"
            ],
            [
             0.3333333333333333,
             "#9c179e"
            ],
            [
             0.4444444444444444,
             "#bd3786"
            ],
            [
             0.5555555555555556,
             "#d8576b"
            ],
            [
             0.6666666666666666,
             "#ed7953"
            ],
            [
             0.7777777777777778,
             "#fb9f3a"
            ],
            [
             0.8888888888888888,
             "#fdca26"
            ],
            [
             1,
             "#f0f921"
            ]
           ],
           "sequentialminus": [
            [
             0,
             "#0d0887"
            ],
            [
             0.1111111111111111,
             "#46039f"
            ],
            [
             0.2222222222222222,
             "#7201a8"
            ],
            [
             0.3333333333333333,
             "#9c179e"
            ],
            [
             0.4444444444444444,
             "#bd3786"
            ],
            [
             0.5555555555555556,
             "#d8576b"
            ],
            [
             0.6666666666666666,
             "#ed7953"
            ],
            [
             0.7777777777777778,
             "#fb9f3a"
            ],
            [
             0.8888888888888888,
             "#fdca26"
            ],
            [
             1,
             "#f0f921"
            ]
           ]
          },
          "colorway": [
           "#636efa",
           "#EF553B",
           "#00cc96",
           "#ab63fa",
           "#FFA15A",
           "#19d3f3",
           "#FF6692",
           "#B6E880",
           "#FF97FF",
           "#FECB52"
          ],
          "font": {
           "color": "#2a3f5f"
          },
          "geo": {
           "bgcolor": "white",
           "lakecolor": "white",
           "landcolor": "#E5ECF6",
           "showlakes": true,
           "showland": true,
           "subunitcolor": "white"
          },
          "hoverlabel": {
           "align": "left"
          },
          "hovermode": "closest",
          "mapbox": {
           "style": "light"
          },
          "paper_bgcolor": "white",
          "plot_bgcolor": "#E5ECF6",
          "polar": {
           "angularaxis": {
            "gridcolor": "white",
            "linecolor": "white",
            "ticks": ""
           },
           "bgcolor": "#E5ECF6",
           "radialaxis": {
            "gridcolor": "white",
            "linecolor": "white",
            "ticks": ""
           }
          },
          "scene": {
           "xaxis": {
            "backgroundcolor": "#E5ECF6",
            "gridcolor": "white",
            "gridwidth": 2,
            "linecolor": "white",
            "showbackground": true,
            "ticks": "",
            "zerolinecolor": "white"
           },
           "yaxis": {
            "backgroundcolor": "#E5ECF6",
            "gridcolor": "white",
            "gridwidth": 2,
            "linecolor": "white",
            "showbackground": true,
            "ticks": "",
            "zerolinecolor": "white"
           },
           "zaxis": {
            "backgroundcolor": "#E5ECF6",
            "gridcolor": "white",
            "gridwidth": 2,
            "linecolor": "white",
            "showbackground": true,
            "ticks": "",
            "zerolinecolor": "white"
           }
          },
          "shapedefaults": {
           "line": {
            "color": "#2a3f5f"
           }
          },
          "ternary": {
           "aaxis": {
            "gridcolor": "white",
            "linecolor": "white",
            "ticks": ""
           },
           "baxis": {
            "gridcolor": "white",
            "linecolor": "white",
            "ticks": ""
           },
           "bgcolor": "#E5ECF6",
           "caxis": {
            "gridcolor": "white",
            "linecolor": "white",
            "ticks": ""
           }
          },
          "title": {
           "x": 0.05
          },
          "xaxis": {
           "automargin": true,
           "gridcolor": "white",
           "linecolor": "white",
           "ticks": "",
           "title": {
            "standoff": 15
           },
           "zerolinecolor": "white",
           "zerolinewidth": 2
          },
          "yaxis": {
           "automargin": true,
           "gridcolor": "white",
           "linecolor": "white",
           "ticks": "",
           "title": {
            "standoff": 15
           },
           "zerolinecolor": "white",
           "zerolinewidth": 2
          }
         }
        },
        "title": {
         "text": "2010 - Brazil"
        }
       }
      },
      "image/png": "[encoded data removed]",
      "text/html": [
       "<div>                            <div id=\"42046a16-3bf7-4fb0-abfe-8f4373e50e69\" class=\"plotly-graph-div\" style=\"height:525px; width:100%;\"></div>            <script type=\"text/javascript\">                require([\"plotly\"], function(Plotly) {                    window.PLOTLYENV=window.PLOTLYENV || {};                                    if (document.getElementById(\"42046a16-3bf7-4fb0-abfe-8f4373e50e69\")) {                    Plotly.newPlot(                        \"42046a16-3bf7-4fb0-abfe-8f4373e50e69\",                        [{\"link\":{\"source\":[8,9,10,11,12,13,14,15,16,8,9,10,11,12,13,14,15,16,8,9,10,11,12,13,14,15,16,8,9,10,11,12,13,14,15,16,8,9,10,11,12,13,14,15,16,8,9,10,11,12,13,14,15,16,8,9,10,11,12,13,14,15,16,8,9,10,11,12,13,14,15,16,0,0,0,0,0,0,0,0,0,0,1,1,1,1,1,1,1,1,1,1,2,2,2,2,2,2,2,2,2,2,3,3,3,3,3,3,3,3,3,3,4,4,4,4,4,4,4,4,4,4,5,5,5,5,5,5,5,5,5,5,6,6,6,6,6,6,6,6,6,6,7,7,7,7,7,7,7,7,7,7,8,9,10,11,12,13,14,15,16,17,18,19,20,21,22,23,24,25,26,33,33,33,33,33,33,34,34,34,34,34,34,35,35,35,35,35,35,36,36,36,36,36,36,37,37,37,37,37,37,38,38,38,38,38,38,39,39,39,39,39,39,40,40,40,40,40,40,41,41,41,41,41,41,42,42,42,42,42,42,43,43,43,43,43,43,44,44,44,44,44,44,45,45,45,45,45,45,46,46,46,46,46,46,47,47,47,47,47,47,48,48,48,48,48,48,49,49,49,49,49,49,50,50,50,50,50,50,51,51,51,51,51,51],\"target\":[0,0,0,0,0,0,0,0,0,1,1,1,1,1,1,1,1,1,2,2,2,2,2,2,2,2,2,3,3,3,3,3,3,3,3,3,4,4,4,4,4,4,4,4,4,5,5,5,5,5,5,5,5,5,6,6,6,6,6,6,6,6,6,7,7,7,7,7,7,7,7,7,17,18,19,20,21,22,23,24,25,26,17,18,19,20,21,22,23,24,25,26,17,18,19,20,21,22,23,24,25,26,17,18,19,20,21,22,23,24,25,26,17,18,19,20,21,22,23,24,25,26,17,18,19,20,21,22,23,24,25,26,17,18,19,20,21,22,23,24,25,26,17,18,19,20,21,22,23,24,25,26,33,34,35,36,37,38,39,40,41,42,43,44,45,46,47,48,49,50,51,27,28,29,30,31,32,27,28,29,30,31,32,27,28,29,30,31,32,27,28,29,30,31,32,27,28,29,30,31,32,27,28,29,30,31,32,27,28,29,30,31,32,27,28,29,30,31,32,27,28,29,30,31,32,27,28,29,30,31,32,27,28,29,30,31,32,27,28,29,30,31,32,27,28,29,30,31,32,27,28,29,30,31,32,27,28,29,30,31,32,27,28,29,30,31,32,27,28,29,30,31,32,27,28,29,30,31,32,27,28,29,30,31,32],\"value\":[92507.06695267127,null,null,null,null,null,null,null,null,null,4806.510808641933,1717.0400542919713,32821.950165601265,null,3779.69651450593,13.915406886983122,null,193.51205639999998,null,2171.7856288156418,183.6176321402209,1774.9670693987496,null,null,294.10676302535063,4084.5660209999996,2172.6480851999995,null,1998.5907841904466,null,null,null,null,null,null,null,null,null,null,null,null,null,8615.20775786446,null,null,null,null,8085.442103531215,null,null,null,null,null,null,null,null,null,null,null,null,null,14719.915808999998,null,null,null,null,null,null,null,null,null,2034.7881966,null,4681.113085278925,22199.025889774326,3844.8069174,34321.68079285804,14081.955251399957,null,null,null,6986.097768599999,37986.654359481785,null,null,null,1778.0816551714283,879.6455667629784,null,null,null,0.008326799999999999,6262.033006118245,null,null,null,335.5684990326484,235.64755349130292,null,24.40979458150152,315.64678319999996,465.39734219999997,null,1090.9776582313511,null,null,null,null,null,null,null,null,null,null,null,null,null,null,null,4754.799867599996,null,null,null,null,null,null,null,null,6324.3725238,null,1975.082265,612.5554907999999,null,null,14405.975494225679,null,null,null,null,null,null,null,null,60.38342800887157,1828.3804111761774,null,1985.9970019214795,null,null,null,null,2038.1272433999998,null,12980.125333706428,3224.735184287254,null,null,null,17009.649131623253,17305.2387144,6048.9192041999995,37562.79666803131,7666.978145853511,37712.928329339076,3200.749459248581,39509.05435953564,4258.172828773184,7497.740360656918,4636.2628635538695,1488.7471841999998,7610.387108399999,null,null,null,null,null,null,12980.125333706428,12980.125333706428,12980.125333706428,12980.125333706428,12980.125333706428,12980.125333706428,3224.735184287254,3224.735184287254,3224.735184287254,3224.735184287254,3224.735184287254,3224.735184287254,null,null,null,null,null,null,null,null,null,null,null,null,null,null,null,null,null,null,17009.649131623253,17009.649131623253,17009.649131623253,17009.649131623253,17009.649131623253,17009.649131623253,17305.2387144,17305.2387144,17305.2387144,17305.2387144,17305.2387144,17305.2387144,6048.9192041999995,6048.9192041999995,6048.9192041999995,6048.9192041999995,6048.9192041999995,6048.9192041999995,37562.79666803131,37562.79666803131,37562.79666803131,37562.79666803131,37562.79666803131,37562.79666803131,7666.978145853511,7666.978145853511,7666.978145853511,7666.978145853511,7666.978145853511,7666.978145853511,37712.928329339076,37712.928329339076,37712.928329339076,37712.928329339076,37712.928329339076,37712.928329339076,3200.749459248581,3200.749459248581,3200.749459248581,3200.749459248581,3200.749459248581,3200.749459248581,39509.05435953564,39509.05435953564,39509.05435953564,39509.05435953564,39509.05435953564,39509.05435953564,4258.172828773184,4258.172828773184,4258.172828773184,4258.172828773184,4258.172828773184,4258.172828773184,7497.740360656918,7497.740360656918,7497.740360656918,7497.740360656918,7497.740360656918,7497.740360656918,4636.2628635538695,4636.2628635538695,4636.2628635538695,4636.2628635538695,4636.2628635538695,4636.2628635538695,1488.7471841999998,1488.7471841999998,1488.7471841999998,1488.7471841999998,1488.7471841999998,1488.7471841999998,7610.387108399999,7610.387108399999,7610.387108399999,7610.387108399999,7610.387108399999,7610.387108399999]},\"node\":{\"label\":[\"REFINERIES\",\"POWER PLANTS \",\"SELF-PRODUCERS\",\"GAS PLANTS\",\"CHARCOAL PLANTS\",\"COKE PLANTS AND BLAST FURNACES\",\"DISTILLERIES\",\"OTHER CENTERS\",\"OIL\",\"NATURAL GAS\",\"COAL\",\"HYDROENERGY\",\"GEOTHERMAL\",\"NUCLEAR\",\"FIREWOOD\",\"SUGARCANE AND PRODUCTS\",\"OTHER PRIMARY\",\"ELECTRICITY\",\"LPG\",\"GASOLINE/ALCOHOL\",\"KEROSENE/JET FUEL\",\"DIESEL OIL\",\"FUEL OIL\",\"COKE\",\"CHARCOAL\",\"GASES\",\"OTHER SECONDARY\",\"TRANSPORT\",\"INDUSTRIAL\",\"RESIDENTIAL\",\"COMMERCIAL, SERVICES, PUBLIC\",\"AGRICULTURE, FISHING AND MINING\",\"CONSTRUCTION AND OTHERS\",\"OIL-FINAL CONSUMPTION\",\"NATURAL GAS-FINAL CONSUMPTION\",\"COAL-FINAL CONSUMPTION\",\"HYDROENERGY-FINAL CONSUMPTION\",\"GEOTHERMAL-FINAL CONSUMPTION\",\"NUCLEAR-FINAL CONSUMPTION\",\"FIREWOOD-FINAL CONSUMPTION\",\"SUGARCANE AND PRODUCTS-FINAL CONSUMPTION\",\"OTHER PRIMARY-FINAL CONSUMPTION\",\"ELECTRICITY-FINAL CONSUMPTION\",\"LPG-FINAL CONSUMPTION\",\"GASOLINE/ALCOHOL-FINAL CONSUMPTION\",\"KEROSENE/JET FUEL-FINAL CONSUMPTION\",\"DIESEL OIL-FINAL CONSUMPTION\",\"FUEL OIL-FINAL CONSUMPTION\",\"COKE-FINAL CONSUMPTION\",\"CHARCOAL-FINAL CONSUMPTION\",\"GASES-FINAL CONSUMPTION\",\"OTHER SECONDARY-FINAL CONSUMPTION\"],\"pad\":30,\"thickness\":20},\"type\":\"sankey\"}],                        {\"template\":{\"data\":{\"histogram2dcontour\":[{\"type\":\"histogram2dcontour\",\"colorbar\":{\"outlinewidth\":0,\"ticks\":\"\"},\"colorscale\":[[0.0,\"#0d0887\"],[0.1111111111111111,\"#46039f\"],[0.2222222222222222,\"#7201a8\"],[0.3333333333333333,\"#9c179e\"],[0.4444444444444444,\"#bd3786\"],[0.5555555555555556,\"#d8576b\"],[0.6666666666666666,\"#ed7953\"],[0.7777777777777778,\"#fb9f3a\"],[0.8888888888888888,\"#fdca26\"],[1.0,\"#f0f921\"]]}],\"choropleth\":[{\"type\":\"choropleth\",\"colorbar\":{\"outlinewidth\":0,\"ticks\":\"\"}}],\"histogram2d\":[{\"type\":\"histogram2d\",\"colorbar\":{\"outlinewidth\":0,\"ticks\":\"\"},\"colorscale\":[[0.0,\"#0d0887\"],[0.1111111111111111,\"#46039f\"],[0.2222222222222222,\"#7201a8\"],[0.3333333333333333,\"#9c179e\"],[0.4444444444444444,\"#bd3786\"],[0.5555555555555556,\"#d8576b\"],[0.6666666666666666,\"#ed7953\"],[0.7777777777777778,\"#fb9f3a\"],[0.8888888888888888,\"#fdca26\"],[1.0,\"#f0f921\"]]}],\"heatmap\":[{\"type\":\"heatmap\",\"colorbar\":{\"outlinewidth\":0,\"ticks\":\"\"},\"colorscale\":[[0.0,\"#0d0887\"],[0.1111111111111111,\"#46039f\"],[0.2222222222222222,\"#7201a8\"],[0.3333333333333333,\"#9c179e\"],[0.4444444444444444,\"#bd3786\"],[0.5555555555555556,\"#d8576b\"],[0.6666666666666666,\"#ed7953\"],[0.7777777777777778,\"#fb9f3a\"],[0.8888888888888888,\"#fdca26\"],[1.0,\"#f0f921\"]]}],\"heatmapgl\":[{\"type\":\"heatmapgl\",\"colorbar\":{\"outlinewidth\":0,\"ticks\":\"\"},\"colorscale\":[[0.0,\"#0d0887\"],[0.1111111111111111,\"#46039f\"],[0.2222222222222222,\"#7201a8\"],[0.3333333333333333,\"#9c179e\"],[0.4444444444444444,\"#bd3786\"],[0.5555555555555556,\"#d8576b\"],[0.6666666666666666,\"#ed7953\"],[0.7777777777777778,\"#fb9f3a\"],[0.8888888888888888,\"#fdca26\"],[1.0,\"#f0f921\"]]}],\"contourcarpet\":[{\"type\":\"contourcarpet\",\"colorbar\":{\"outlinewidth\":0,\"ticks\":\"\"}}],\"contour\":[{\"type\":\"contour\",\"colorbar\":{\"outlinewidth\":0,\"ticks\":\"\"},\"colorscale\":[[0.0,\"#0d0887\"],[0.1111111111111111,\"#46039f\"],[0.2222222222222222,\"#7201a8\"],[0.3333333333333333,\"#9c179e\"],[0.4444444444444444,\"#bd3786\"],[0.5555555555555556,\"#d8576b\"],[0.6666666666666666,\"#ed7953\"],[0.7777777777777778,\"#fb9f3a\"],[0.8888888888888888,\"#fdca26\"],[1.0,\"#f0f921\"]]}],\"surface\":[{\"type\":\"surface\",\"colorbar\":{\"outlinewidth\":0,\"ticks\":\"\"},\"colorscale\":[[0.0,\"#0d0887\"],[0.1111111111111111,\"#46039f\"],[0.2222222222222222,\"#7201a8\"],[0.3333333333333333,\"#9c179e\"],[0.4444444444444444,\"#bd3786\"],[0.5555555555555556,\"#d8576b\"],[0.6666666666666666,\"#ed7953\"],[0.7777777777777778,\"#fb9f3a\"],[0.8888888888888888,\"#fdca26\"],[1.0,\"#f0f921\"]]}],\"mesh3d\":[{\"type\":\"mesh3d\",\"colorbar\":{\"outlinewidth\":0,\"ticks\":\"\"}}],\"scatter\":[{\"fillpattern\":{\"fillmode\":\"overlay\",\"size\":10,\"solidity\":0.2},\"type\":\"scatter\"}],\"parcoords\":[{\"type\":\"parcoords\",\"line\":{\"colorbar\":{\"outlinewidth\":0,\"ticks\":\"\"}}}],\"scatterpolargl\":[{\"type\":\"scatterpolargl\",\"marker\":{\"colorbar\":{\"outlinewidth\":0,\"ticks\":\"\"}}}],\"bar\":[{\"error_x\":{\"color\":\"#2a3f5f\"},\"error_y\":{\"color\":\"#2a3f5f\"},\"marker\":{\"line\":{\"color\":\"#E5ECF6\",\"width\":0.5},\"pattern\":{\"fillmode\":\"overlay\",\"size\":10,\"solidity\":0.2}},\"type\":\"bar\"}],\"scattergeo\":[{\"type\":\"scattergeo\",\"marker\":{\"colorbar\":{\"outlinewidth\":0,\"ticks\":\"\"}}}],\"scatterpolar\":[{\"type\":\"scatterpolar\",\"marker\":{\"colorbar\":{\"outlinewidth\":0,\"ticks\":\"\"}}}],\"histogram\":[{\"marker\":{\"pattern\":{\"fillmode\":\"overlay\",\"size\":10,\"solidity\":0.2}},\"type\":\"histogram\"}],\"scattergl\":[{\"type\":\"scattergl\",\"marker\":{\"colorbar\":{\"outlinewidth\":0,\"ticks\":\"\"}}}],\"scatter3d\":[{\"type\":\"scatter3d\",\"line\":{\"colorbar\":{\"outlinewidth\":0,\"ticks\":\"\"}},\"marker\":{\"colorbar\":{\"outlinewidth\":0,\"ticks\":\"\"}}}],\"scattermapbox\":[{\"type\":\"scattermapbox\",\"marker\":{\"colorbar\":{\"outlinewidth\":0,\"ticks\":\"\"}}}],\"scatterternary\":[{\"type\":\"scatterternary\",\"marker\":{\"colorbar\":{\"outlinewidth\":0,\"ticks\":\"\"}}}],\"scattercarpet\":[{\"type\":\"scattercarpet\",\"marker\":{\"colorbar\":{\"outlinewidth\":0,\"ticks\":\"\"}}}],\"carpet\":[{\"aaxis\":{\"endlinecolor\":\"#2a3f5f\",\"gridcolor\":\"white\",\"linecolor\":\"white\",\"minorgridcolor\":\"white\",\"startlinecolor\":\"#2a3f5f\"},\"baxis\":{\"endlinecolor\":\"#2a3f5f\",\"gridcolor\":\"white\",\"linecolor\":\"white\",\"minorgridcolor\":\"white\",\"startlinecolor\":\"#2a3f5f\"},\"type\":\"carpet\"}],\"table\":[{\"cells\":{\"fill\":{\"color\":\"#EBF0F8\"},\"line\":{\"color\":\"white\"}},\"header\":{\"fill\":{\"color\":\"#C8D4E3\"},\"line\":{\"color\":\"white\"}},\"type\":\"table\"}],\"barpolar\":[{\"marker\":{\"line\":{\"color\":\"#E5ECF6\",\"width\":0.5},\"pattern\":{\"fillmode\":\"overlay\",\"size\":10,\"solidity\":0.2}},\"type\":\"barpolar\"}],\"pie\":[{\"automargin\":true,\"type\":\"pie\"}]},\"layout\":{\"autotypenumbers\":\"strict\",\"colorway\":[\"#636efa\",\"#EF553B\",\"#00cc96\",\"#ab63fa\",\"#FFA15A\",\"#19d3f3\",\"#FF6692\",\"#B6E880\",\"#FF97FF\",\"#FECB52\"],\"font\":{\"color\":\"#2a3f5f\"},\"hovermode\":\"closest\",\"hoverlabel\":{\"align\":\"left\"},\"paper_bgcolor\":\"white\",\"plot_bgcolor\":\"#E5ECF6\",\"polar\":{\"bgcolor\":\"#E5ECF6\",\"angularaxis\":{\"gridcolor\":\"white\",\"linecolor\":\"white\",\"ticks\":\"\"},\"radialaxis\":{\"gridcolor\":\"white\",\"linecolor\":\"white\",\"ticks\":\"\"}},\"ternary\":{\"bgcolor\":\"#E5ECF6\",\"aaxis\":{\"gridcolor\":\"white\",\"linecolor\":\"white\",\"ticks\":\"\"},\"baxis\":{\"gridcolor\":\"white\",\"linecolor\":\"white\",\"ticks\":\"\"},\"caxis\":{\"gridcolor\":\"white\",\"linecolor\":\"white\",\"ticks\":\"\"}},\"coloraxis\":{\"colorbar\":{\"outlinewidth\":0,\"ticks\":\"\"}},\"colorscale\":{\"sequential\":[[0.0,\"#0d0887\"],[0.1111111111111111,\"#46039f\"],[0.2222222222222222,\"#7201a8\"],[0.3333333333333333,\"#9c179e\"],[0.4444444444444444,\"#bd3786\"],[0.5555555555555556,\"#d8576b\"],[0.6666666666666666,\"#ed7953\"],[0.7777777777777778,\"#fb9f3a\"],[0.8888888888888888,\"#fdca26\"],[1.0,\"#f0f921\"]],\"sequentialminus\":[[0.0,\"#0d0887\"],[0.1111111111111111,\"#46039f\"],[0.2222222222222222,\"#7201a8\"],[0.3333333333333333,\"#9c179e\"],[0.4444444444444444,\"#bd3786\"],[0.5555555555555556,\"#d8576b\"],[0.6666666666666666,\"#ed7953\"],[0.7777777777777778,\"#fb9f3a\"],[0.8888888888888888,\"#fdca26\"],[1.0,\"#f0f921\"]],\"diverging\":[[0,\"#8e0152\"],[0.1,\"#c51b7d\"],[0.2,\"#de77ae\"],[0.3,\"#f1b6da\"],[0.4,\"#fde0ef\"],[0.5,\"#f7f7f7\"],[0.6,\"#e6f5d0\"],[0.7,\"#b8e186\"],[0.8,\"#7fbc41\"],[0.9,\"#4d9221\"],[1,\"#276419\"]]},\"xaxis\":{\"gridcolor\":\"white\",\"linecolor\":\"white\",\"ticks\":\"\",\"title\":{\"standoff\":15},\"zerolinecolor\":\"white\",\"automargin\":true,\"zerolinewidth\":2},\"yaxis\":{\"gridcolor\":\"white\",\"linecolor\":\"white\",\"ticks\":\"\",\"title\":{\"standoff\":15},\"zerolinecolor\":\"white\",\"automargin\":true,\"zerolinewidth\":2},\"scene\":{\"xaxis\":{\"backgroundcolor\":\"#E5ECF6\",\"gridcolor\":\"white\",\"linecolor\":\"white\",\"showbackground\":true,\"ticks\":\"\",\"zerolinecolor\":\"white\",\"gridwidth\":2},\"yaxis\":{\"backgroundcolor\":\"#E5ECF6\",\"gridcolor\":\"white\",\"linecolor\":\"white\",\"showbackground\":true,\"ticks\":\"\",\"zerolinecolor\":\"white\",\"gridwidth\":2},\"zaxis\":{\"backgroundcolor\":\"#E5ECF6\",\"gridcolor\":\"white\",\"linecolor\":\"white\",\"showbackground\":true,\"ticks\":\"\",\"zerolinecolor\":\"white\",\"gridwidth\":2}},\"shapedefaults\":{\"line\":{\"color\":\"#2a3f5f\"}},\"annotationdefaults\":{\"arrowcolor\":\"#2a3f5f\",\"arrowhead\":0,\"arrowwidth\":1},\"geo\":{\"bgcolor\":\"white\",\"landcolor\":\"#E5ECF6\",\"subunitcolor\":\"white\",\"showland\":true,\"showlakes\":true,\"lakecolor\":\"white\"},\"title\":{\"x\":0.05},\"mapbox\":{\"style\":\"light\"}}},\"title\":{\"text\":\"2010 - Brazil\"},\"font\":{\"size\":10}},                        {\"responsive\": true}                    ).then(function(){\n",
       "                            \n",
       "var gd = document.getElementById('42046a16-3bf7-4fb0-abfe-8f4373e50e69');\n",
       "var x = new MutationObserver(function (mutations, observer) {{\n",
       "        var display = window.getComputedStyle(gd).display;\n",
       "        if (!display || display === 'none') {{\n",
       "            console.log([gd, 'removed!']);\n",
       "            Plotly.purge(gd);\n",
       "            observer.disconnect();\n",
       "        }}\n",
       "}});\n",
       "\n",
       "// Listen for the removal of the full notebook cells\n",
       "var notebookContainer = gd.closest('#notebook-container');\n",
       "if (notebookContainer) {{\n",
       "    x.observe(notebookContainer, {childList: true});\n",
       "}}\n",
       "\n",
       "// Listen for the clearing of the current output cell\n",
       "var outputEl = gd.closest('.output');\n",
       "if (outputEl) {{\n",
       "    x.observe(outputEl, {childList: true});\n",
       "}}\n",
       "\n",
       "                        })                };                });            </script>        </div>"
      ]
     },
     "metadata": {},
     "output_type": "display_data"
    }
   ],
   "source": [
    "fig = go.Figure(data=[go.Sankey(\n",
    "    node = dict(\n",
    "      pad = 30,\n",
    "      thickness = 20,\n",
    "      line = None, # dict(color = \"black\", width = 0.5),\n",
    "      label = label,\n",
    "      color = None # \"blue\"\n",
    "    ),\n",
    "    link = dict(\n",
    "      source = source, # indices correspond to labels, eg A1, A2, A1, B1, ...\n",
    "      target = target,\n",
    "      value = value\n",
    "  ))])\n",
    "\n",
    "fig.update_layout(title_text=\"2010 - Brazil\", font_size=10)\n",
    "fig.show()"
   ]
  },
  {
   "cell_type": "markdown",
   "id": "a47f0e87",
   "metadata": {},
   "source": [
    "### Basic example"
   ]
  },
  {
   "cell_type": "code",
   "execution_count": 11,
   "id": "a64fa8c4",
   "metadata": {},
   "outputs": [
    {
     "data": {
      "application/vnd.plotly.v1+json": {
       "config": {
        "plotlyServerURL": "https://plot.ly"
       },
       "data": [
        {
         "link": {
          "source": [
           0,
           1,
           0,
           2,
           3,
           3
          ],
          "target": [
           2,
           3,
           3,
           4,
           4,
           5
          ],
          "value": [
           8,
           4,
           2,
           8,
           4,
           null
          ]
         },
         "node": {
          "color": "blue",
          "label": [
           "A1",
           "A2",
           "B1",
           "B2",
           "C1",
           "C2"
          ],
          "line": {
           "color": "black",
           "width": 0.5
          },
          "pad": 15,
          "thickness": 20
         },
         "type": "sankey"
        }
       ],
       "layout": {
        "autosize": true,
        "font": {
         "size": 10
        },
        "template": {
         "data": {
          "bar": [
           {
            "error_x": {
             "color": "#2a3f5f"
            },
            "error_y": {
             "color": "#2a3f5f"
            },
            "marker": {
             "line": {
              "color": "#E5ECF6",
              "width": 0.5
             },
             "pattern": {
              "fillmode": "overlay",
              "size": 10,
              "solidity": 0.2
             }
            },
            "type": "bar"
           }
          ],
          "barpolar": [
           {
            "marker": {
             "line": {
              "color": "#E5ECF6",
              "width": 0.5
             },
             "pattern": {
              "fillmode": "overlay",
              "size": 10,
              "solidity": 0.2
             }
            },
            "type": "barpolar"
           }
          ],
          "carpet": [
           {
            "aaxis": {
             "endlinecolor": "#2a3f5f",
             "gridcolor": "white",
             "linecolor": "white",
             "minorgridcolor": "white",
             "startlinecolor": "#2a3f5f"
            },
            "baxis": {
             "endlinecolor": "#2a3f5f",
             "gridcolor": "white",
             "linecolor": "white",
             "minorgridcolor": "white",
             "startlinecolor": "#2a3f5f"
            },
            "type": "carpet"
           }
          ],
          "choropleth": [
           {
            "colorbar": {
             "outlinewidth": 0,
             "ticks": ""
            },
            "type": "choropleth"
           }
          ],
          "contour": [
           {
            "colorbar": {
             "outlinewidth": 0,
             "ticks": ""
            },
            "colorscale": [
             [
              0,
              "#0d0887"
             ],
             [
              0.1111111111111111,
              "#46039f"
             ],
             [
              0.2222222222222222,
              "#7201a8"
             ],
             [
              0.3333333333333333,
              "#9c179e"
             ],
             [
              0.4444444444444444,
              "#bd3786"
             ],
             [
              0.5555555555555556,
              "#d8576b"
             ],
             [
              0.6666666666666666,
              "#ed7953"
             ],
             [
              0.7777777777777778,
              "#fb9f3a"
             ],
             [
              0.8888888888888888,
              "#fdca26"
             ],
             [
              1,
              "#f0f921"
             ]
            ],
            "type": "contour"
           }
          ],
          "contourcarpet": [
           {
            "colorbar": {
             "outlinewidth": 0,
             "ticks": ""
            },
            "type": "contourcarpet"
           }
          ],
          "heatmap": [
           {
            "colorbar": {
             "outlinewidth": 0,
             "ticks": ""
            },
            "colorscale": [
             [
              0,
              "#0d0887"
             ],
             [
              0.1111111111111111,
              "#46039f"
             ],
             [
              0.2222222222222222,
              "#7201a8"
             ],
             [
              0.3333333333333333,
              "#9c179e"
             ],
             [
              0.4444444444444444,
              "#bd3786"
             ],
             [
              0.5555555555555556,
              "#d8576b"
             ],
             [
              0.6666666666666666,
              "#ed7953"
             ],
             [
              0.7777777777777778,
              "#fb9f3a"
             ],
             [
              0.8888888888888888,
              "#fdca26"
             ],
             [
              1,
              "#f0f921"
             ]
            ],
            "type": "heatmap"
           }
          ],
          "heatmapgl": [
           {
            "colorbar": {
             "outlinewidth": 0,
             "ticks": ""
            },
            "colorscale": [
             [
              0,
              "#0d0887"
             ],
             [
              0.1111111111111111,
              "#46039f"
             ],
             [
              0.2222222222222222,
              "#7201a8"
             ],
             [
              0.3333333333333333,
              "#9c179e"
             ],
             [
              0.4444444444444444,
              "#bd3786"
             ],
             [
              0.5555555555555556,
              "#d8576b"
             ],
             [
              0.6666666666666666,
              "#ed7953"
             ],
             [
              0.7777777777777778,
              "#fb9f3a"
             ],
             [
              0.8888888888888888,
              "#fdca26"
             ],
             [
              1,
              "#f0f921"
             ]
            ],
            "type": "heatmapgl"
           }
          ],
          "histogram": [
           {
            "marker": {
             "pattern": {
              "fillmode": "overlay",
              "size": 10,
              "solidity": 0.2
             }
            },
            "type": "histogram"
           }
          ],
          "histogram2d": [
           {
            "colorbar": {
             "outlinewidth": 0,
             "ticks": ""
            },
            "colorscale": [
             [
              0,
              "#0d0887"
             ],
             [
              0.1111111111111111,
              "#46039f"
             ],
             [
              0.2222222222222222,
              "#7201a8"
             ],
             [
              0.3333333333333333,
              "#9c179e"
             ],
             [
              0.4444444444444444,
              "#bd3786"
             ],
             [
              0.5555555555555556,
              "#d8576b"
             ],
             [
              0.6666666666666666,
              "#ed7953"
             ],
             [
              0.7777777777777778,
              "#fb9f3a"
             ],
             [
              0.8888888888888888,
              "#fdca26"
             ],
             [
              1,
              "#f0f921"
             ]
            ],
            "type": "histogram2d"
           }
          ],
          "histogram2dcontour": [
           {
            "colorbar": {
             "outlinewidth": 0,
             "ticks": ""
            },
            "colorscale": [
             [
              0,
              "#0d0887"
             ],
             [
              0.1111111111111111,
              "#46039f"
             ],
             [
              0.2222222222222222,
              "#7201a8"
             ],
             [
              0.3333333333333333,
              "#9c179e"
             ],
             [
              0.4444444444444444,
              "#bd3786"
             ],
             [
              0.5555555555555556,
              "#d8576b"
             ],
             [
              0.6666666666666666,
              "#ed7953"
             ],
             [
              0.7777777777777778,
              "#fb9f3a"
             ],
             [
              0.8888888888888888,
              "#fdca26"
             ],
             [
              1,
              "#f0f921"
             ]
            ],
            "type": "histogram2dcontour"
           }
          ],
          "mesh3d": [
           {
            "colorbar": {
             "outlinewidth": 0,
             "ticks": ""
            },
            "type": "mesh3d"
           }
          ],
          "parcoords": [
           {
            "line": {
             "colorbar": {
              "outlinewidth": 0,
              "ticks": ""
             }
            },
            "type": "parcoords"
           }
          ],
          "pie": [
           {
            "automargin": true,
            "type": "pie"
           }
          ],
          "scatter": [
           {
            "fillpattern": {
             "fillmode": "overlay",
             "size": 10,
             "solidity": 0.2
            },
            "type": "scatter"
           }
          ],
          "scatter3d": [
           {
            "line": {
             "colorbar": {
              "outlinewidth": 0,
              "ticks": ""
             }
            },
            "marker": {
             "colorbar": {
              "outlinewidth": 0,
              "ticks": ""
             }
            },
            "type": "scatter3d"
           }
          ],
          "scattercarpet": [
           {
            "marker": {
             "colorbar": {
              "outlinewidth": 0,
              "ticks": ""
             }
            },
            "type": "scattercarpet"
           }
          ],
          "scattergeo": [
           {
            "marker": {
             "colorbar": {
              "outlinewidth": 0,
              "ticks": ""
             }
            },
            "type": "scattergeo"
           }
          ],
          "scattergl": [
           {
            "marker": {
             "colorbar": {
              "outlinewidth": 0,
              "ticks": ""
             }
            },
            "type": "scattergl"
           }
          ],
          "scattermapbox": [
           {
            "marker": {
             "colorbar": {
              "outlinewidth": 0,
              "ticks": ""
             }
            },
            "type": "scattermapbox"
           }
          ],
          "scatterpolar": [
           {
            "marker": {
             "colorbar": {
              "outlinewidth": 0,
              "ticks": ""
             }
            },
            "type": "scatterpolar"
           }
          ],
          "scatterpolargl": [
           {
            "marker": {
             "colorbar": {
              "outlinewidth": 0,
              "ticks": ""
             }
            },
            "type": "scatterpolargl"
           }
          ],
          "scatterternary": [
           {
            "marker": {
             "colorbar": {
              "outlinewidth": 0,
              "ticks": ""
             }
            },
            "type": "scatterternary"
           }
          ],
          "surface": [
           {
            "colorbar": {
             "outlinewidth": 0,
             "ticks": ""
            },
            "colorscale": [
             [
              0,
              "#0d0887"
             ],
             [
              0.1111111111111111,
              "#46039f"
             ],
             [
              0.2222222222222222,
              "#7201a8"
             ],
             [
              0.3333333333333333,
              "#9c179e"
             ],
             [
              0.4444444444444444,
              "#bd3786"
             ],
             [
              0.5555555555555556,
              "#d8576b"
             ],
             [
              0.6666666666666666,
              "#ed7953"
             ],
             [
              0.7777777777777778,
              "#fb9f3a"
             ],
             [
              0.8888888888888888,
              "#fdca26"
             ],
             [
              1,
              "#f0f921"
             ]
            ],
            "type": "surface"
           }
          ],
          "table": [
           {
            "cells": {
             "fill": {
              "color": "#EBF0F8"
             },
             "line": {
              "color": "white"
             }
            },
            "header": {
             "fill": {
              "color": "#C8D4E3"
             },
             "line": {
              "color": "white"
             }
            },
            "type": "table"
           }
          ]
         },
         "layout": {
          "annotationdefaults": {
           "arrowcolor": "#2a3f5f",
           "arrowhead": 0,
           "arrowwidth": 1
          },
          "autotypenumbers": "strict",
          "coloraxis": {
           "colorbar": {
            "outlinewidth": 0,
            "ticks": ""
           }
          },
          "colorscale": {
           "diverging": [
            [
             0,
             "#8e0152"
            ],
            [
             0.1,
             "#c51b7d"
            ],
            [
             0.2,
             "#de77ae"
            ],
            [
             0.3,
             "#f1b6da"
            ],
            [
             0.4,
             "#fde0ef"
            ],
            [
             0.5,
             "#f7f7f7"
            ],
            [
             0.6,
             "#e6f5d0"
            ],
            [
             0.7,
             "#b8e186"
            ],
            [
             0.8,
             "#7fbc41"
            ],
            [
             0.9,
             "#4d9221"
            ],
            [
             1,
             "#276419"
            ]
           ],
           "sequential": [
            [
             0,
             "#0d0887"
            ],
            [
             0.1111111111111111,
             "#46039f"
            ],
            [
             0.2222222222222222,
             "#7201a8"
            ],
            [
             0.3333333333333333,
             "#9c179e"
            ],
            [
             0.4444444444444444,
             "#bd3786"
            ],
            [
             0.5555555555555556,
             "#d8576b"
            ],
            [
             0.6666666666666666,
             "#ed7953"
            ],
            [
             0.7777777777777778,
             "#fb9f3a"
            ],
            [
             0.8888888888888888,
             "#fdca26"
            ],
            [
             1,
             "#f0f921"
            ]
           ],
           "sequentialminus": [
            [
             0,
             "#0d0887"
            ],
            [
             0.1111111111111111,
             "#46039f"
            ],
            [
             0.2222222222222222,
             "#7201a8"
            ],
            [
             0.3333333333333333,
             "#9c179e"
            ],
            [
             0.4444444444444444,
             "#bd3786"
            ],
            [
             0.5555555555555556,
             "#d8576b"
            ],
            [
             0.6666666666666666,
             "#ed7953"
            ],
            [
             0.7777777777777778,
             "#fb9f3a"
            ],
            [
             0.8888888888888888,
             "#fdca26"
            ],
            [
             1,
             "#f0f921"
            ]
           ]
          },
          "colorway": [
           "#636efa",
           "#EF553B",
           "#00cc96",
           "#ab63fa",
           "#FFA15A",
           "#19d3f3",
           "#FF6692",
           "#B6E880",
           "#FF97FF",
           "#FECB52"
          ],
          "font": {
           "color": "#2a3f5f"
          },
          "geo": {
           "bgcolor": "white",
           "lakecolor": "white",
           "landcolor": "#E5ECF6",
           "showlakes": true,
           "showland": true,
           "subunitcolor": "white"
          },
          "hoverlabel": {
           "align": "left"
          },
          "hovermode": "closest",
          "mapbox": {
           "style": "light"
          },
          "paper_bgcolor": "white",
          "plot_bgcolor": "#E5ECF6",
          "polar": {
           "angularaxis": {
            "gridcolor": "white",
            "linecolor": "white",
            "ticks": ""
           },
           "bgcolor": "#E5ECF6",
           "radialaxis": {
            "gridcolor": "white",
            "linecolor": "white",
            "ticks": ""
           }
          },
          "scene": {
           "xaxis": {
            "backgroundcolor": "#E5ECF6",
            "gridcolor": "white",
            "gridwidth": 2,
            "linecolor": "white",
            "showbackground": true,
            "ticks": "",
            "zerolinecolor": "white"
           },
           "yaxis": {
            "backgroundcolor": "#E5ECF6",
            "gridcolor": "white",
            "gridwidth": 2,
            "linecolor": "white",
            "showbackground": true,
            "ticks": "",
            "zerolinecolor": "white"
           },
           "zaxis": {
            "backgroundcolor": "#E5ECF6",
            "gridcolor": "white",
            "gridwidth": 2,
            "linecolor": "white",
            "showbackground": true,
            "ticks": "",
            "zerolinecolor": "white"
           }
          },
          "shapedefaults": {
           "line": {
            "color": "#2a3f5f"
           }
          },
          "ternary": {
           "aaxis": {
            "gridcolor": "white",
            "linecolor": "white",
            "ticks": ""
           },
           "baxis": {
            "gridcolor": "white",
            "linecolor": "white",
            "ticks": ""
           },
           "bgcolor": "#E5ECF6",
           "caxis": {
            "gridcolor": "white",
            "linecolor": "white",
            "ticks": ""
           }
          },
          "title": {
           "x": 0.05
          },
          "xaxis": {
           "automargin": true,
           "gridcolor": "white",
           "linecolor": "white",
           "ticks": "",
           "title": {
            "standoff": 15
           },
           "zerolinecolor": "white",
           "zerolinewidth": 2
          },
          "yaxis": {
           "automargin": true,
           "gridcolor": "white",
           "linecolor": "white",
           "ticks": "",
           "title": {
            "standoff": 15
           },
           "zerolinecolor": "white",
           "zerolinewidth": 2
          }
         }
        },
        "title": {
         "text": "Basic Sankey Diagram"
        }
       }
      },
      "image/png": "[encoded data removed]",
      "text/html": [
       "<div>                            <div id=\"39d5d55a-104a-42d2-8a16-b11c53239213\" class=\"plotly-graph-div\" style=\"height:525px; width:100%;\"></div>            <script type=\"text/javascript\">                require([\"plotly\"], function(Plotly) {                    window.PLOTLYENV=window.PLOTLYENV || {};                                    if (document.getElementById(\"39d5d55a-104a-42d2-8a16-b11c53239213\")) {                    Plotly.newPlot(                        \"39d5d55a-104a-42d2-8a16-b11c53239213\",                        [{\"link\":{\"source\":[0,1,0,2,3,3],\"target\":[2,3,3,4,4,5],\"value\":[8,4,2,8,4,null]},\"node\":{\"color\":\"blue\",\"label\":[\"A1\",\"A2\",\"B1\",\"B2\",\"C1\",\"C2\"],\"line\":{\"color\":\"black\",\"width\":0.5},\"pad\":15,\"thickness\":20},\"type\":\"sankey\"}],                        {\"template\":{\"data\":{\"histogram2dcontour\":[{\"type\":\"histogram2dcontour\",\"colorbar\":{\"outlinewidth\":0,\"ticks\":\"\"},\"colorscale\":[[0.0,\"#0d0887\"],[0.1111111111111111,\"#46039f\"],[0.2222222222222222,\"#7201a8\"],[0.3333333333333333,\"#9c179e\"],[0.4444444444444444,\"#bd3786\"],[0.5555555555555556,\"#d8576b\"],[0.6666666666666666,\"#ed7953\"],[0.7777777777777778,\"#fb9f3a\"],[0.8888888888888888,\"#fdca26\"],[1.0,\"#f0f921\"]]}],\"choropleth\":[{\"type\":\"choropleth\",\"colorbar\":{\"outlinewidth\":0,\"ticks\":\"\"}}],\"histogram2d\":[{\"type\":\"histogram2d\",\"colorbar\":{\"outlinewidth\":0,\"ticks\":\"\"},\"colorscale\":[[0.0,\"#0d0887\"],[0.1111111111111111,\"#46039f\"],[0.2222222222222222,\"#7201a8\"],[0.3333333333333333,\"#9c179e\"],[0.4444444444444444,\"#bd3786\"],[0.5555555555555556,\"#d8576b\"],[0.6666666666666666,\"#ed7953\"],[0.7777777777777778,\"#fb9f3a\"],[0.8888888888888888,\"#fdca26\"],[1.0,\"#f0f921\"]]}],\"heatmap\":[{\"type\":\"heatmap\",\"colorbar\":{\"outlinewidth\":0,\"ticks\":\"\"},\"colorscale\":[[0.0,\"#0d0887\"],[0.1111111111111111,\"#46039f\"],[0.2222222222222222,\"#7201a8\"],[0.3333333333333333,\"#9c179e\"],[0.4444444444444444,\"#bd3786\"],[0.5555555555555556,\"#d8576b\"],[0.6666666666666666,\"#ed7953\"],[0.7777777777777778,\"#fb9f3a\"],[0.8888888888888888,\"#fdca26\"],[1.0,\"#f0f921\"]]}],\"heatmapgl\":[{\"type\":\"heatmapgl\",\"colorbar\":{\"outlinewidth\":0,\"ticks\":\"\"},\"colorscale\":[[0.0,\"#0d0887\"],[0.1111111111111111,\"#46039f\"],[0.2222222222222222,\"#7201a8\"],[0.3333333333333333,\"#9c179e\"],[0.4444444444444444,\"#bd3786\"],[0.5555555555555556,\"#d8576b\"],[0.6666666666666666,\"#ed7953\"],[0.7777777777777778,\"#fb9f3a\"],[0.8888888888888888,\"#fdca26\"],[1.0,\"#f0f921\"]]}],\"contourcarpet\":[{\"type\":\"contourcarpet\",\"colorbar\":{\"outlinewidth\":0,\"ticks\":\"\"}}],\"contour\":[{\"type\":\"contour\",\"colorbar\":{\"outlinewidth\":0,\"ticks\":\"\"},\"colorscale\":[[0.0,\"#0d0887\"],[0.1111111111111111,\"#46039f\"],[0.2222222222222222,\"#7201a8\"],[0.3333333333333333,\"#9c179e\"],[0.4444444444444444,\"#bd3786\"],[0.5555555555555556,\"#d8576b\"],[0.6666666666666666,\"#ed7953\"],[0.7777777777777778,\"#fb9f3a\"],[0.8888888888888888,\"#fdca26\"],[1.0,\"#f0f921\"]]}],\"surface\":[{\"type\":\"surface\",\"colorbar\":{\"outlinewidth\":0,\"ticks\":\"\"},\"colorscale\":[[0.0,\"#0d0887\"],[0.1111111111111111,\"#46039f\"],[0.2222222222222222,\"#7201a8\"],[0.3333333333333333,\"#9c179e\"],[0.4444444444444444,\"#bd3786\"],[0.5555555555555556,\"#d8576b\"],[0.6666666666666666,\"#ed7953\"],[0.7777777777777778,\"#fb9f3a\"],[0.8888888888888888,\"#fdca26\"],[1.0,\"#f0f921\"]]}],\"mesh3d\":[{\"type\":\"mesh3d\",\"colorbar\":{\"outlinewidth\":0,\"ticks\":\"\"}}],\"scatter\":[{\"fillpattern\":{\"fillmode\":\"overlay\",\"size\":10,\"solidity\":0.2},\"type\":\"scatter\"}],\"parcoords\":[{\"type\":\"parcoords\",\"line\":{\"colorbar\":{\"outlinewidth\":0,\"ticks\":\"\"}}}],\"scatterpolargl\":[{\"type\":\"scatterpolargl\",\"marker\":{\"colorbar\":{\"outlinewidth\":0,\"ticks\":\"\"}}}],\"bar\":[{\"error_x\":{\"color\":\"#2a3f5f\"},\"error_y\":{\"color\":\"#2a3f5f\"},\"marker\":{\"line\":{\"color\":\"#E5ECF6\",\"width\":0.5},\"pattern\":{\"fillmode\":\"overlay\",\"size\":10,\"solidity\":0.2}},\"type\":\"bar\"}],\"scattergeo\":[{\"type\":\"scattergeo\",\"marker\":{\"colorbar\":{\"outlinewidth\":0,\"ticks\":\"\"}}}],\"scatterpolar\":[{\"type\":\"scatterpolar\",\"marker\":{\"colorbar\":{\"outlinewidth\":0,\"ticks\":\"\"}}}],\"histogram\":[{\"marker\":{\"pattern\":{\"fillmode\":\"overlay\",\"size\":10,\"solidity\":0.2}},\"type\":\"histogram\"}],\"scattergl\":[{\"type\":\"scattergl\",\"marker\":{\"colorbar\":{\"outlinewidth\":0,\"ticks\":\"\"}}}],\"scatter3d\":[{\"type\":\"scatter3d\",\"line\":{\"colorbar\":{\"outlinewidth\":0,\"ticks\":\"\"}},\"marker\":{\"colorbar\":{\"outlinewidth\":0,\"ticks\":\"\"}}}],\"scattermapbox\":[{\"type\":\"scattermapbox\",\"marker\":{\"colorbar\":{\"outlinewidth\":0,\"ticks\":\"\"}}}],\"scatterternary\":[{\"type\":\"scatterternary\",\"marker\":{\"colorbar\":{\"outlinewidth\":0,\"ticks\":\"\"}}}],\"scattercarpet\":[{\"type\":\"scattercarpet\",\"marker\":{\"colorbar\":{\"outlinewidth\":0,\"ticks\":\"\"}}}],\"carpet\":[{\"aaxis\":{\"endlinecolor\":\"#2a3f5f\",\"gridcolor\":\"white\",\"linecolor\":\"white\",\"minorgridcolor\":\"white\",\"startlinecolor\":\"#2a3f5f\"},\"baxis\":{\"endlinecolor\":\"#2a3f5f\",\"gridcolor\":\"white\",\"linecolor\":\"white\",\"minorgridcolor\":\"white\",\"startlinecolor\":\"#2a3f5f\"},\"type\":\"carpet\"}],\"table\":[{\"cells\":{\"fill\":{\"color\":\"#EBF0F8\"},\"line\":{\"color\":\"white\"}},\"header\":{\"fill\":{\"color\":\"#C8D4E3\"},\"line\":{\"color\":\"white\"}},\"type\":\"table\"}],\"barpolar\":[{\"marker\":{\"line\":{\"color\":\"#E5ECF6\",\"width\":0.5},\"pattern\":{\"fillmode\":\"overlay\",\"size\":10,\"solidity\":0.2}},\"type\":\"barpolar\"}],\"pie\":[{\"automargin\":true,\"type\":\"pie\"}]},\"layout\":{\"autotypenumbers\":\"strict\",\"colorway\":[\"#636efa\",\"#EF553B\",\"#00cc96\",\"#ab63fa\",\"#FFA15A\",\"#19d3f3\",\"#FF6692\",\"#B6E880\",\"#FF97FF\",\"#FECB52\"],\"font\":{\"color\":\"#2a3f5f\"},\"hovermode\":\"closest\",\"hoverlabel\":{\"align\":\"left\"},\"paper_bgcolor\":\"white\",\"plot_bgcolor\":\"#E5ECF6\",\"polar\":{\"bgcolor\":\"#E5ECF6\",\"angularaxis\":{\"gridcolor\":\"white\",\"linecolor\":\"white\",\"ticks\":\"\"},\"radialaxis\":{\"gridcolor\":\"white\",\"linecolor\":\"white\",\"ticks\":\"\"}},\"ternary\":{\"bgcolor\":\"#E5ECF6\",\"aaxis\":{\"gridcolor\":\"white\",\"linecolor\":\"white\",\"ticks\":\"\"},\"baxis\":{\"gridcolor\":\"white\",\"linecolor\":\"white\",\"ticks\":\"\"},\"caxis\":{\"gridcolor\":\"white\",\"linecolor\":\"white\",\"ticks\":\"\"}},\"coloraxis\":{\"colorbar\":{\"outlinewidth\":0,\"ticks\":\"\"}},\"colorscale\":{\"sequential\":[[0.0,\"#0d0887\"],[0.1111111111111111,\"#46039f\"],[0.2222222222222222,\"#7201a8\"],[0.3333333333333333,\"#9c179e\"],[0.4444444444444444,\"#bd3786\"],[0.5555555555555556,\"#d8576b\"],[0.6666666666666666,\"#ed7953\"],[0.7777777777777778,\"#fb9f3a\"],[0.8888888888888888,\"#fdca26\"],[1.0,\"#f0f921\"]],\"sequentialminus\":[[0.0,\"#0d0887\"],[0.1111111111111111,\"#46039f\"],[0.2222222222222222,\"#7201a8\"],[0.3333333333333333,\"#9c179e\"],[0.4444444444444444,\"#bd3786\"],[0.5555555555555556,\"#d8576b\"],[0.6666666666666666,\"#ed7953\"],[0.7777777777777778,\"#fb9f3a\"],[0.8888888888888888,\"#fdca26\"],[1.0,\"#f0f921\"]],\"diverging\":[[0,\"#8e0152\"],[0.1,\"#c51b7d\"],[0.2,\"#de77ae\"],[0.3,\"#f1b6da\"],[0.4,\"#fde0ef\"],[0.5,\"#f7f7f7\"],[0.6,\"#e6f5d0\"],[0.7,\"#b8e186\"],[0.8,\"#7fbc41\"],[0.9,\"#4d9221\"],[1,\"#276419\"]]},\"xaxis\":{\"gridcolor\":\"white\",\"linecolor\":\"white\",\"ticks\":\"\",\"title\":{\"standoff\":15},\"zerolinecolor\":\"white\",\"automargin\":true,\"zerolinewidth\":2},\"yaxis\":{\"gridcolor\":\"white\",\"linecolor\":\"white\",\"ticks\":\"\",\"title\":{\"standoff\":15},\"zerolinecolor\":\"white\",\"automargin\":true,\"zerolinewidth\":2},\"scene\":{\"xaxis\":{\"backgroundcolor\":\"#E5ECF6\",\"gridcolor\":\"white\",\"linecolor\":\"white\",\"showbackground\":true,\"ticks\":\"\",\"zerolinecolor\":\"white\",\"gridwidth\":2},\"yaxis\":{\"backgroundcolor\":\"#E5ECF6\",\"gridcolor\":\"white\",\"linecolor\":\"white\",\"showbackground\":true,\"ticks\":\"\",\"zerolinecolor\":\"white\",\"gridwidth\":2},\"zaxis\":{\"backgroundcolor\":\"#E5ECF6\",\"gridcolor\":\"white\",\"linecolor\":\"white\",\"showbackground\":true,\"ticks\":\"\",\"zerolinecolor\":\"white\",\"gridwidth\":2}},\"shapedefaults\":{\"line\":{\"color\":\"#2a3f5f\"}},\"annotationdefaults\":{\"arrowcolor\":\"#2a3f5f\",\"arrowhead\":0,\"arrowwidth\":1},\"geo\":{\"bgcolor\":\"white\",\"landcolor\":\"#E5ECF6\",\"subunitcolor\":\"white\",\"showland\":true,\"showlakes\":true,\"lakecolor\":\"white\"},\"title\":{\"x\":0.05},\"mapbox\":{\"style\":\"light\"}}},\"title\":{\"text\":\"Basic Sankey Diagram\"},\"font\":{\"size\":10}},                        {\"responsive\": true}                    ).then(function(){\n",
       "                            \n",
       "var gd = document.getElementById('39d5d55a-104a-42d2-8a16-b11c53239213');\n",
       "var x = new MutationObserver(function (mutations, observer) {{\n",
       "        var display = window.getComputedStyle(gd).display;\n",
       "        if (!display || display === 'none') {{\n",
       "            console.log([gd, 'removed!']);\n",
       "            Plotly.purge(gd);\n",
       "            observer.disconnect();\n",
       "        }}\n",
       "}});\n",
       "\n",
       "// Listen for the removal of the full notebook cells\n",
       "var notebookContainer = gd.closest('#notebook-container');\n",
       "if (notebookContainer) {{\n",
       "    x.observe(notebookContainer, {childList: true});\n",
       "}}\n",
       "\n",
       "// Listen for the clearing of the current output cell\n",
       "var outputEl = gd.closest('.output');\n",
       "if (outputEl) {{\n",
       "    x.observe(outputEl, {childList: true});\n",
       "}}\n",
       "\n",
       "                        })                };                });            </script>        </div>"
      ]
     },
     "metadata": {},
     "output_type": "display_data"
    }
   ],
   "source": [
    "# -*- coding: utf-8 -*-\n",
    "\"\"\"\n",
    "Created on Fri Aug 18 13:43:52 2023\n",
    "\n",
    "@author: Pedram Manouchehri\n",
    "\"\"\"\n",
    "\n",
    "\n",
    "\n",
    "fig = go.Figure(data=[go.Sankey(\n",
    "    node = dict(\n",
    "      pad = 15,\n",
    "      thickness = 20,\n",
    "      line = dict(color = \"black\", width = 0.5),\n",
    "      label = [\"A1\", \"A2\", \"B1\", \"B2\", \"C1\", \"C2\"],\n",
    "      color = \"blue\"\n",
    "    ),\n",
    "    link = dict(\n",
    "      source = [0, 1, 0, 2, 3, 3], # indices correspond to labels, eg A1, A2, A1, B1, ...\n",
    "      target = [2, 3, 3, 4, 4, 5],\n",
    "      value = [8, 4, 2, 8, 4, np.nan]\n",
    "  ))])\n",
    "\n",
    "fig.update_layout(title_text=\"Basic Sankey Diagram\", font_size=10)\n",
    "fig.show()"
   ]
  },
  {
   "cell_type": "code",
   "execution_count": null,
   "id": "f8467c2d",
   "metadata": {},
   "outputs": [],
   "source": []
  },
  {
   "cell_type": "code",
   "execution_count": null,
   "id": "bec6a0e8",
   "metadata": {},
   "outputs": [],
   "source": [
    "values"
   ]
  },
  {
   "cell_type": "code",
   "execution_count": null,
   "id": "a9bd405f",
   "metadata": {},
   "outputs": [],
   "source": []
  }
 ],
 "metadata": {
  "hide_input": false,
  "kernelspec": {
   "display_name": "Python 3 (ipykernel)",
   "language": "python",
   "name": "python3"
  },
  "language_info": {
   "codemirror_mode": {
    "name": "ipython",
    "version": 3
   },
   "file_extension": ".py",
   "mimetype": "text/x-python",
   "name": "python",
   "nbconvert_exporter": "python",
   "pygments_lexer": "ipython3",
   "version": "3.10.9"
  }
 },
 "nbformat": 4,
 "nbformat_minor": 5
}
