{
 "cells": [
  {
   "cell_type": "markdown",
   "id": "c3521cf9",
   "metadata": {},
   "source": [
    "* Run on KERAS for LSTM, DL\n",
    "* Code from Nam \n",
    "https://github.com/NamNguyen2015/TFM/blob/main/codes/TFM_Nam.ipynb?fbclid=IwAR164J-mRvMrTpCb96_Ag49VJ79a0MclimlEWLEzkd8te4jBHFJLDZZ7jZg\n",
    "\n",
    "* cleaned data\n",
    "https://github.com/NamNguyen2015/TFM/blob/main/datas/Option_B/Datas_cleaned/Brazil_Energy%20balance%20matrix_cleaned.xlsx?fbclid=IwAR10RWB5Cey70nSRzzVI5p78Tj3CUW6OxkX1eJXAfFiDooemH5bI3cOlSPY\n"
   ]
  },
  {
   "cell_type": "code",
   "execution_count": 1,
   "id": "9b50d269-8097-4d48-8e94-761f011268d9",
   "metadata": {},
   "outputs": [],
   "source": [
    "import pandas as pd\n",
    "import seaborn as sns\n",
    "import matplotlib.pyplot as plt\n",
    "import numpy as np\n",
    "import os\n",
    "\n"
   ]
  },
  {
   "cell_type": "markdown",
   "id": "9f7f50a2-af4d-46b6-a816-0a8ce1a42948",
   "metadata": {},
   "source": [
    "# I. About the dataset\n",
    "\n",
    "We use the dataset **Energy balance matrix** from 1970 to 2021 of Brazil. The dataset is downloaded in the website of \n",
    "Olade.\n",
    "\n",
    "The calculations for data processing base on the **Manual Olade 2011**"
   ]
  },
  {
   "cell_type": "markdown",
   "id": "b92019b0-eca3-49bb-ae8d-70b8bb8e4b14",
   "metadata": {},
   "source": [
    "## I.1 Load the dataset"
   ]
  },
  {
   "cell_type": "code",
   "execution_count": 2,
   "id": "91d8a9c9-5d12-4055-a28e-9e62d39584a5",
   "metadata": {},
   "outputs": [
    {
     "ename": "FileNotFoundError",
     "evalue": "[Errno 2] No such file or directory: 'Brazil_Energy balance matrix.xlsx'",
     "output_type": "error",
     "traceback": [
      "\u001b[1;31m---------------------------------------------------------------------------\u001b[0m",
      "\u001b[1;31mFileNotFoundError\u001b[0m                         Traceback (most recent call last)",
      "Cell \u001b[1;32mIn[2], line 4\u001b[0m\n\u001b[0;32m      2\u001b[0m file_path \u001b[38;5;241m=\u001b[39m \u001b[38;5;124m'\u001b[39m\u001b[38;5;124mBrazil_Energy balance matrix.xlsx\u001b[39m\u001b[38;5;124m'\u001b[39m\n\u001b[0;32m      3\u001b[0m \u001b[38;5;66;03m#File excel with multi-sheet_names is read as an Dictionary\u001b[39;00m\n\u001b[1;32m----> 4\u001b[0m Dict \u001b[38;5;241m=\u001b[39m \u001b[43mpd\u001b[49m\u001b[38;5;241;43m.\u001b[39;49m\u001b[43mread_excel\u001b[49m\u001b[43m(\u001b[49m\u001b[43mfile_path\u001b[49m\u001b[43m,\u001b[49m\u001b[43m \u001b[49m\u001b[43msheet_name\u001b[49m\u001b[38;5;241;43m=\u001b[39;49m\u001b[38;5;28;43;01mNone\u001b[39;49;00m\u001b[43m,\u001b[49m\u001b[43m \u001b[49m\u001b[43mskiprows\u001b[49m\u001b[38;5;241;43m=\u001b[39;49m\u001b[38;5;28;43mrange\u001b[39;49m\u001b[43m(\u001b[49m\u001b[38;5;241;43m4\u001b[39;49m\u001b[43m)\u001b[49m\u001b[43m,\u001b[49m\u001b[43m \u001b[49m\u001b[43mskipfooter\u001b[49m\u001b[38;5;241;43m=\u001b[39;49m\u001b[38;5;241;43m3\u001b[39;49m\u001b[43m)\u001b[49m\n\u001b[0;32m      6\u001b[0m \u001b[38;5;28;01mfor\u001b[39;00m k \u001b[38;5;129;01min\u001b[39;00m Dict\u001b[38;5;241m.\u001b[39mkeys():       \n\u001b[0;32m      7\u001b[0m     \u001b[38;5;66;03m# Round the values of each column in dataframe with 2 decimals\u001b[39;00m\n\u001b[0;32m      8\u001b[0m     Dict[k]\u001b[38;5;241m=\u001b[39mDict[k]\u001b[38;5;241m.\u001b[39mapplymap(\u001b[38;5;28;01mlambda\u001b[39;00m x: \u001b[38;5;28mround\u001b[39m(x, \u001b[38;5;241m2\u001b[39m) \u001b[38;5;28;01mif\u001b[39;00m \u001b[38;5;28misinstance\u001b[39m(x, (\u001b[38;5;28mint\u001b[39m, \u001b[38;5;28mfloat\u001b[39m)) \u001b[38;5;28;01melse\u001b[39;00m x)\n",
      "File \u001b[1;32m~\\AppData\\Local\\anaconda3\\lib\\site-packages\\pandas\\io\\excel\\_base.py:478\u001b[0m, in \u001b[0;36mread_excel\u001b[1;34m(io, sheet_name, header, names, index_col, usecols, dtype, engine, converters, true_values, false_values, skiprows, nrows, na_values, keep_default_na, na_filter, verbose, parse_dates, date_parser, date_format, thousands, decimal, comment, skipfooter, storage_options, dtype_backend)\u001b[0m\n\u001b[0;32m    476\u001b[0m \u001b[38;5;28;01mif\u001b[39;00m \u001b[38;5;129;01mnot\u001b[39;00m \u001b[38;5;28misinstance\u001b[39m(io, ExcelFile):\n\u001b[0;32m    477\u001b[0m     should_close \u001b[38;5;241m=\u001b[39m \u001b[38;5;28;01mTrue\u001b[39;00m\n\u001b[1;32m--> 478\u001b[0m     io \u001b[38;5;241m=\u001b[39m \u001b[43mExcelFile\u001b[49m\u001b[43m(\u001b[49m\u001b[43mio\u001b[49m\u001b[43m,\u001b[49m\u001b[43m \u001b[49m\u001b[43mstorage_options\u001b[49m\u001b[38;5;241;43m=\u001b[39;49m\u001b[43mstorage_options\u001b[49m\u001b[43m,\u001b[49m\u001b[43m \u001b[49m\u001b[43mengine\u001b[49m\u001b[38;5;241;43m=\u001b[39;49m\u001b[43mengine\u001b[49m\u001b[43m)\u001b[49m\n\u001b[0;32m    479\u001b[0m \u001b[38;5;28;01melif\u001b[39;00m engine \u001b[38;5;129;01mand\u001b[39;00m engine \u001b[38;5;241m!=\u001b[39m io\u001b[38;5;241m.\u001b[39mengine:\n\u001b[0;32m    480\u001b[0m     \u001b[38;5;28;01mraise\u001b[39;00m \u001b[38;5;167;01mValueError\u001b[39;00m(\n\u001b[0;32m    481\u001b[0m         \u001b[38;5;124m\"\u001b[39m\u001b[38;5;124mEngine should not be specified when passing \u001b[39m\u001b[38;5;124m\"\u001b[39m\n\u001b[0;32m    482\u001b[0m         \u001b[38;5;124m\"\u001b[39m\u001b[38;5;124man ExcelFile - ExcelFile already has the engine set\u001b[39m\u001b[38;5;124m\"\u001b[39m\n\u001b[0;32m    483\u001b[0m     )\n",
      "File \u001b[1;32m~\\AppData\\Local\\anaconda3\\lib\\site-packages\\pandas\\io\\excel\\_base.py:1496\u001b[0m, in \u001b[0;36mExcelFile.__init__\u001b[1;34m(self, path_or_buffer, engine, storage_options)\u001b[0m\n\u001b[0;32m   1494\u001b[0m     ext \u001b[38;5;241m=\u001b[39m \u001b[38;5;124m\"\u001b[39m\u001b[38;5;124mxls\u001b[39m\u001b[38;5;124m\"\u001b[39m\n\u001b[0;32m   1495\u001b[0m \u001b[38;5;28;01melse\u001b[39;00m:\n\u001b[1;32m-> 1496\u001b[0m     ext \u001b[38;5;241m=\u001b[39m \u001b[43minspect_excel_format\u001b[49m\u001b[43m(\u001b[49m\n\u001b[0;32m   1497\u001b[0m \u001b[43m        \u001b[49m\u001b[43mcontent_or_path\u001b[49m\u001b[38;5;241;43m=\u001b[39;49m\u001b[43mpath_or_buffer\u001b[49m\u001b[43m,\u001b[49m\u001b[43m \u001b[49m\u001b[43mstorage_options\u001b[49m\u001b[38;5;241;43m=\u001b[39;49m\u001b[43mstorage_options\u001b[49m\n\u001b[0;32m   1498\u001b[0m \u001b[43m    \u001b[49m\u001b[43m)\u001b[49m\n\u001b[0;32m   1499\u001b[0m     \u001b[38;5;28;01mif\u001b[39;00m ext \u001b[38;5;129;01mis\u001b[39;00m \u001b[38;5;28;01mNone\u001b[39;00m:\n\u001b[0;32m   1500\u001b[0m         \u001b[38;5;28;01mraise\u001b[39;00m \u001b[38;5;167;01mValueError\u001b[39;00m(\n\u001b[0;32m   1501\u001b[0m             \u001b[38;5;124m\"\u001b[39m\u001b[38;5;124mExcel file format cannot be determined, you must specify \u001b[39m\u001b[38;5;124m\"\u001b[39m\n\u001b[0;32m   1502\u001b[0m             \u001b[38;5;124m\"\u001b[39m\u001b[38;5;124man engine manually.\u001b[39m\u001b[38;5;124m\"\u001b[39m\n\u001b[0;32m   1503\u001b[0m         )\n",
      "File \u001b[1;32m~\\AppData\\Local\\anaconda3\\lib\\site-packages\\pandas\\io\\excel\\_base.py:1371\u001b[0m, in \u001b[0;36minspect_excel_format\u001b[1;34m(content_or_path, storage_options)\u001b[0m\n\u001b[0;32m   1368\u001b[0m \u001b[38;5;28;01mif\u001b[39;00m \u001b[38;5;28misinstance\u001b[39m(content_or_path, \u001b[38;5;28mbytes\u001b[39m):\n\u001b[0;32m   1369\u001b[0m     content_or_path \u001b[38;5;241m=\u001b[39m BytesIO(content_or_path)\n\u001b[1;32m-> 1371\u001b[0m \u001b[38;5;28;01mwith\u001b[39;00m \u001b[43mget_handle\u001b[49m\u001b[43m(\u001b[49m\n\u001b[0;32m   1372\u001b[0m \u001b[43m    \u001b[49m\u001b[43mcontent_or_path\u001b[49m\u001b[43m,\u001b[49m\u001b[43m \u001b[49m\u001b[38;5;124;43m\"\u001b[39;49m\u001b[38;5;124;43mrb\u001b[39;49m\u001b[38;5;124;43m\"\u001b[39;49m\u001b[43m,\u001b[49m\u001b[43m \u001b[49m\u001b[43mstorage_options\u001b[49m\u001b[38;5;241;43m=\u001b[39;49m\u001b[43mstorage_options\u001b[49m\u001b[43m,\u001b[49m\u001b[43m \u001b[49m\u001b[43mis_text\u001b[49m\u001b[38;5;241;43m=\u001b[39;49m\u001b[38;5;28;43;01mFalse\u001b[39;49;00m\n\u001b[0;32m   1373\u001b[0m \u001b[43m\u001b[49m\u001b[43m)\u001b[49m \u001b[38;5;28;01mas\u001b[39;00m handle:\n\u001b[0;32m   1374\u001b[0m     stream \u001b[38;5;241m=\u001b[39m handle\u001b[38;5;241m.\u001b[39mhandle\n\u001b[0;32m   1375\u001b[0m     stream\u001b[38;5;241m.\u001b[39mseek(\u001b[38;5;241m0\u001b[39m)\n",
      "File \u001b[1;32m~\\AppData\\Local\\anaconda3\\lib\\site-packages\\pandas\\io\\common.py:868\u001b[0m, in \u001b[0;36mget_handle\u001b[1;34m(path_or_buf, mode, encoding, compression, memory_map, is_text, errors, storage_options)\u001b[0m\n\u001b[0;32m    859\u001b[0m         handle \u001b[38;5;241m=\u001b[39m \u001b[38;5;28mopen\u001b[39m(\n\u001b[0;32m    860\u001b[0m             handle,\n\u001b[0;32m    861\u001b[0m             ioargs\u001b[38;5;241m.\u001b[39mmode,\n\u001b[1;32m   (...)\u001b[0m\n\u001b[0;32m    864\u001b[0m             newline\u001b[38;5;241m=\u001b[39m\u001b[38;5;124m\"\u001b[39m\u001b[38;5;124m\"\u001b[39m,\n\u001b[0;32m    865\u001b[0m         )\n\u001b[0;32m    866\u001b[0m     \u001b[38;5;28;01melse\u001b[39;00m:\n\u001b[0;32m    867\u001b[0m         \u001b[38;5;66;03m# Binary mode\u001b[39;00m\n\u001b[1;32m--> 868\u001b[0m         handle \u001b[38;5;241m=\u001b[39m \u001b[38;5;28;43mopen\u001b[39;49m\u001b[43m(\u001b[49m\u001b[43mhandle\u001b[49m\u001b[43m,\u001b[49m\u001b[43m \u001b[49m\u001b[43mioargs\u001b[49m\u001b[38;5;241;43m.\u001b[39;49m\u001b[43mmode\u001b[49m\u001b[43m)\u001b[49m\n\u001b[0;32m    869\u001b[0m     handles\u001b[38;5;241m.\u001b[39mappend(handle)\n\u001b[0;32m    871\u001b[0m \u001b[38;5;66;03m# Convert BytesIO or file objects passed with an encoding\u001b[39;00m\n",
      "\u001b[1;31mFileNotFoundError\u001b[0m: [Errno 2] No such file or directory: 'Brazil_Energy balance matrix.xlsx'"
     ]
    }
   ],
   "source": [
    "# Load the file\n",
    "file_path = 'Brazil_Energy balance matrix.xlsx'\n",
    "#File excel with multi-sheet_names is read as an Dictionary\n",
    "Dict = pd.read_excel(file_path, sheet_name=None, skiprows=range(4), skipfooter=3)\n",
    "\n",
    "for k in Dict.keys():       \n",
    "    # Round the values of each column in dataframe with 2 decimals\n",
    "    Dict[k]=Dict[k].applymap(lambda x: round(x, 2) if isinstance(x, (int, float)) else x)\n",
    "    \n",
    "    #Ignor the first row (unit) in each df\n",
    "    Dict[k]=Dict[k][1:]\n",
    "    \n",
    "    #Rename of columns in df\n",
    "    Dict[k].rename(columns={'Unnamed: 0': 'SECTOR','OTHER PRIMARY_x000d_\\n':'OTHER PRIMARY'}, inplace=True)   \n",
    "    \n",
    "    # Remove space in column names and Sector names\n",
    "    Dict[k].columns=Dict[k].columns.str.strip()\n",
    "    Dict[k].SECTOR=Dict[k].SECTOR.str.strip()\n",
    "  \n",
    "        \n",
    "    \n",
    "    \n",
    "print(Dict.keys())\n",
    "\n",
    "# Convert the keys of Dict to only contain the year\n",
    "for k in list(Dict.keys()):\n",
    "    k_new = k.split(' - ')[0]\n",
    "    Dict[k_new] = Dict.pop(k)\n",
    "    \n",
    "    Dict[k_new][\"Year\"]=k_new\n",
    "        \n",
    "print('\\n')\n",
    "print(Dict.keys())\n",
    "\n"
   ]
  },
  {
   "cell_type": "code",
   "execution_count": null,
   "id": "b7a5c3a8-95f2-43da-8a12-412ff9bcba51",
   "metadata": {},
   "outputs": [],
   "source": [
    "df_2021=Dict['2021']"
   ]
  },
  {
   "cell_type": "code",
   "execution_count": null,
   "id": "a0d72624-507a-4873-9c16-31105c57e354",
   "metadata": {},
   "outputs": [],
   "source": [
    "df_2021.columns  \n",
    "\n",
    "#LPG stands for Liquefied Petroleum Gas"
   ]
  },
  {
   "cell_type": "markdown",
   "id": "1c9ff6d0-f2f4-4631-b35f-5270e7845b2d",
   "metadata": {},
   "source": [
    "## I.2 Frist visualization of energy balance (Supply-Transformation-Consumption)"
   ]
  },
  {
   "cell_type": "code",
   "execution_count": null,
   "id": "de0bcfa7-a9d8-4a18-b229-d3048f280a30",
   "metadata": {},
   "outputs": [],
   "source": [
    "Dict1=Dict.copy()\n",
    "\n",
    "for k in Dict1.keys():\n",
    "    selected_columns = ['SECTOR', 'TOTAL PRIMARIES', 'TOTAL SECUNDARIES', 'TOTAL','Year']\n",
    "    Dict1[k]=Dict1[k][selected_columns]\n",
    "    selected_rows=['TOTAL SUPPLY','TOTAL TRANSFORMATION','FINAL CONSUMPTION']\n",
    "    Dict1[k]=Dict1[k][Dict1[k]['SECTOR'].isin(selected_rows)]\n",
    "    \n",
    "    # Concatenate all DataFrames in Dict vertically\n",
    "    df_conc = pd.concat(Dict1.values(), ignore_index=True)\n",
    "    \n",
    "    # Move the column \"Year\" to the first position\n",
    "    last_column_name = df_conc.columns[-1]\n",
    "    # Reorder the columns by concatenating the last column with the rest of the DataFrame\n",
    "    df_conc = pd.concat([df_conc[last_column_name], df_conc.drop(columns=last_column_name)], axis=1) # Datafames of TOTAL SUPPLY\n",
    "    df_conc.set_index(\"Year\", inplace=True)\n",
    "    df_conc.index = df_conc.index.astype(int)\n",
    "    \n",
    "# Get the df \"TOTAL SUPPLY\"\n",
    "\n",
    "df_TS=df_conc.loc[df_conc[\"SECTOR\"]==\"TOTAL SUPPLY\"].drop(columns=[\"SECTOR\"], axis=1)\n",
    "\n",
    "\n",
    "\n",
    "df_TT=df_conc.loc[df_conc[\"SECTOR\"]==\"TOTAL TRANSFORMATION\"].drop(columns=[\"SECTOR\"], axis=1)\n",
    "\n",
    "\n",
    "# Get the df \"FINAL CONSUMPTION\"\n",
    "\n",
    "df_TC=df_conc.loc[df_conc[\"SECTOR\"]==\"FINAL CONSUMPTION\"].drop(columns=[\"SECTOR\"], axis=1)\n",
    "\n",
    "\n",
    "\n",
    "df_TS.head()"
   ]
  },
  {
   "cell_type": "code",
   "execution_count": null,
   "id": "a82f3f45-0b28-41f1-96f4-b5f3ec13b0e0",
   "metadata": {},
   "outputs": [],
   "source": [
    "\n",
    "# Create a figure and axis\n",
    "fig, ax = plt.subplots(figsize=( 10,6))\n",
    "\n",
    "# Plot Total Supply\n",
    "sns.lineplot(data=df_TS, x=df_TS.index, y='TOTAL', label='Total Supply', ax=ax)\n",
    "\n",
    "# Plot Total Transformation\n",
    "sns.lineplot(data=df_TT, x=df_TT.index, y='TOTAL', label='Total Transformation', ax=ax)\n",
    "\n",
    "# Plot Total Consumption\n",
    "sns.lineplot(data=df_TC, x=df_TC.index, y='TOTAL', label='Total Consumption', ax=ax)\n",
    "\n",
    "# Set labels and title\n",
    "ax.set_xlabel('Year')\n",
    "ax.set_ylabel('Values')\n",
    "ax.set_title('Total Supply, Transformation, and Consumption vs Year')\n",
    "ax.set_xticks(df_TS.index[::5])\n",
    "\n",
    "# Show the legend\n",
    "ax.legend()\n",
    "\n",
    "# Show the plot\n",
    "plt.grid(True)\n",
    "plt.show()"
   ]
  },
  {
   "cell_type": "markdown",
   "id": "af48ac1d-a966-4e67-930c-c3ac1c9f612d",
   "metadata": {},
   "source": [
    "## I.3 SUPPLY\n",
    "\n",
    "### I.3.1. Preview the Total Supply of Primary Sources\n",
    "\n",
    "The primary sources include: **'OIL', 'NATURAL GAS', 'COAL', 'HYDROENERGY', 'GEOTHERMAL',\n",
    "       'NUCLEAR', 'FIREWOOD', 'SUGARCANE AND PRODUCTS', 'OTHER PRIMARY'**"
   ]
  },
  {
   "cell_type": "code",
   "execution_count": null,
   "id": "574b6ce8-f05f-465e-8067-025d0578b5cd",
   "metadata": {},
   "outputs": [],
   "source": [
    "Dict2=Dict.copy()\n",
    "\n",
    "for k in Dict2.keys():\n",
    "    selected_columns = ['SECTOR', 'OIL', 'NATURAL GAS', 'COAL', 'HYDROENERGY', 'GEOTHERMAL',\n",
    "       'NUCLEAR', 'FIREWOOD', 'SUGARCANE AND PRODUCTS', 'OTHER PRIMARY', 'TOTAL PRIMARIES','Year']\n",
    "    Dict2[k]=Dict2[k][selected_columns]\n",
    "    selected_rows=['TOTAL SUPPLY']#,'TOTAL TRANSFORMATION','FINAL CONSUMPTION']\n",
    "    Dict2[k]=Dict2[k][Dict2[k]['SECTOR'].isin(selected_rows)]\n",
    "    \n",
    "    # Concatenate all DataFrames in Dict vertically\n",
    "    df_conc = pd.concat(Dict2.values(), ignore_index=True)\n",
    "    \n",
    "    # Move the column \"Year\" to the first position\n",
    "    last_column_name = df_conc.columns[-1]\n",
    "    # Reorder the columns by concatenating the last column with the rest of the DataFrame\n",
    "    df_conc = pd.concat([df_conc[last_column_name], df_conc.drop(columns=last_column_name)], axis=1) # Datafames of TOTAL SUPPLY\n",
    "    df_conc.set_index(\"Year\", inplace=True)\n",
    "    df_conc.index = df_conc.index.astype(int)\n",
    "    df_TS1=df_conc.drop(columns=\"SECTOR\")\n",
    "    # Set the value \"NaN\" by Zero\n",
    "    df_TS1 = df_TS1.apply(lambda column: column.fillna(0))\n",
    "    \n",
    "df_TS1.head()\n"
   ]
  },
  {
   "cell_type": "code",
   "execution_count": null,
   "id": "4e4c6926-c093-4472-8a3a-a870afd6ac1d",
   "metadata": {},
   "outputs": [],
   "source": [
    "# Check if any columns have negative values\n",
    "def negative_values(df):\n",
    "    columns_with_negative_values = df.columns[df.lt(0).any()]\n",
    "    # Count the number of negative values in each column\n",
    "    negative_values_count = df.lt(0).sum()\n",
    "\n",
    "    # Print the columns with negative values (if any)\n",
    "    if not columns_with_negative_values.empty:\n",
    "        print(\"Columns with negative values:\")\n",
    "        print(columns_with_negative_values)\n",
    "        # Print the count of negative values in each column\n",
    "        print(\"Number of negative values in each column:\")\n",
    "        print(negative_values_count)\n",
    "    else:\n",
    "        print(\"No columns have negative values.\")\n",
    "        \n",
    "negative_values(df_TS1)"
   ]
  },
  {
   "cell_type": "code",
   "execution_count": null,
   "id": "ad179436-14a6-4356-bc32-2826e5f8235c",
   "metadata": {},
   "outputs": [],
   "source": [
    "# Drop the 'TOTAL PRIMARIES' column (if not already dropped) as it is not needed for the stack plot\n",
    "df_stackplot = df_TS1.drop(columns=\"TOTAL PRIMARIES\")\n",
    "\n",
    "# Separate the positive and negative parts of the 'NUCLEAR' column\n",
    "positive_nuclear = df_stackplot['NUCLEAR'].clip(lower=0)\n",
    "negative_nuclear = df_stackplot['NUCLEAR'].clip(upper=0).abs()\n",
    "\n",
    "# Plot the stack plot for positive and negative parts separately\n",
    "plt.figure(figsize=(10, 6))  # Set the figure size if needed\n",
    "ax = df_stackplot.drop(columns='NUCLEAR').plot.area(stacked=True, alpha=0.7)\n",
    "positive_nuclear.plot(kind='area', ax=ax, color='green', alpha=0.7, label='NUCLEAR')\n",
    "#negative_nuclear.plot(kind='area', ax=ax, color='red', alpha=0.7)\n",
    "\n",
    "plt.xlabel('Year')\n",
    "plt.ylabel('Prymary Energy Supply')\n",
    "plt.title('Primary Energy Supply Over the Years')\n",
    "\n",
    "# Move the legend directly to the figure\n",
    "plt.legend(loc='upper left', bbox_to_anchor=(1.0, 1.0))\n",
    "\n",
    "plt.show()"
   ]
  },
  {
   "cell_type": "code",
   "execution_count": null,
   "id": "c62c9924-9719-4fbc-a25a-a737cda31ab0",
   "metadata": {},
   "outputs": [],
   "source": [
    "# Drop the 'TOTAL PRIMARIES' column (if not already dropped) as it is not needed for the stack plot\n",
    "df_stackplot = df_TS1.drop(columns=\"TOTAL PRIMARIES\")\n",
    "\n",
    "# Calculate the percentage of each product relative to 'TOTAL PRIMARIES'\n",
    "percentage_columns = ['OIL', 'NATURAL GAS', 'COAL', 'HYDROENERGY', 'GEOTHERMAL', 'NUCLEAR', 'FIREWOOD', 'SUGARCANE AND PRODUCTS', 'OTHER PRIMARY']\n",
    "df_TS1_percentages = (df_stackplot[percentage_columns].div(df_TS1['TOTAL PRIMARIES'], axis=0) * 100).applymap(lambda x: round(x, 2) if isinstance(x, (int, float)) else x)\n",
    "\n",
    "# Plot both stack plots side by side\n",
    "fig, (ax1, ax2) = plt.subplots(1, 2, figsize=(18, 6))\n",
    "\n",
    "# First stack plot for Primary Energy Supply\n",
    "positive_nuclear = df_stackplot['NUCLEAR'].clip(lower=0)\n",
    "#negative_nuclear = df_stackplot['NUCLEAR'].clip(upper=0).abs()\n",
    "df_stackplot.drop(columns='NUCLEAR').plot.area(stacked=True, alpha=0.7, ax=ax1)#drop(columns='NUCLEAR').\n",
    "positive_nuclear.plot(kind='area', ax=ax1, color='green', alpha=0.7, label='NUCLEAR')\n",
    "#negative_nuclear.plot(kind='area', ax=ax1, color='red', alpha=0.7)\n",
    "ax1.set_xlabel('Year')\n",
    "ax1.set_ylabel('Primary Energy Supply')\n",
    "ax1.set_title('Primary Energy Supply Over the Years')\n",
    "ax1.legend(loc='upper left', bbox_to_anchor=(1.0, 1.0))\n",
    "\n",
    "# Second stack plot for Percentage of Primary Energy Supply\n",
    "positive_nuclear_percent = df_TS1_percentages['NUCLEAR'].clip(lower=0)\n",
    "#negative_nuclear_percent = df_TS1_percentages['NUCLEAR'].clip(upper=0).abs()\n",
    "df_TS1_percentages.drop(columns='NUCLEAR').plot.area(stacked=True, alpha=0.7, ax=ax2)\n",
    "positive_nuclear_percent.plot(kind='area', ax=ax2, color='green', alpha=0.7, label='NUCLEAR')\n",
    "#negative_nuclear_percent.plot(kind='area', ax=ax2, color='red', alpha=0.7)\n",
    "ax2.set_xlabel('Year')\n",
    "ax2.set_ylabel('Primary Energy Supply (%)')\n",
    "ax2.set_title('Percentage of Primary Energy Supply Over the Years')\n",
    "ax2.legend(loc='upper left', bbox_to_anchor=(1.0, 1.0))\n",
    "\n",
    "plt.tight_layout()\n",
    "plt.show()"
   ]
  },
  {
   "cell_type": "code",
   "execution_count": null,
   "id": "d1714033-f05b-4343-8b02-b90a9d148c49",
   "metadata": {},
   "outputs": [],
   "source": [
    "df_2021.SECTOR"
   ]
  },
  {
   "cell_type": "code",
   "execution_count": null,
   "id": "96900412-fe5e-4401-bcb2-edb081c4bbf0",
   "metadata": {},
   "outputs": [],
   "source": [
    "Dict2=Dict.copy()\n",
    "\n",
    "for k in Dict2.keys():\n",
    "    selected_columns = ['SECTOR', 'OIL', 'NATURAL GAS', 'COAL', 'HYDROENERGY', 'GEOTHERMAL',\n",
    "       'NUCLEAR', 'FIREWOOD', 'SUGARCANE AND PRODUCTS', 'OTHER PRIMARY', 'TOTAL PRIMARIES','Year']\n",
    "    Dict2[k]=Dict2[k][selected_columns]\n",
    "    selected_rows=['IMPORT', 'EXPORT']#,'TOTAL TRANSFORMATION','FINAL CONSUMPTION']\n",
    "    Dict2[k]=Dict2[k][Dict2[k]['SECTOR'].isin(selected_rows)]\n",
    "    \n",
    "    # Concatenate all DataFrames in Dict vertically\n",
    "    df_conc = pd.concat(Dict2.values(), ignore_index=True)\n",
    "    \n",
    "    # Move the column \"Year\" to the first position\n",
    "    last_column_name = df_conc.columns[-1]\n",
    "    # Reorder the columns by concatenating the last column with the rest of the DataFrame\n",
    "    df_conc = pd.concat([df_conc[last_column_name], df_conc.drop(columns=last_column_name)], axis=1) # Datafames of TOTAL SUPPLY\n",
    "    df_conc.set_index(\"Year\", inplace=True)\n",
    "    df_conc.index = df_conc.index.astype(int)\n",
    "    df_IMP_EXP=df_conc.drop(columns=\"SECTOR\")\n",
    "    # Set the value \"NaN\" by Zero\n",
    "    df_IMP_EXP = df_IMP_EXP.apply(lambda column: column.fillna(0))\n",
    "    \n",
    "df_IMP_EXP.head(5)\n"
   ]
  },
  {
   "cell_type": "markdown",
   "id": "dc85a5a2-10dc-4273-bbad-d6c3cbf57b7e",
   "metadata": {},
   "source": [
    "### I.3.2 Preview of the Total Supply of secondary energy sources\n",
    "\n",
    "The secondary energy ensources include: **'ELECTRICITY', 'LPG', 'GASOLINE/ALCOHOL',\n",
    "       'KEROSENE/JET FUEL', 'DIESEL OIL', 'FUEL OIL', 'COKE', 'CHARCOAL',\n",
    "       'GASES', 'OTHER SECONDARY','NON-ENERGY'**"
   ]
  },
  {
   "cell_type": "code",
   "execution_count": null,
   "id": "591de8d5-86a0-4825-862d-2c5acd3910a0",
   "metadata": {},
   "outputs": [],
   "source": [
    "Dict2=Dict.copy()\n",
    "\n",
    "for k in Dict2.keys():\n",
    "    selected_columns = ['SECTOR',  'ELECTRICITY', 'LPG', 'GASOLINE/ALCOHOL',\n",
    "       'KEROSENE/JET FUEL', 'DIESEL OIL', 'FUEL OIL', 'COKE', 'CHARCOAL',\n",
    "       'GASES', 'OTHER SECONDARY','NON-ENERGY', 'TOTAL SECUNDARIES','Year']\n",
    "    Dict2[k]=Dict2[k][selected_columns]\n",
    "    selected_rows=['TOTAL SUPPLY']#,'TOTAL TRANSFORMATION','FINAL CONSUMPTION']\n",
    "    Dict2[k]=Dict2[k][Dict2[k]['SECTOR'].isin(selected_rows)]\n",
    "    \n",
    "    # Concatenate all DataFrames in Dict vertically\n",
    "    df_conc = pd.concat(Dict2.values(), ignore_index=True)\n",
    "    \n",
    "    # Move the column \"Year\" to the first position\n",
    "    last_column_name = df_conc.columns[-1]\n",
    "    # Reorder the columns by concatenating the last column with the rest of the DataFrame\n",
    "    df_conc = pd.concat([df_conc[last_column_name], df_conc.drop(columns=last_column_name)], axis=1) # Datafames of TOTAL SUPPLY\n",
    "    df_conc.set_index(\"Year\", inplace=True)\n",
    "    df_conc.index = df_conc.index.astype(int)\n",
    "    df_TS2=df_conc.drop(columns=\"SECTOR\")\n",
    "    # Set the value \"NaN\" by Zero\n",
    "    df_TS2 = df_TS2.apply(lambda column: column.fillna(0))\n",
    "    \n",
    "df_TS2.head()\n",
    "\n",
    "# Calculate the percentage of each product relative to 'TOTAL PRIMARIES'\n",
    "percentage_columns_2 = ['ELECTRICITY', 'LPG', 'GASOLINE/ALCOHOL', 'KEROSENE/JET FUEL',\n",
    "       'DIESEL OIL', 'FUEL OIL', 'COKE', 'CHARCOAL', 'GASES',\n",
    "       'OTHER SECONDARY', 'NON-ENERGY']\n",
    "df_TS2_percentages = (df_TS2[percentage_columns_2].div(df_TS2['TOTAL SECUNDARIES'], axis=0) * 100).applymap(lambda x: round(x, 2) if isinstance(x, (int, float)) else x)\n"
   ]
  },
  {
   "cell_type": "code",
   "execution_count": null,
   "id": "9d783bbf-14a4-43ac-80e8-10ade4c15cae",
   "metadata": {},
   "outputs": [],
   "source": [
    "negative_values(df_TS2)"
   ]
  },
  {
   "cell_type": "code",
   "execution_count": null,
   "id": "f3f7f873-b76f-4614-8399-14db6ac25c8a",
   "metadata": {},
   "outputs": [],
   "source": [
    "# Drop the 'TOTAL SECUNDARIES' column (if not already dropped) as it is not needed for the stack plot\n",
    "df_stackplot = df_TS2.drop(columns=\"TOTAL SECUNDARIES\")\n",
    "# Plot both stack plots side by side\n",
    "fig, (ax1, ax2) = plt.subplots(1, 2, figsize=(18, 6))\n",
    "\n",
    "\n",
    "df_stackplot.plot.area(stacked=True, alpha=0.7, ax=ax1)\n",
    "ax1.set_xlabel('Year')\n",
    "ax1.set_ylabel('Secondary Energy Supply')\n",
    "ax1.set_title('Secondary Energy Supply Over the Years')\n",
    "ax1.legend(loc='upper left', bbox_to_anchor=(1.0, 1.0))\n",
    "\n",
    "df_TS2_percentages.plot.area(stacked=True, alpha=0.7, ax=ax2)\n",
    "\n",
    "ax2.set_xlabel('Year')\n",
    "ax2.set_ylabel('Secondary Energy Supply (%)')\n",
    "ax2.set_title('Percentage of Secondary Energy Supply Over the Years')\n",
    "ax2.legend(loc='upper left', bbox_to_anchor=(1.0, 1.0))\n",
    "\n",
    "plt.tight_layout()\n",
    "plt.show()"
   ]
  },
  {
   "cell_type": "markdown",
   "id": "6cdfdbc8-9b51-405a-a7b1-8341f9d7e21d",
   "metadata": {},
   "source": [
    "## I.4 CONSUMPTION\n",
    "\n"
   ]
  },
  {
   "cell_type": "markdown",
   "id": "75a2600c-16db-41ef-a911-2cea6771c703",
   "metadata": {},
   "source": [
    "\n",
    "**Antonio's notes:**\n",
    "\n",
    "Pronosticar y analizar consumos energéticos:\n",
    "\n",
    " -Balance Eurostat\n",
    " \n",
    " -Balance España\n",
    " \n",
    "Desagregar el consumo por destino\n",
    "\n",
    "Evolución de los consumos:\n",
    "\n",
    " -Patrón\n",
    " \n",
    " -Correlaciones\n",
    " \n",
    " -Tipos de consumo\n",
    " \n",
    " -Relación entre Incremento económico (ciclos económicos de crecimiento)\n",
    " \n",
    "                          Incremento consumo energético\n",
    "                          \n",
    "Análisis integrado con todos los consumos y ver si el abastecimiento, es decir, la oferta.\n",
    "\n",
    "Validar los \"nan\" de cada fuente primaria de Brasil\n",
    "\n",
    "Evaluar la industrialización de Brasil a futuro para ver como va a influir en su consumo\n",
    "\n",
    "¿Es exportador de energía Brasil?\n",
    "\n",
    "Pérdidas de energía eléctrica por distribución\n",
    "\n",
    "Capacidad operativa de energía hidroeléctrica por las capacidades hídricas de los ríos\n",
    "\n",
    "\n",
    "**Edu's notes:**\n",
    "\n",
    "Entiendo que nos dice que hay que que ver la evolución del consumo en cuanto a los suministros\n",
    "\n",
    "Relación oferta y demanda por segmentos en las series temporales\n",
    "\n",
    "De esa forma también podriamos ver la correlación entre las variables (positivas/negativas) en estas series temporales que en Brasil han influido en la demanda/oferta en los diferentes segementos en las series temporales y así se veria la evolución\n",
    "\n",
    "En cuanto a los escenarios, no se como plantearlos, se me ocurre algo pero necesito vuestra opinión:\n",
    "\n",
    "Escenario con un aumento o disminución de la población lo que reflejaría un cambio en el consumo final energético.\n",
    "\n",
    "Escenario con un aumento o disminución de la economía brasileña y su impacto en el consumo final energético.\n",
    "\n",
    "Escenario de un desarrollo tecnológico que muestre su impacto en el consumo final energético"
   ]
  },
  {
   "cell_type": "code",
   "execution_count": null,
   "id": "1afa1a13-8315-4361-8e04-0e83113269b7",
   "metadata": {},
   "outputs": [],
   "source": [
    "df_2021"
   ]
  },
  {
   "cell_type": "code",
   "execution_count": null,
   "id": "ce13bb74-911c-479e-995d-ba6782db0d28",
   "metadata": {},
   "outputs": [],
   "source": [
    "df_2021.SECTOR.unique()"
   ]
  },
  {
   "cell_type": "code",
   "execution_count": null,
   "id": "585c90c0-a044-41ab-85c4-177ce34e7432",
   "metadata": {},
   "outputs": [],
   "source": [
    "Dict2=Dict.copy()\n",
    "\n",
    "for k in Dict2.keys():\n",
    "   # selected_columns = ['SECTOR', 'OIL', 'NATURAL GAS', 'COAL', 'HYDROENERGY', 'GEOTHERMAL',\n",
    "    #   'NUCLEAR', 'FIREWOOD', 'SUGARCANE AND PRODUCTS', 'OTHER PRIMARY', 'TOTAL PRIMARIES','Year']\n",
    "    selected_columns = ['SECTOR','TOTAL','Year']\n",
    "    Dict2[k]=Dict2[k][selected_columns]\n",
    "    selected_rows=['TRANSPORT', 'INDUSTRIAL', 'RESIDENTIAL',\n",
    "       'COMMERCIAL, SERVICES, PUBLIC', 'AGRICULTURE, FISHING AND MINING',\n",
    "       'CONSTRUCTION AND OTHERS',\n",
    "       'NON-ENERGY CONSUMPTION','ENERGY CONSUMPTION', 'FINAL CONSUMPTION']\n",
    "    Dict2[k]=Dict2[k][Dict2[k]['SECTOR'].isin(selected_rows)]\n",
    "    \n",
    "    # Concatenate all DataFrames in Dict vertically\n",
    "    df_conc = pd.concat(Dict2.values(), ignore_index=True)\n",
    "    \n",
    "    # Move the column \"Year\" to the first position\n",
    "    last_column_name = df_conc.columns[-1]\n",
    "    # Reorder the columns by concatenating the last column with the rest of the DataFrame\n",
    "    df_conc = pd.concat([df_conc[last_column_name], df_conc.drop(columns=last_column_name)], axis=1) # Datafames of TOTAL SUPPLY\n",
    "    df_conc.set_index(\"Year\", inplace=True)\n",
    "    df_conc.index = df_conc.index.astype(int)\n",
    "    #df_TC1=df_conc.drop(columns=\"SECTOR\")\n",
    "    # Set the value \"NaN\" by Zero\n",
    "    df_TC1 = df_conc.apply(lambda column: column.fillna(0))\n",
    "    \n",
    "df_TC1.tail(10)"
   ]
  },
  {
   "cell_type": "code",
   "execution_count": null,
   "id": "e841e3b5-fb4c-46ac-be17-18b5c95128a7",
   "metadata": {},
   "outputs": [],
   "source": [
    "# Group by Year and SECTOR, and sum the TOTAL values\n",
    "grouped_df = df_TC1.groupby(['Year', 'SECTOR'])['TOTAL'].sum().reset_index()\n",
    "\n",
    "grouped_df.tail(6)\n",
    "\n",
    "# Pivot the data\n",
    "pivot_df = grouped_df.pivot(index='Year', columns='SECTOR', values='TOTAL')\n",
    "\n",
    "\n",
    "# Display the result\n",
    "pivot_df.tail()\n",
    "\n"
   ]
  },
  {
   "cell_type": "code",
   "execution_count": null,
   "id": "45dc948c-c674-4a59-a9aa-12b483bc0ff5",
   "metadata": {},
   "outputs": [],
   "source": [
    "# Dataframe Energy Consumption (EC)\n",
    "df_EC=pivot_df.drop(columns=['ENERGY CONSUMPTION'])\n",
    "df_EC.head()"
   ]
  },
  {
   "cell_type": "code",
   "execution_count": null,
   "id": "1ec039d7-426a-45af-919d-36d5ef039c14",
   "metadata": {},
   "outputs": [],
   "source": [
    "# Drop the 'FINAL CONSUMPTION' column and calculate the percentages\n",
    "df_percentages = (df_EC.drop(columns=['FINAL CONSUMPTION']).div(df_EC['FINAL CONSUMPTION'], axis=0) * 100)\n",
    "df_percentages = df_percentages.round(0)\n",
    "\n",
    "df_percentages.tail(20)"
   ]
  },
  {
   "cell_type": "code",
   "execution_count": null,
   "id": "a2b3e123-47f4-44b4-9d66-e77e5c2d1016",
   "metadata": {},
   "outputs": [],
   "source": [
    "# Drop the 'FINAL CONSUMPTION' column (if not already dropped) as it is not needed for the stack plot\n",
    "df_stackplot = df_EC.drop(columns=[\"FINAL CONSUMPTION\"])\n",
    "\n",
    "# Plot both stack plots side by side\n",
    "fig, (ax1, ax2) = plt.subplots(1, 2, figsize=(18, 6))\n",
    "\n",
    "\n",
    "df_stackplot.plot.area(stacked=True, alpha=0.7, ax=ax1)\n",
    "ax1.set_xlabel('Year')\n",
    "ax1.set_ylabel('Energy Consumption')\n",
    "ax1.set_title('Energy Consumption Over the Years')\n",
    "ax1.legend(loc='upper left', bbox_to_anchor=(1.0, 1.0))\n",
    "\n",
    "df_percentages.plot.area(stacked=True, alpha=0.7, ax=ax2)\n",
    "\n",
    "ax2.set_xlabel('Year')\n",
    "ax2.set_ylabel(' Energy Consumption  (%)')\n",
    "ax2.set_title('Percentage of  Energy Consumption Over the Years')\n",
    "ax2.legend(loc='upper left', bbox_to_anchor=(1.0, 1.0))\n",
    "\n",
    "plt.tight_layout()\n",
    "plt.show()"
   ]
  },
  {
   "cell_type": "code",
   "execution_count": null,
   "id": "0295d5a4-2431-4157-adf8-be0c9b2816ec",
   "metadata": {},
   "outputs": [],
   "source": [
    "data=df_stackplot.copy()\n",
    "\n",
    "# Line_Plot:\n",
    "fig, ax1 = plt.subplots(1, 1, figsize=(10, 6))\n",
    "\n",
    "data.plot(ax=ax1)\n",
    "ax1.set_xlabel('Year')\n",
    "ax1.set_ylabel('Energy Consumption')\n",
    "ax1.set_title('Energy Consumption Over the Years')\n",
    "ax1.legend(loc='upper left')\n",
    "\n",
    "plt.tight_layout()\n",
    "plt.show()"
   ]
  },
  {
   "cell_type": "markdown",
   "id": "f5a38432-f233-4ead-a48e-014fad56bd86",
   "metadata": {},
   "source": [
    "### CORRELATION MATRIX"
   ]
  },
  {
   "cell_type": "code",
   "execution_count": null,
   "id": "4a6029d0-9759-4a50-afad-212a6b54f8fe",
   "metadata": {},
   "outputs": [],
   "source": [
    "\n",
    "list_correlacion=data.columns"
   ]
  },
  {
   "cell_type": "code",
   "execution_count": null,
   "id": "2463f27d-3762-4e0f-a1e3-29e401225b48",
   "metadata": {},
   "outputs": [],
   "source": [
    "df_correlacion = data[list_correlacion]\n",
    "correlation_mat = df_correlacion.corr()\n",
    "sns.heatmap(correlation_mat)\n",
    "plt.show()"
   ]
  },
  {
   "cell_type": "code",
   "execution_count": null,
   "id": "48935cfd-53d7-4734-83e6-669c0c746afe",
   "metadata": {},
   "outputs": [],
   "source": [
    "for i in list_correlacion:\n",
    "    sns.boxplot(x=data[i])\n",
    "    print(i)\n",
    "    plt.show()"
   ]
  },
  {
   "cell_type": "code",
   "execution_count": null,
   "id": "ef94a1fe-5570-43af-b7a1-f753e8c0d55c",
   "metadata": {},
   "outputs": [],
   "source": [
    "def saca_metricas(y_real, y_pred): \n",
    "    false_positive_rate, recall, thresholds = roc_curve(y_real, y_pred)\n",
    "    roc_auc = auc(false_positive_rate, recall)\n",
    "    print('- AUC: {roc_auc}')\n",
    "    plt.plot(false_positive_rate, recall, 'b')\n",
    "    plt.plot([0, 1], [0, 1], 'r--')\n",
    "    plt.title('AUC = %0.2f' % roc_auc)"
   ]
  },
  {
   "cell_type": "code",
   "execution_count": null,
   "id": "c45df917-4895-478c-859a-8d361fb59d68",
   "metadata": {},
   "outputs": [],
   "source": [
    "#models_rcv = {\n",
    " #   \"XGB\": XGBClassifier(n_jobs=-1, n_estimators=30, random_state=1234),\n",
    "  #  \"RF\": RandomForestClassifier(n_estimators =30, n_jobs=-1, random_state=1234),\n",
    "  #  \"Tree\": DecisionTreeClassifier(random_state=1234),\n",
    "  #  \"Log\": LogisticRegression(solver=\"newton-cg\", penalty=\"l2\"),\n",
    "#}\n",
    "\n",
    "def rskf_comparison(models, X_train, y_train):\n",
    "    \n",
    "    results = []\n",
    "    names = []\n",
    "\n",
    "    for k, v in models.items():\n",
    "    \n",
    "        rskf = RepeatedStratifiedKFold(n_splits=10, n_repeats=3, random_state=1234) \n",
    "        cv_scores = cross_val_score(v, X_train, y_train, scoring='roc_auc', cv=rskf, n_jobs=-1)\n",
    "\n",
    "        results.append(cv_scores)\n",
    "        names.append(k)\n",
    "\n",
    "        print(k)\n",
    "        print('CV AUC: %.5f +/- %.5f' % (np.mean(cv_scores), np.std(cv_scores)))\n",
    "        print('-------------------------')\n",
    "        \n",
    "    \n",
    "    return(results, names)\n",
    "\n",
    "\n",
    "#results, names = rskf_comparison(models_rcv, X_train, y_train)\n",
    "#plt.figure(figsize=(10, 6))\n",
    "#comparison = plt.boxplot(results)\n",
    "#plt.xticks(np.arange(1,len(names)+1),names)\n",
    "#plt.show(comparison)"
   ]
  },
  {
   "cell_type": "code",
   "execution_count": null,
   "id": "caf3d776-5981-4665-89a8-4827c181c23d",
   "metadata": {},
   "outputs": [],
   "source": [
    "#grid_param = {\n",
    "#    'n_estimators': [100,300,500],\n",
    "#    'criterion': ['gini', 'entropy'],\n",
    "#    'max_depth': [16,20,22,24],\n",
    "#    'max_features': ['auto', 'sqrt'],\n",
    "\n",
    "#}"
   ]
  },
  {
   "cell_type": "markdown",
   "id": "a35b02c9-be91-4f7f-aac7-1928283aff72",
   "metadata": {},
   "source": [
    "When dealing with time series prediction problems, some **suitable models** are :\n",
    "\n",
    "Autoregressive Integrated Moving Average (ARIMA)\n",
    "\n",
    "Seasonal Autoregressive Integrated Moving-Average (SARIMA):\n",
    "\n",
    "Seasonal Decomposition of Time Series (STL)\n",
    "\n",
    "Exponential Smoothing (ETS)\n",
    "\n",
    "Long Short-Term Memory (LSTM)\n",
    "\n",
    "Gated Recurrent Units (GRU)\n",
    "\n",
    "Convolutional Neural Networks (CNNs)"
   ]
  },
  {
   "cell_type": "markdown",
   "id": "bc708fb3-0f24-4b58-bb7d-280820477d03",
   "metadata": {},
   "source": [
    "**Here's a high-level outline of how you might approach creating such a pipeline:**\n",
    "\n",
    "### 1. Data Preparation:\n",
    "\n",
    "Load and preprocess your time series data.\n",
    "Convert the target variable to numerical values if needed.\n",
    "### 2. Model Selection:\n",
    "\n",
    "Define a list of time series forecasting models you want to consider (ARIMA, SARIMA, STL, ETS, LSTM, GRU, CNNs).\n",
    "Define hyperparameters for each model, if applicable.\n",
    "\n",
    "### 3. Pipeline Creation:\n",
    "\n",
    "For each model in the list, create a separate pipeline that includes data preprocessing, model fitting, and prediction.\n",
    "\n",
    "### 4.Model Evaluation:\n",
    "\n",
    "Use appropriate time series evaluation metrics (e.g., Mean Squared Error, Root Mean Squared Error, Mean Absolute Error) to evaluate the performance of each model on a validation set.\n",
    "\n",
    "### 5. Model Selection:\n",
    "\n",
    "Compare the performance metrics of each model to identify the best-performing model.\n",
    "Select the model with the lowest error or the best fit for your problem.\n",
    "\n",
    "### 6. Fine-Tuning and Validation:\n",
    "\n",
    "If needed, perform hyperparameter tuning on the selected model using techniques like grid search or random search.\n",
    "Validate the tuned model on a separate test set to ensure its generalization performance.\n",
    "\n",
    "### 7. Final Model and Deployment:\n",
    "\n",
    "Once you have identified the best model, train it on the entire dataset (including training and validation data).\n",
    "Deploy the final model for making predictions on new data."
   ]
  },
  {
   "cell_type": "markdown",
   "id": "b25269bb-f56a-4f7c-86b1-d38bc5b6ea1b",
   "metadata": {},
   "source": [
    "### 1. Data Preparation:"
   ]
  },
  {
   "cell_type": "code",
   "execution_count": null,
   "id": "188a524a-0d0f-414f-8776-e0b0b6695837",
   "metadata": {},
   "outputs": [],
   "source": [
    "#Load data of economy\n",
    "economic_demographic_data = pd.read_excel('Brasil_indices.xlsx', index_col='Año')\n",
    "\n",
    "cols=economic_demographic_data.columns\n",
    "print(cols)"
   ]
  },
  {
   "cell_type": "code",
   "execution_count": null,
   "id": "a9df9c5a-b150-4d82-9050-73d218755c4c",
   "metadata": {
    "tags": []
   },
   "outputs": [],
   "source": [
    "economic_demographic_data.shape"
   ]
  },
  {
   "cell_type": "code",
   "execution_count": null,
   "id": "6b33b7ff-4558-42d5-bdae-9989fabc4ec5",
   "metadata": {
    "tags": []
   },
   "outputs": [],
   "source": [
    "economic_demographic_data.tail(20)"
   ]
  },
  {
   "cell_type": "code",
   "execution_count": null,
   "id": "fe16d7b7-e8fb-43f7-8c7b-6ab14166a7ef",
   "metadata": {},
   "outputs": [],
   "source": [
    "selected_cols=cols[:6]"
   ]
  },
  {
   "cell_type": "code",
   "execution_count": null,
   "id": "0188cca4-c40f-401b-b4d7-3152674dd24e",
   "metadata": {},
   "outputs": [],
   "source": [
    "df1=economic_demographic_data[selected_cols]"
   ]
  },
  {
   "cell_type": "code",
   "execution_count": null,
   "id": "b46d4816-3c1b-4985-81a6-81cd622d019e",
   "metadata": {},
   "outputs": [],
   "source": [
    "data=df_EC\n",
    "#Merge data\n",
    "merged_df = data.merge(df1, left_index=True, right_index=True)\n",
    "\n",
    "# Convertir el índice a tipo entero \n",
    "merged_df.index = merged_df.index.astype(int)\n",
    "# Imprimir el DataFrame unido para verificar\n",
    "merged_df.columns"
   ]
  },
  {
   "cell_type": "code",
   "execution_count": null,
   "id": "6669dda0-1d88-4e43-8508-29170a4556dd",
   "metadata": {},
   "outputs": [],
   "source": [
    "#Convert cols to English\n",
    "merged_df.rename(columns={'Población':'POPULATION','PIB': 'GDP',\n",
    "                          'Crecimiento población anual': 'ANNUAL POPULATION GROWTH',\n",
    "                          'Tasa de natalidad': 'BIRTH RATE',\n",
    "                          #'Tasa inflacion': 'INFLATION RATE',\n",
    "                          'Tasas de muerte/1000 personas': 'DEATH RATES PER 1000 PEOPLE'}, inplace=True)"
   ]
  },
  {
   "cell_type": "code",
   "execution_count": null,
   "id": "d02a0aa0-6c0b-403a-9cc6-0c94ea7952b4",
   "metadata": {},
   "outputs": [],
   "source": [
    "merged_df.head()"
   ]
  },
  {
   "cell_type": "code",
   "execution_count": null,
   "id": "b5a67f13-6d58-4f86-b46c-6e08904fd20a",
   "metadata": {},
   "outputs": [],
   "source": [
    "SECTORS=['AGRICULTURE, FISHING AND MINING', 'COMMERCIAL, SERVICES, PUBLIC', 'INDUSTRIAL', 'NON-ENERGY CONSUMPTION',\n",
    "       'RESIDENTIAL', 'TRANSPORT', 'FINAL CONSUMPTION']"
   ]
  },
  {
   "cell_type": "code",
   "execution_count": null,
   "id": "1cde9f72-1104-4395-882a-0a19b649930b",
   "metadata": {},
   "outputs": [],
   "source": [
    "FEATURES=['POPULATION',\n",
    "       'GDP', 'ANNUAL POPULATION GROWTH', 'BIRTH RATE', #'INFLATION RATE',\n",
    "       'DEATH RATES PER 1000 PEOPLE']\n",
    "\n",
    "\n",
    "missing_values=merged_df.isnull().sum()\n",
    "missing_values"
   ]
  },
  {
   "attachments": {
    "e9c23a6d-74b4-446c-810b-9ceb0da41f8e.png": {
     "image/png": "[encoded data removed]"
    }
   },
   "cell_type": "markdown",
   "id": "f933d7f5-777b-422f-802e-af20c5775715",
   "metadata": {},
   "source": [
    "## MinMaxScaler\n",
    "![image.png](attachment:e9c23a6d-74b4-446c-810b-9ceb0da41f8e.png)"
   ]
  },
  {
   "cell_type": "code",
   "execution_count": null,
   "id": "921623c3-eaf1-4adf-9414-4acd96d9d4e3",
   "metadata": {},
   "outputs": [],
   "source": [
    "merged_df.head()"
   ]
  },
  {
   "cell_type": "code",
   "execution_count": null,
   "id": "52cf5d7e-8a90-4bb0-9fe3-5112e3a4a97e",
   "metadata": {},
   "outputs": [],
   "source": [
    "merged_df.index"
   ]
  },
  {
   "cell_type": "code",
   "execution_count": null,
   "id": "b79b10ef-748e-4631-93f4-5ee9cfa7f409",
   "metadata": {},
   "outputs": [],
   "source": [
    "from sklearn.preprocessing import MinMaxScaler\n",
    "\n",
    "scaler = MinMaxScaler()\n",
    "scaled_data = scaler.fit_transform(merged_df)\n",
    "scaled_df = pd.DataFrame(scaled_data, columns=merged_df.columns)\n",
    "scaled_df.set_index(merged_df.index, inplace=True)"
   ]
  },
  {
   "cell_type": "code",
   "execution_count": null,
   "id": "e8624a4c-ffa2-4e98-875d-737aa1ad53e6",
   "metadata": {},
   "outputs": [],
   "source": [
    "scaled_df"
   ]
  },
  {
   "cell_type": "markdown",
   "id": "36e06379",
   "metadata": {},
   "source": [
    "### Running ARIMA"
   ]
  },
  {
   "cell_type": "code",
   "execution_count": null,
   "id": "741430f0",
   "metadata": {},
   "outputs": [],
   "source": [
    "from statsmodels.tsa.arima.model import ARIMA\n",
    "from statsmodels.tsa.statespace.sarimax import SARIMAX\n",
    "from statsmodels.tsa.holtwinters import ExponentialSmoothing\n",
    "from sklearn.metrics import mean_squared_error, r2_score\n",
    "from sklearn.metrics import accuracy_score"
   ]
  },
  {
   "cell_type": "code",
   "execution_count": null,
   "id": "279451f6",
   "metadata": {},
   "outputs": [],
   "source": [
    "# Assuming you have a DataFrame named df with a target column\n",
    "target='FINAL CONSUMPTION'\n",
    "\n",
    "\n",
    "# Split data into train and test sets \n",
    "train_size = int(len(merged_df) * 0.80)\n",
    "# data without scaling\n",
    "#train, test = merged_df.iloc[:train_size], merged_df.iloc[train_size:]\n",
    "\n",
    "#data scaling:\n",
    "train, test = scaled_df.iloc[:train_size], scaled_df.iloc[train_size:]\n",
    "\n",
    "\n",
    "#X_train = train[FEATURES].values.reshape((-1, len(FEATURES), 1))\n",
    "#X_test = test[FEATURES].values.reshape((-1, len(FEATURES), 1))\n",
    "\n",
    "X_train = train[FEATURES]\n",
    "X_test = test[FEATURES]\n",
    "y_train=train[target]   \n",
    "y_test=test[target]\n",
    "\n",
    "combined_index = np.concatenate((train.index.values, test.index.values), axis=0)\n",
    "combined_index\n",
    "train"
   ]
  },
  {
   "cell_type": "code",
   "execution_count": null,
   "id": "13c163ad",
   "metadata": {},
   "outputs": [],
   "source": [
    "# Split data into train and test sets \n",
    "train_size = int(len(scaled_df) * 0.80)\n",
    "train, test = scaled_df.iloc[:train_size], scaled_df.iloc[train_size:]  \n",
    "X_train = train[FEATURES]\n",
    "X_test = test[FEATURES]\n",
    "y_train = train[target]   \n",
    "y_test = test[target]"
   ]
  },
  {
   "cell_type": "code",
   "execution_count": null,
   "id": "43dcb699",
   "metadata": {},
   "outputs": [],
   "source": [
    "train.head()"
   ]
  },
  {
   "cell_type": "code",
   "execution_count": null,
   "id": "28b1702f",
   "metadata": {},
   "outputs": [],
   "source": [
    "test.head()"
   ]
  },
  {
   "cell_type": "markdown",
   "id": "f4842ed1",
   "metadata": {},
   "source": [
    "### Need to check PCAF, ACF to choose the right parameters"
   ]
  },
  {
   "cell_type": "code",
   "execution_count": null,
   "id": "87c291cd",
   "metadata": {},
   "outputs": [],
   "source": [
    "train.head()"
   ]
  },
  {
   "cell_type": "code",
   "execution_count": null,
   "id": "108101ef",
   "metadata": {},
   "outputs": [],
   "source": [
    "train_cur=train[['AGRICULTURE, FISHING AND MINING']]"
   ]
  },
  {
   "cell_type": "code",
   "execution_count": null,
   "id": "ebc45e9b",
   "metadata": {},
   "outputs": [],
   "source": [
    "train_cur.head()"
   ]
  },
  {
   "cell_type": "code",
   "execution_count": null,
   "id": "7c91ef5d",
   "metadata": {},
   "outputs": [],
   "source": [
    "test_cur=test[['AGRICULTURE, FISHING AND MINING']]"
   ]
  },
  {
   "cell_type": "markdown",
   "id": "b458ee76",
   "metadata": {},
   "source": [
    "### check stationary of the time series"
   ]
  },
  {
   "cell_type": "code",
   "execution_count": null,
   "id": "750617c5",
   "metadata": {},
   "outputs": [],
   "source": [
    "from statsmodels.tsa.stattools import adfuller\n",
    "adf_test = adfuller(train_cur)\n",
    "print(f'p-value: {adf_test[1]}')"
   ]
  },
  {
   "cell_type": "code",
   "execution_count": null,
   "id": "e17cbe90",
   "metadata": {},
   "outputs": [],
   "source": [
    "from statsmodels.graphics.tsaplots import plot_acf, plot_pacf\n",
    "\n",
    "acf_original = plot_acf(train_cur)\n",
    "\n",
    "pacf_original = plot_pacf(train_cur)"
   ]
  },
  {
   "cell_type": "markdown",
   "id": "576b5830",
   "metadata": {},
   "source": [
    "## Transform to stationary: differencing\n",
    "In some cases, we  might need to apply differencing to make a time series stationary.\n",
    "\n"
   ]
  },
  {
   "cell_type": "code",
   "execution_count": null,
   "id": "6c06a567",
   "metadata": {},
   "outputs": [],
   "source": [
    "train_diff = train_cur.diff().dropna()\n",
    "train_diff.plot()"
   ]
  },
  {
   "cell_type": "code",
   "execution_count": null,
   "id": "2d5f7949",
   "metadata": {},
   "outputs": [],
   "source": [
    "acf_diff = plot_acf(train_diff)\n",
    "\n",
    "pacf_diff = plot_pacf(train_diff)"
   ]
  },
  {
   "cell_type": "code",
   "execution_count": null,
   "id": "f638a821",
   "metadata": {},
   "outputs": [],
   "source": [
    "#check stationary of differencing now\n",
    "#from statsmodels.tsa.stattools import adfuller\n",
    "adf_test = adfuller(train_diff)\n",
    "print(f'p-value: {adf_test[1]}')"
   ]
  },
  {
   "cell_type": "code",
   "execution_count": null,
   "id": "2147c2c6",
   "metadata": {},
   "outputs": [],
   "source": []
  },
  {
   "cell_type": "markdown",
   "id": "c65c9c26",
   "metadata": {},
   "source": [
    "### (2,1,1) is the best choice, based on PACF, ACF"
   ]
  },
  {
   "cell_type": "code",
   "execution_count": null,
   "id": "d7885d1d",
   "metadata": {},
   "outputs": [],
   "source": [
    "#fit the arima model\n",
    "from statsmodels.tsa.arima.model import ARIMA\n",
    "model = ARIMA(train_cur, order=(2,1,1)) #this combination is the best\n",
    "model_fit = model.fit()\n",
    "print(model_fit.summary())"
   ]
  },
  {
   "cell_type": "code",
   "execution_count": null,
   "id": "1c4eb899",
   "metadata": {},
   "outputs": [],
   "source": [
    "# prediction\n",
    "forecast_test = model_fit.forecast(len(test_cur))\n",
    "\n",
    "scaled_df['forecast'] = [None]*len(train_cur) + list(forecast_test)\n",
    "\n",
    "scaled_df[['AGRICULTURE, FISHING AND MINING','forecast']].plot()"
   ]
  },
  {
   "cell_type": "markdown",
   "id": "8ff26ff6",
   "metadata": {},
   "source": [
    "### check for different parameters"
   ]
  },
  {
   "cell_type": "code",
   "execution_count": null,
   "id": "855bf1ea",
   "metadata": {},
   "outputs": [],
   "source": [
    "#fit the arima model\n",
    "from statsmodels.tsa.arima.model import ARIMA\n",
    "model = ARIMA(train_cur, order=(5,1,0)) #this combination is the best\n",
    "model_fit = model.fit()\n",
    "print(model_fit.summary())"
   ]
  },
  {
   "cell_type": "code",
   "execution_count": null,
   "id": "005eed6b",
   "metadata": {},
   "outputs": [],
   "source": [
    "# prediction\n",
    "forecast_test = model_fit.forecast(len(test_cur))\n",
    "\n",
    "scaled_df['forecast'] = [None]*len(train_cur) + list(forecast_test)\n",
    "\n",
    "scaled_df[['AGRICULTURE, FISHING AND MINING','forecast']].plot()"
   ]
  },
  {
   "cell_type": "markdown",
   "id": "5b1cbb69",
   "metadata": {},
   "source": [
    "### Next research\n",
    "* mutivariate VAR: \n",
    "* Kalman filter"
   ]
  },
  {
   "cell_type": "code",
   "execution_count": null,
   "id": "1f48cab3",
   "metadata": {},
   "outputs": [],
   "source": []
  },
  {
   "cell_type": "code",
   "execution_count": null,
   "id": "429a0565",
   "metadata": {},
   "outputs": [],
   "source": []
  },
  {
   "cell_type": "code",
   "execution_count": null,
   "id": "8bcb94c3",
   "metadata": {},
   "outputs": [],
   "source": []
  },
  {
   "cell_type": "code",
   "execution_count": null,
   "id": "76c1a117-2972-426b-9c91-466ed8138761",
   "metadata": {},
   "outputs": [],
   "source": []
  },
  {
   "cell_type": "code",
   "execution_count": null,
   "id": "5208723c-0f46-44a7-8b15-f6160470414f",
   "metadata": {},
   "outputs": [],
   "source": []
  },
  {
   "cell_type": "code",
   "execution_count": null,
   "id": "31da5706-e9bd-4c7a-b902-dfc3dfca8ef4",
   "metadata": {},
   "outputs": [],
   "source": []
  },
  {
   "cell_type": "code",
   "execution_count": null,
   "id": "acd6d75b-0307-4e4a-a3ff-ae4984da0e6e",
   "metadata": {},
   "outputs": [],
   "source": []
  },
  {
   "cell_type": "code",
   "execution_count": null,
   "id": "50fc3b11-3fa5-4ed6-93a0-f5b8eb157506",
   "metadata": {},
   "outputs": [],
   "source": []
  },
  {
   "cell_type": "code",
   "execution_count": null,
   "id": "f6d450df-6c92-4e1a-ad6f-9217daa74a2c",
   "metadata": {},
   "outputs": [],
   "source": []
  },
  {
   "cell_type": "code",
   "execution_count": null,
   "id": "c668c10a-07aa-4d09-803b-93093bcc8184",
   "metadata": {},
   "outputs": [],
   "source": []
  },
  {
   "cell_type": "code",
   "execution_count": null,
   "id": "f6bd6fff-fe2f-420a-9b85-0d54c913bf6c",
   "metadata": {},
   "outputs": [],
   "source": []
  },
  {
   "cell_type": "code",
   "execution_count": null,
   "id": "c192bf70-a1da-4554-b295-d21e163b0923",
   "metadata": {},
   "outputs": [],
   "source": []
  },
  {
   "cell_type": "code",
   "execution_count": null,
   "id": "9c323426-3138-4949-b400-264a6cd0c3e4",
   "metadata": {},
   "outputs": [],
   "source": []
  },
  {
   "cell_type": "code",
   "execution_count": null,
   "id": "be0b199a-cce0-46e6-a421-15e293e7b32f",
   "metadata": {},
   "outputs": [],
   "source": []
  },
  {
   "cell_type": "code",
   "execution_count": null,
   "id": "54605042-ac24-4b95-a400-84956a9e80be",
   "metadata": {},
   "outputs": [],
   "source": []
  },
  {
   "cell_type": "code",
   "execution_count": null,
   "id": "2e1a9ddb-610b-4fc5-8fe0-fdb11304cdd8",
   "metadata": {},
   "outputs": [],
   "source": []
  },
  {
   "cell_type": "code",
   "execution_count": null,
   "id": "b2ea3d0c-c2e1-4994-8b61-b63926786dd2",
   "metadata": {},
   "outputs": [],
   "source": []
  },
  {
   "cell_type": "code",
   "execution_count": null,
   "id": "eddae874-5741-4d2b-aa82-26823f93de61",
   "metadata": {},
   "outputs": [],
   "source": []
  },
  {
   "cell_type": "code",
   "execution_count": null,
   "id": "1f6ec504-3117-42fc-9477-d72bec1ba284",
   "metadata": {},
   "outputs": [],
   "source": []
  },
  {
   "cell_type": "code",
   "execution_count": null,
   "id": "4694e172-bdc3-4125-a83c-8cf9322bf44b",
   "metadata": {},
   "outputs": [],
   "source": []
  },
  {
   "cell_type": "code",
   "execution_count": null,
   "id": "a507b758-e665-4fcd-839b-310ae71d13bc",
   "metadata": {},
   "outputs": [],
   "source": []
  },
  {
   "cell_type": "code",
   "execution_count": null,
   "id": "3ee33f6c-0e99-4ff7-a181-f2d2f2ffa78e",
   "metadata": {},
   "outputs": [],
   "source": []
  },
  {
   "cell_type": "code",
   "execution_count": null,
   "id": "9d9a9986-1b7c-4236-a9f1-c4270e3c323d",
   "metadata": {},
   "outputs": [],
   "source": []
  }
 ],
 "metadata": {
  "kernelspec": {
   "display_name": "Python 3 (ipykernel)",
   "language": "python",
   "name": "python3"
  },
  "language_info": {
   "codemirror_mode": {
    "name": "ipython",
    "version": 3
   },
   "file_extension": ".py",
   "mimetype": "text/x-python",
   "name": "python",
   "nbconvert_exporter": "python",
   "pygments_lexer": "ipython3",
   "version": "3.10.9"
  }
 },
 "nbformat": 4,
 "nbformat_minor": 5
}
