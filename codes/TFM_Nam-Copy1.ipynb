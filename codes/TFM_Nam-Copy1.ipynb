{
 "cells": [
  {
   "cell_type": "code",
   "execution_count": 1,
   "id": "9b50d269-8097-4d48-8e94-761f011268d9",
   "metadata": {},
   "outputs": [],
   "source": [
    "import pandas as pd\n",
    "import seaborn as sns\n",
    "import matplotlib.pyplot as plt\n",
    "import numpy as np\n",
    "import os\n",
    "\n"
   ]
  },
  {
   "cell_type": "markdown",
   "id": "9f7f50a2-af4d-46b6-a816-0a8ce1a42948",
   "metadata": {},
   "source": [
    "# I. About the dataset\n",
    "\n",
    "We use the dataset **Energy balance matrix** from 1970 to 2021 of Brazil. The dataset is downloaded in the website of \n",
    "Olade.\n",
    "\n",
    "The calculations for data processing base on the **Manual Olade 2011**"
   ]
  },
  {
   "cell_type": "markdown",
   "id": "b92019b0-eca3-49bb-ae8d-70b8bb8e4b14",
   "metadata": {},
   "source": [
    "## I.1 Load the dataset"
   ]
  },
  {
   "cell_type": "code",
   "execution_count": 47,
   "id": "91d8a9c9-5d12-4055-a28e-9e62d39584a5",
   "metadata": {},
   "outputs": [
    {
     "name": "stdout",
     "output_type": "stream",
     "text": [
      "dict_keys(['1970', '1971', '1972', '1973', '1974', '1975', '1976', '1977', '1978', '1979', '1980', '1981', '1982', '1983', '1984', '1985', '1986', '1987', '1988', '1989', '1990', '1991', '1992', '1993', '1994', '1995', '1996', '1997', '1998', '1999', '2000', '2001', '2002', '2003', '2004', '2005', '2006', '2007', '2008', '2009', '2010', '2011', '2012', '2013', '2014', '2015', '2016', '2017', '2018', '2019', '2020', '2021'])\n"
     ]
    }
   ],
   "source": [
    "# Load the file\n",
    "file_path = '../datas/Option_B/Brazil_Energy balance matrix.xlsx'\n",
    "#File excel with multi-sheet_names is read as an Dictionary\n",
    "Dict = pd.read_excel(file_path, sheet_name=None, skiprows=range(4), skipfooter=3)\n",
    "\n",
    "\n",
    "# Create a new dictionary to store modified dataframes\n",
    "modified_dict = {}\n",
    "\n",
    "for k, df in Dict.items():\n",
    "    # Round the values of each column in the dataframe with 2 decimals\n",
    "    df = df.applymap(lambda x: round(x, 2) if isinstance(x, (int, float)) else x)\n",
    "\n",
    "    # Ignore the first row (unit) in each df\n",
    "    df = df.iloc[1:]\n",
    "\n",
    "    # Rename columns in df\n",
    "    df.rename(columns={'Unnamed: 0': 'SECTOR', 'OTHER PRIMARY_x000d_\\n': 'OTHER PRIMARY'}, inplace=True)\n",
    "\n",
    "    # Remove space in column names and Sector names\n",
    "    df.columns = df.columns.str.strip()\n",
    "    df['SECTOR'] = df['SECTOR'].str.strip()\n",
    "\n",
    "    # Rename in a row\n",
    "    df['SECTOR'].replace({'COKE PLANTS AND BLAST FURNACES_x000d_': 'COKE PLANTS AND BLAST FURNACES'}, inplace=True)\n",
    "    \n",
    "    # fill nule values\n",
    "    df=df.fillna(np.nan)\n",
    "\n",
    "    # Convert the keys of Dict to only contain the year\n",
    "    k_new = k.split(' - ')[0]\n",
    "    df[\"YEAR\"] = k_new\n",
    "\n",
    "    # Change all column names to uppercase\n",
    "    df.columns = df.columns.str.upper()\n",
    "\n",
    "    # Store the modified dataframe in the new dictionary\n",
    "    modified_dict[k_new] = df\n",
    "\n",
    "# Update the original dictionary with the modified dataframes\n",
    "Dict = modified_dict\n",
    "\n",
    "\n",
    "print(Dict.keys())\n",
    "\n",
    "#Save the Clean Dictionary in Excel with multi-sheet_names\n",
    "file_path='../datas/Option_B/Datas_cleaned/Brazil_Energy balance matrix_cleaned.xlsx'\n",
    "    \n",
    "with pd.ExcelWriter(file_path) as writer:\n",
    "    for k, df in Dict.items():\n",
    "        df.to_excel(writer, sheet_name=k)\n",
    "\n"
   ]
  },
  {
   "cell_type": "markdown",
   "id": "1c9ff6d0-f2f4-4631-b35f-5270e7845b2d",
   "metadata": {},
   "source": [
    "## I.2 Frist visualization of energy balance (Supply-Transformation-Adjustment-Consumption)"
   ]
  },
  {
   "cell_type": "code",
   "execution_count": 50,
   "id": "de0bcfa7-a9d8-4a18-b229-d3048f280a30",
   "metadata": {},
   "outputs": [
    {
     "data": {
      "text/html": [
       "<div>\n",
       "<style scoped>\n",
       "    .dataframe tbody tr th:only-of-type {\n",
       "        vertical-align: middle;\n",
       "    }\n",
       "\n",
       "    .dataframe tbody tr th {\n",
       "        vertical-align: top;\n",
       "    }\n",
       "\n",
       "    .dataframe thead th {\n",
       "        text-align: right;\n",
       "    }\n",
       "</style>\n",
       "<table border=\"1\" class=\"dataframe\">\n",
       "  <thead>\n",
       "    <tr style=\"text-align: right;\">\n",
       "      <th></th>\n",
       "      <th>SECTOR</th>\n",
       "      <th>OIL</th>\n",
       "      <th>NATURAL GAS</th>\n",
       "      <th>COAL</th>\n",
       "      <th>HYDROENERGY</th>\n",
       "      <th>GEOTHERMAL</th>\n",
       "      <th>NUCLEAR</th>\n",
       "      <th>FIREWOOD</th>\n",
       "      <th>SUGARCANE AND PRODUCTS</th>\n",
       "      <th>OTHER PRIMARY</th>\n",
       "      <th>...</th>\n",
       "      <th>KEROSENE/JET FUEL</th>\n",
       "      <th>DIESEL OIL</th>\n",
       "      <th>FUEL OIL</th>\n",
       "      <th>COKE</th>\n",
       "      <th>CHARCOAL</th>\n",
       "      <th>GASES</th>\n",
       "      <th>OTHER SECONDARY</th>\n",
       "      <th>NON-ENERGY</th>\n",
       "      <th>TOTAL SECUNDARIES</th>\n",
       "      <th>TOTAL</th>\n",
       "    </tr>\n",
       "    <tr>\n",
       "      <th>YEAR</th>\n",
       "      <th></th>\n",
       "      <th></th>\n",
       "      <th></th>\n",
       "      <th></th>\n",
       "      <th></th>\n",
       "      <th></th>\n",
       "      <th></th>\n",
       "      <th></th>\n",
       "      <th></th>\n",
       "      <th></th>\n",
       "      <th></th>\n",
       "      <th></th>\n",
       "      <th></th>\n",
       "      <th></th>\n",
       "      <th></th>\n",
       "      <th></th>\n",
       "      <th></th>\n",
       "      <th></th>\n",
       "      <th></th>\n",
       "      <th></th>\n",
       "      <th></th>\n",
       "    </tr>\n",
       "  </thead>\n",
       "  <tbody>\n",
       "    <tr>\n",
       "      <th>1970</th>\n",
       "      <td>PRODUCTION</td>\n",
       "      <td>8161.58</td>\n",
       "      <td>1102.24</td>\n",
       "      <td>1044.43</td>\n",
       "      <td>3421.52</td>\n",
       "      <td>NaN</td>\n",
       "      <td>NaN</td>\n",
       "      <td>31851.53</td>\n",
       "      <td>3600.70</td>\n",
       "      <td>223.24</td>\n",
       "      <td>...</td>\n",
       "      <td>1307.21</td>\n",
       "      <td>5674.61</td>\n",
       "      <td>8399.23</td>\n",
       "      <td>55.18</td>\n",
       "      <td>1766.75</td>\n",
       "      <td>465.95</td>\n",
       "      <td>321.73</td>\n",
       "      <td>886.77</td>\n",
       "      <td>31068.07</td>\n",
       "      <td>49405.24</td>\n",
       "    </tr>\n",
       "    <tr>\n",
       "      <th>1970</th>\n",
       "      <td>IMPORT</td>\n",
       "      <td>17845.05</td>\n",
       "      <td>NaN</td>\n",
       "      <td>1358.47</td>\n",
       "      <td>NaN</td>\n",
       "      <td>NaN</td>\n",
       "      <td>NaN</td>\n",
       "      <td>NaN</td>\n",
       "      <td>NaN</td>\n",
       "      <td>NaN</td>\n",
       "      <td>...</td>\n",
       "      <td>8.19</td>\n",
       "      <td>NaN</td>\n",
       "      <td>NaN</td>\n",
       "      <td>72.42</td>\n",
       "      <td>NaN</td>\n",
       "      <td>NaN</td>\n",
       "      <td>NaN</td>\n",
       "      <td>368.92</td>\n",
       "      <td>937.48</td>\n",
       "      <td>20141.01</td>\n",
       "    </tr>\n",
       "    <tr>\n",
       "      <th>1970</th>\n",
       "      <td>EXPORT</td>\n",
       "      <td>65.05</td>\n",
       "      <td>NaN</td>\n",
       "      <td>NaN</td>\n",
       "      <td>NaN</td>\n",
       "      <td>NaN</td>\n",
       "      <td>NaN</td>\n",
       "      <td>NaN</td>\n",
       "      <td>NaN</td>\n",
       "      <td>NaN</td>\n",
       "      <td>...</td>\n",
       "      <td>122.91</td>\n",
       "      <td>47.15</td>\n",
       "      <td>748.34</td>\n",
       "      <td>NaN</td>\n",
       "      <td>NaN</td>\n",
       "      <td>NaN</td>\n",
       "      <td>NaN</td>\n",
       "      <td>NaN</td>\n",
       "      <td>920.12</td>\n",
       "      <td>985.17</td>\n",
       "    </tr>\n",
       "    <tr>\n",
       "      <th>1970</th>\n",
       "      <td>STOCK CHANGE</td>\n",
       "      <td>-277.33</td>\n",
       "      <td>NaN</td>\n",
       "      <td>-167.52</td>\n",
       "      <td>NaN</td>\n",
       "      <td>NaN</td>\n",
       "      <td>NaN</td>\n",
       "      <td>NaN</td>\n",
       "      <td>NaN</td>\n",
       "      <td>NaN</td>\n",
       "      <td>...</td>\n",
       "      <td>-54.86</td>\n",
       "      <td>-42.01</td>\n",
       "      <td>-69.03</td>\n",
       "      <td>-24.83</td>\n",
       "      <td>NaN</td>\n",
       "      <td>NaN</td>\n",
       "      <td>15.41</td>\n",
       "      <td>-53.93</td>\n",
       "      <td>-345.28</td>\n",
       "      <td>-790.13</td>\n",
       "    </tr>\n",
       "    <tr>\n",
       "      <th>1970</th>\n",
       "      <td>UNUSED</td>\n",
       "      <td>NaN</td>\n",
       "      <td>922.22</td>\n",
       "      <td>NaN</td>\n",
       "      <td>NaN</td>\n",
       "      <td>NaN</td>\n",
       "      <td>NaN</td>\n",
       "      <td>NaN</td>\n",
       "      <td>NaN</td>\n",
       "      <td>NaN</td>\n",
       "      <td>...</td>\n",
       "      <td>NaN</td>\n",
       "      <td>NaN</td>\n",
       "      <td>NaN</td>\n",
       "      <td>NaN</td>\n",
       "      <td>NaN</td>\n",
       "      <td>55.88</td>\n",
       "      <td>50.45</td>\n",
       "      <td>NaN</td>\n",
       "      <td>106.33</td>\n",
       "      <td>1028.54</td>\n",
       "    </tr>\n",
       "    <tr>\n",
       "      <th>1970</th>\n",
       "      <td>TOTAL SUPPLY</td>\n",
       "      <td>25664.25</td>\n",
       "      <td>180.02</td>\n",
       "      <td>2235.39</td>\n",
       "      <td>3421.52</td>\n",
       "      <td>NaN</td>\n",
       "      <td>NaN</td>\n",
       "      <td>31851.53</td>\n",
       "      <td>3600.70</td>\n",
       "      <td>223.24</td>\n",
       "      <td>...</td>\n",
       "      <td>1137.63</td>\n",
       "      <td>5585.45</td>\n",
       "      <td>7581.86</td>\n",
       "      <td>102.77</td>\n",
       "      <td>1766.75</td>\n",
       "      <td>410.08</td>\n",
       "      <td>286.68</td>\n",
       "      <td>1201.77</td>\n",
       "      <td>30633.82</td>\n",
       "      <td>66742.40</td>\n",
       "    </tr>\n",
       "    <tr>\n",
       "      <th>1970</th>\n",
       "      <td>REFINERIES</td>\n",
       "      <td>-25535.85</td>\n",
       "      <td>NaN</td>\n",
       "      <td>NaN</td>\n",
       "      <td>NaN</td>\n",
       "      <td>NaN</td>\n",
       "      <td>NaN</td>\n",
       "      <td>NaN</td>\n",
       "      <td>NaN</td>\n",
       "      <td>NaN</td>\n",
       "      <td>...</td>\n",
       "      <td>1307.21</td>\n",
       "      <td>5674.61</td>\n",
       "      <td>8399.23</td>\n",
       "      <td>NaN</td>\n",
       "      <td>NaN</td>\n",
       "      <td>NaN</td>\n",
       "      <td>261.90</td>\n",
       "      <td>886.77</td>\n",
       "      <td>24421.51</td>\n",
       "      <td>-1114.34</td>\n",
       "    </tr>\n",
       "    <tr>\n",
       "      <th>1970</th>\n",
       "      <td>POWER PLANTS</td>\n",
       "      <td>NaN</td>\n",
       "      <td>NaN</td>\n",
       "      <td>-454.51</td>\n",
       "      <td>-3302.28</td>\n",
       "      <td>NaN</td>\n",
       "      <td>NaN</td>\n",
       "      <td>NaN</td>\n",
       "      <td>NaN</td>\n",
       "      <td>NaN</td>\n",
       "      <td>...</td>\n",
       "      <td>NaN</td>\n",
       "      <td>-115.74</td>\n",
       "      <td>-652.61</td>\n",
       "      <td>NaN</td>\n",
       "      <td>NaN</td>\n",
       "      <td>NaN</td>\n",
       "      <td>NaN</td>\n",
       "      <td>NaN</td>\n",
       "      <td>3613.39</td>\n",
       "      <td>-911.74</td>\n",
       "    </tr>\n",
       "    <tr>\n",
       "      <th>1970</th>\n",
       "      <td>SELF-PRODUCERS</td>\n",
       "      <td>NaN</td>\n",
       "      <td>NaN</td>\n",
       "      <td>-9.59</td>\n",
       "      <td>-119.23</td>\n",
       "      <td>NaN</td>\n",
       "      <td>NaN</td>\n",
       "      <td>-12.70</td>\n",
       "      <td>-88.99</td>\n",
       "      <td>-81.16</td>\n",
       "      <td>...</td>\n",
       "      <td>NaN</td>\n",
       "      <td>-77.16</td>\n",
       "      <td>-329.53</td>\n",
       "      <td>NaN</td>\n",
       "      <td>NaN</td>\n",
       "      <td>-9.46</td>\n",
       "      <td>NaN</td>\n",
       "      <td>NaN</td>\n",
       "      <td>318.85</td>\n",
       "      <td>-408.96</td>\n",
       "    </tr>\n",
       "    <tr>\n",
       "      <th>1970</th>\n",
       "      <td>GAS PLANTS</td>\n",
       "      <td>NaN</td>\n",
       "      <td>-104.22</td>\n",
       "      <td>-158.93</td>\n",
       "      <td>NaN</td>\n",
       "      <td>NaN</td>\n",
       "      <td>NaN</td>\n",
       "      <td>NaN</td>\n",
       "      <td>NaN</td>\n",
       "      <td>NaN</td>\n",
       "      <td>...</td>\n",
       "      <td>NaN</td>\n",
       "      <td>NaN</td>\n",
       "      <td>NaN</td>\n",
       "      <td>55.18</td>\n",
       "      <td>NaN</td>\n",
       "      <td>150.46</td>\n",
       "      <td>NaN</td>\n",
       "      <td>NaN</td>\n",
       "      <td>270.75</td>\n",
       "      <td>-31.18</td>\n",
       "    </tr>\n",
       "  </tbody>\n",
       "</table>\n",
       "<p>10 rows × 24 columns</p>\n",
       "</div>"
      ],
      "text/plain": [
       "              SECTOR       OIL  NATURAL GAS     COAL  HYDROENERGY  GEOTHERMAL  \\\n",
       "YEAR                                                                            \n",
       "1970      PRODUCTION   8161.58      1102.24  1044.43      3421.52         NaN   \n",
       "1970          IMPORT  17845.05          NaN  1358.47          NaN         NaN   \n",
       "1970          EXPORT     65.05          NaN      NaN          NaN         NaN   \n",
       "1970    STOCK CHANGE   -277.33          NaN  -167.52          NaN         NaN   \n",
       "1970          UNUSED       NaN       922.22      NaN          NaN         NaN   \n",
       "1970    TOTAL SUPPLY  25664.25       180.02  2235.39      3421.52         NaN   \n",
       "1970      REFINERIES -25535.85          NaN      NaN          NaN         NaN   \n",
       "1970    POWER PLANTS       NaN          NaN  -454.51     -3302.28         NaN   \n",
       "1970  SELF-PRODUCERS       NaN          NaN    -9.59      -119.23         NaN   \n",
       "1970      GAS PLANTS       NaN      -104.22  -158.93          NaN         NaN   \n",
       "\n",
       "      NUCLEAR  FIREWOOD  SUGARCANE AND PRODUCTS  OTHER PRIMARY  ...  \\\n",
       "YEAR                                                            ...   \n",
       "1970      NaN  31851.53                 3600.70         223.24  ...   \n",
       "1970      NaN       NaN                     NaN            NaN  ...   \n",
       "1970      NaN       NaN                     NaN            NaN  ...   \n",
       "1970      NaN       NaN                     NaN            NaN  ...   \n",
       "1970      NaN       NaN                     NaN            NaN  ...   \n",
       "1970      NaN  31851.53                 3600.70         223.24  ...   \n",
       "1970      NaN       NaN                     NaN            NaN  ...   \n",
       "1970      NaN       NaN                     NaN            NaN  ...   \n",
       "1970      NaN    -12.70                  -88.99         -81.16  ...   \n",
       "1970      NaN       NaN                     NaN            NaN  ...   \n",
       "\n",
       "      KEROSENE/JET FUEL  DIESEL OIL  FUEL OIL    COKE  CHARCOAL   GASES  \\\n",
       "YEAR                                                                      \n",
       "1970            1307.21     5674.61   8399.23   55.18   1766.75  465.95   \n",
       "1970               8.19         NaN       NaN   72.42       NaN     NaN   \n",
       "1970             122.91       47.15    748.34     NaN       NaN     NaN   \n",
       "1970             -54.86      -42.01    -69.03  -24.83       NaN     NaN   \n",
       "1970                NaN         NaN       NaN     NaN       NaN   55.88   \n",
       "1970            1137.63     5585.45   7581.86  102.77   1766.75  410.08   \n",
       "1970            1307.21     5674.61   8399.23     NaN       NaN     NaN   \n",
       "1970                NaN     -115.74   -652.61     NaN       NaN     NaN   \n",
       "1970                NaN      -77.16   -329.53     NaN       NaN   -9.46   \n",
       "1970                NaN         NaN       NaN   55.18       NaN  150.46   \n",
       "\n",
       "      OTHER SECONDARY  NON-ENERGY  TOTAL SECUNDARIES     TOTAL  \n",
       "YEAR                                                            \n",
       "1970           321.73      886.77           31068.07  49405.24  \n",
       "1970              NaN      368.92             937.48  20141.01  \n",
       "1970              NaN         NaN             920.12    985.17  \n",
       "1970            15.41      -53.93            -345.28   -790.13  \n",
       "1970            50.45         NaN             106.33   1028.54  \n",
       "1970           286.68     1201.77           30633.82  66742.40  \n",
       "1970           261.90      886.77           24421.51  -1114.34  \n",
       "1970              NaN         NaN            3613.39   -911.74  \n",
       "1970              NaN         NaN             318.85   -408.96  \n",
       "1970              NaN         NaN             270.75    -31.18  \n",
       "\n",
       "[10 rows x 24 columns]"
      ]
     },
     "execution_count": 50,
     "metadata": {},
     "output_type": "execute_result"
    }
   ],
   "source": [
    "# Concatenate the data\n",
    "for k in Dict.keys():    \n",
    "     # Concatenate all DataFrames in Dict vertically\n",
    "    df_concat = pd.concat(Dict.values(), ignore_index=True)\n",
    "    df_concat.set_index(\"YEAR\", inplace=True)\n",
    "    df_concat.index = df_concat.index.astype(int)\n",
    "    \n",
    "df_concat.head(10)"
   ]
  },
  {
   "cell_type": "markdown",
   "id": "2564136a-b246-4fb9-9e4a-b32aa92a192a",
   "metadata": {
    "tags": []
   },
   "source": [
    "### Show the data summary over years"
   ]
  },
  {
   "cell_type": "code",
   "execution_count": 53,
   "id": "f776521f-ee87-4048-ba93-dc34bb94bd30",
   "metadata": {
    "tags": []
   },
   "outputs": [
    {
     "data": {
      "text/html": [
       "<div>\n",
       "<style scoped>\n",
       "    .dataframe tbody tr th:only-of-type {\n",
       "        vertical-align: middle;\n",
       "    }\n",
       "\n",
       "    .dataframe tbody tr th {\n",
       "        vertical-align: top;\n",
       "    }\n",
       "\n",
       "    .dataframe thead th {\n",
       "        text-align: right;\n",
       "    }\n",
       "</style>\n",
       "<table border=\"1\" class=\"dataframe\">\n",
       "  <thead>\n",
       "    <tr style=\"text-align: right;\">\n",
       "      <th>SECTOR</th>\n",
       "      <th>TOTAL SUPPLY</th>\n",
       "      <th>TOTAL TRANSFORMATION</th>\n",
       "      <th>ADJUSTMENT</th>\n",
       "      <th>FINAL CONSUMPTION</th>\n",
       "    </tr>\n",
       "    <tr>\n",
       "      <th>YEAR</th>\n",
       "      <th></th>\n",
       "      <th></th>\n",
       "      <th></th>\n",
       "      <th></th>\n",
       "    </tr>\n",
       "  </thead>\n",
       "  <tbody>\n",
       "    <tr>\n",
       "      <th>1970</th>\n",
       "      <td>66742.40</td>\n",
       "      <td>-5422.47</td>\n",
       "      <td>1.85</td>\n",
       "      <td>58834.12</td>\n",
       "    </tr>\n",
       "    <tr>\n",
       "      <th>1971</th>\n",
       "      <td>70092.03</td>\n",
       "      <td>-5437.72</td>\n",
       "      <td>4.11</td>\n",
       "      <td>61691.69</td>\n",
       "    </tr>\n",
       "    <tr>\n",
       "      <th>1972</th>\n",
       "      <td>75111.33</td>\n",
       "      <td>-5936.88</td>\n",
       "      <td>-29.62</td>\n",
       "      <td>65995.12</td>\n",
       "    </tr>\n",
       "    <tr>\n",
       "      <th>1973</th>\n",
       "      <td>81963.44</td>\n",
       "      <td>-6488.78</td>\n",
       "      <td>-17.64</td>\n",
       "      <td>71692.86</td>\n",
       "    </tr>\n",
       "    <tr>\n",
       "      <th>1974</th>\n",
       "      <td>87628.20</td>\n",
       "      <td>-6959.24</td>\n",
       "      <td>25.71</td>\n",
       "      <td>76198.40</td>\n",
       "    </tr>\n",
       "    <tr>\n",
       "      <th>1975</th>\n",
       "      <td>91211.72</td>\n",
       "      <td>-7818.10</td>\n",
       "      <td>111.74</td>\n",
       "      <td>78491.85</td>\n",
       "    </tr>\n",
       "    <tr>\n",
       "      <th>1976</th>\n",
       "      <td>95938.52</td>\n",
       "      <td>-7668.33</td>\n",
       "      <td>-66.91</td>\n",
       "      <td>83208.97</td>\n",
       "    </tr>\n",
       "    <tr>\n",
       "      <th>1977</th>\n",
       "      <td>99416.35</td>\n",
       "      <td>-8737.61</td>\n",
       "      <td>-201.10</td>\n",
       "      <td>85026.52</td>\n",
       "    </tr>\n",
       "    <tr>\n",
       "      <th>1978</th>\n",
       "      <td>105367.89</td>\n",
       "      <td>-9529.34</td>\n",
       "      <td>-102.43</td>\n",
       "      <td>88944.97</td>\n",
       "    </tr>\n",
       "    <tr>\n",
       "      <th>1979</th>\n",
       "      <td>112106.28</td>\n",
       "      <td>-10171.33</td>\n",
       "      <td>-217.41</td>\n",
       "      <td>93782.10</td>\n",
       "    </tr>\n",
       "    <tr>\n",
       "      <th>1980</th>\n",
       "      <td>114444.82</td>\n",
       "      <td>-11451.41</td>\n",
       "      <td>46.99</td>\n",
       "      <td>94534.85</td>\n",
       "    </tr>\n",
       "    <tr>\n",
       "      <th>1981</th>\n",
       "      <td>109797.03</td>\n",
       "      <td>-10078.94</td>\n",
       "      <td>20.07</td>\n",
       "      <td>91232.82</td>\n",
       "    </tr>\n",
       "    <tr>\n",
       "      <th>1982</th>\n",
       "      <td>111899.36</td>\n",
       "      <td>-10258.77</td>\n",
       "      <td>-102.50</td>\n",
       "      <td>92462.42</td>\n",
       "    </tr>\n",
       "    <tr>\n",
       "      <th>1983</th>\n",
       "      <td>115180.74</td>\n",
       "      <td>-12087.69</td>\n",
       "      <td>-85.22</td>\n",
       "      <td>92200.73</td>\n",
       "    </tr>\n",
       "    <tr>\n",
       "      <th>1984</th>\n",
       "      <td>122425.58</td>\n",
       "      <td>-14787.50</td>\n",
       "      <td>-27.21</td>\n",
       "      <td>95222.32</td>\n",
       "    </tr>\n",
       "    <tr>\n",
       "      <th>1985</th>\n",
       "      <td>129998.96</td>\n",
       "      <td>-15671.24</td>\n",
       "      <td>-82.79</td>\n",
       "      <td>99634.71</td>\n",
       "    </tr>\n",
       "    <tr>\n",
       "      <th>1986</th>\n",
       "      <td>136585.90</td>\n",
       "      <td>-17203.80</td>\n",
       "      <td>0.38</td>\n",
       "      <td>105251.29</td>\n",
       "    </tr>\n",
       "    <tr>\n",
       "      <th>1987</th>\n",
       "      <td>142271.45</td>\n",
       "      <td>-17350.51</td>\n",
       "      <td>-10.35</td>\n",
       "      <td>108807.69</td>\n",
       "    </tr>\n",
       "    <tr>\n",
       "      <th>1988</th>\n",
       "      <td>144098.35</td>\n",
       "      <td>-18772.65</td>\n",
       "      <td>-11.95</td>\n",
       "      <td>109756.68</td>\n",
       "    </tr>\n",
       "    <tr>\n",
       "      <th>1989</th>\n",
       "      <td>146100.13</td>\n",
       "      <td>-18565.89</td>\n",
       "      <td>25.88</td>\n",
       "      <td>111486.58</td>\n",
       "    </tr>\n",
       "    <tr>\n",
       "      <th>1990</th>\n",
       "      <td>151432.21</td>\n",
       "      <td>-21469.31</td>\n",
       "      <td>81.41</td>\n",
       "      <td>114351.06</td>\n",
       "    </tr>\n",
       "    <tr>\n",
       "      <th>1991</th>\n",
       "      <td>154559.67</td>\n",
       "      <td>-22340.14</td>\n",
       "      <td>453.70</td>\n",
       "      <td>115475.10</td>\n",
       "    </tr>\n",
       "    <tr>\n",
       "      <th>1992</th>\n",
       "      <td>155199.34</td>\n",
       "      <td>-22675.19</td>\n",
       "      <td>-66.11</td>\n",
       "      <td>116856.28</td>\n",
       "    </tr>\n",
       "    <tr>\n",
       "      <th>1993</th>\n",
       "      <td>159231.13</td>\n",
       "      <td>-23218.14</td>\n",
       "      <td>-0.02</td>\n",
       "      <td>120002.68</td>\n",
       "    </tr>\n",
       "    <tr>\n",
       "      <th>1994</th>\n",
       "      <td>166865.52</td>\n",
       "      <td>-22964.42</td>\n",
       "      <td>-192.40</td>\n",
       "      <td>126260.73</td>\n",
       "    </tr>\n",
       "    <tr>\n",
       "      <th>1995</th>\n",
       "      <td>171730.86</td>\n",
       "      <td>-22531.84</td>\n",
       "      <td>106.04</td>\n",
       "      <td>131516.33</td>\n",
       "    </tr>\n",
       "    <tr>\n",
       "      <th>1996</th>\n",
       "      <td>180699.72</td>\n",
       "      <td>-22392.30</td>\n",
       "      <td>942.00</td>\n",
       "      <td>138211.73</td>\n",
       "    </tr>\n",
       "    <tr>\n",
       "      <th>1997</th>\n",
       "      <td>181722.99</td>\n",
       "      <td>-17570.61</td>\n",
       "      <td>175.28</td>\n",
       "      <td>143104.84</td>\n",
       "    </tr>\n",
       "    <tr>\n",
       "      <th>1998</th>\n",
       "      <td>186424.37</td>\n",
       "      <td>-17948.49</td>\n",
       "      <td>515.11</td>\n",
       "      <td>147985.31</td>\n",
       "    </tr>\n",
       "    <tr>\n",
       "      <th>1999</th>\n",
       "      <td>198172.81</td>\n",
       "      <td>-23566.89</td>\n",
       "      <td>330.69</td>\n",
       "      <td>155221.98</td>\n",
       "    </tr>\n",
       "    <tr>\n",
       "      <th>2000</th>\n",
       "      <td>201048.77</td>\n",
       "      <td>-26392.94</td>\n",
       "      <td>-804.43</td>\n",
       "      <td>156808.59</td>\n",
       "    </tr>\n",
       "    <tr>\n",
       "      <th>2001</th>\n",
       "      <td>204346.55</td>\n",
       "      <td>-28297.94</td>\n",
       "      <td>560.02</td>\n",
       "      <td>156515.30</td>\n",
       "    </tr>\n",
       "    <tr>\n",
       "      <th>2002</th>\n",
       "      <td>199384.34</td>\n",
       "      <td>-14727.57</td>\n",
       "      <td>4802.51</td>\n",
       "      <td>159678.14</td>\n",
       "    </tr>\n",
       "    <tr>\n",
       "      <th>2003</th>\n",
       "      <td>202599.40</td>\n",
       "      <td>-15224.82</td>\n",
       "      <td>4209.27</td>\n",
       "      <td>161359.72</td>\n",
       "    </tr>\n",
       "    <tr>\n",
       "      <th>2004</th>\n",
       "      <td>213381.88</td>\n",
       "      <td>-16615.55</td>\n",
       "      <td>3735.02</td>\n",
       "      <td>170298.70</td>\n",
       "    </tr>\n",
       "    <tr>\n",
       "      <th>2005</th>\n",
       "      <td>218842.68</td>\n",
       "      <td>-17256.75</td>\n",
       "      <td>4873.11</td>\n",
       "      <td>173105.86</td>\n",
       "    </tr>\n",
       "    <tr>\n",
       "      <th>2006</th>\n",
       "      <td>225613.99</td>\n",
       "      <td>-16729.30</td>\n",
       "      <td>5106.69</td>\n",
       "      <td>178276.74</td>\n",
       "    </tr>\n",
       "    <tr>\n",
       "      <th>2007</th>\n",
       "      <td>238021.04</td>\n",
       "      <td>-15859.20</td>\n",
       "      <td>5200.32</td>\n",
       "      <td>189140.88</td>\n",
       "    </tr>\n",
       "    <tr>\n",
       "      <th>2008</th>\n",
       "      <td>251897.55</td>\n",
       "      <td>-18646.85</td>\n",
       "      <td>6080.79</td>\n",
       "      <td>195412.94</td>\n",
       "    </tr>\n",
       "    <tr>\n",
       "      <th>2009</th>\n",
       "      <td>242395.39</td>\n",
       "      <td>-12796.40</td>\n",
       "      <td>7271.13</td>\n",
       "      <td>190814.83</td>\n",
       "    </tr>\n",
       "    <tr>\n",
       "      <th>2010</th>\n",
       "      <td>267318.11</td>\n",
       "      <td>-18526.36</td>\n",
       "      <td>8555.28</td>\n",
       "      <td>207712.48</td>\n",
       "    </tr>\n",
       "    <tr>\n",
       "      <th>2011</th>\n",
       "      <td>270685.20</td>\n",
       "      <td>-18336.90</td>\n",
       "      <td>7093.91</td>\n",
       "      <td>214859.53</td>\n",
       "    </tr>\n",
       "    <tr>\n",
       "      <th>2012</th>\n",
       "      <td>283941.63</td>\n",
       "      <td>-22606.88</td>\n",
       "      <td>-13.49</td>\n",
       "      <td>229774.08</td>\n",
       "    </tr>\n",
       "    <tr>\n",
       "      <th>2013</th>\n",
       "      <td>296978.95</td>\n",
       "      <td>-28475.02</td>\n",
       "      <td>12316.53</td>\n",
       "      <td>233713.25</td>\n",
       "    </tr>\n",
       "    <tr>\n",
       "      <th>2014</th>\n",
       "      <td>305591.67</td>\n",
       "      <td>-31361.27</td>\n",
       "      <td>324.67</td>\n",
       "      <td>237763.12</td>\n",
       "    </tr>\n",
       "    <tr>\n",
       "      <th>2015</th>\n",
       "      <td>299577.81</td>\n",
       "      <td>-30174.57</td>\n",
       "      <td>409.41</td>\n",
       "      <td>232537.06</td>\n",
       "    </tr>\n",
       "    <tr>\n",
       "      <th>2016</th>\n",
       "      <td>289705.92</td>\n",
       "      <td>-26079.55</td>\n",
       "      <td>-361.20</td>\n",
       "      <td>228653.04</td>\n",
       "    </tr>\n",
       "    <tr>\n",
       "      <th>2017</th>\n",
       "      <td>294744.15</td>\n",
       "      <td>-26507.00</td>\n",
       "      <td>180.69</td>\n",
       "      <td>233004.63</td>\n",
       "    </tr>\n",
       "    <tr>\n",
       "      <th>2018</th>\n",
       "      <td>290908.11</td>\n",
       "      <td>-24741.86</td>\n",
       "      <td>-137.15</td>\n",
       "      <td>228665.38</td>\n",
       "    </tr>\n",
       "    <tr>\n",
       "      <th>2019</th>\n",
       "      <td>295192.45</td>\n",
       "      <td>-26193.16</td>\n",
       "      <td>-8.83</td>\n",
       "      <td>230298.05</td>\n",
       "    </tr>\n",
       "    <tr>\n",
       "      <th>2020</th>\n",
       "      <td>286990.01</td>\n",
       "      <td>-23730.45</td>\n",
       "      <td>339.10</td>\n",
       "      <td>226959.77</td>\n",
       "    </tr>\n",
       "    <tr>\n",
       "      <th>2021</th>\n",
       "      <td>298402.50</td>\n",
       "      <td>-26510.47</td>\n",
       "      <td>130.14</td>\n",
       "      <td>237194.52</td>\n",
       "    </tr>\n",
       "  </tbody>\n",
       "</table>\n",
       "</div>"
      ],
      "text/plain": [
       "SECTOR  TOTAL SUPPLY  TOTAL TRANSFORMATION  ADJUSTMENT  FINAL CONSUMPTION\n",
       "YEAR                                                                     \n",
       "1970        66742.40              -5422.47        1.85           58834.12\n",
       "1971        70092.03              -5437.72        4.11           61691.69\n",
       "1972        75111.33              -5936.88      -29.62           65995.12\n",
       "1973        81963.44              -6488.78      -17.64           71692.86\n",
       "1974        87628.20              -6959.24       25.71           76198.40\n",
       "1975        91211.72              -7818.10      111.74           78491.85\n",
       "1976        95938.52              -7668.33      -66.91           83208.97\n",
       "1977        99416.35              -8737.61     -201.10           85026.52\n",
       "1978       105367.89              -9529.34     -102.43           88944.97\n",
       "1979       112106.28             -10171.33     -217.41           93782.10\n",
       "1980       114444.82             -11451.41       46.99           94534.85\n",
       "1981       109797.03             -10078.94       20.07           91232.82\n",
       "1982       111899.36             -10258.77     -102.50           92462.42\n",
       "1983       115180.74             -12087.69      -85.22           92200.73\n",
       "1984       122425.58             -14787.50      -27.21           95222.32\n",
       "1985       129998.96             -15671.24      -82.79           99634.71\n",
       "1986       136585.90             -17203.80        0.38          105251.29\n",
       "1987       142271.45             -17350.51      -10.35          108807.69\n",
       "1988       144098.35             -18772.65      -11.95          109756.68\n",
       "1989       146100.13             -18565.89       25.88          111486.58\n",
       "1990       151432.21             -21469.31       81.41          114351.06\n",
       "1991       154559.67             -22340.14      453.70          115475.10\n",
       "1992       155199.34             -22675.19      -66.11          116856.28\n",
       "1993       159231.13             -23218.14       -0.02          120002.68\n",
       "1994       166865.52             -22964.42     -192.40          126260.73\n",
       "1995       171730.86             -22531.84      106.04          131516.33\n",
       "1996       180699.72             -22392.30      942.00          138211.73\n",
       "1997       181722.99             -17570.61      175.28          143104.84\n",
       "1998       186424.37             -17948.49      515.11          147985.31\n",
       "1999       198172.81             -23566.89      330.69          155221.98\n",
       "2000       201048.77             -26392.94     -804.43          156808.59\n",
       "2001       204346.55             -28297.94      560.02          156515.30\n",
       "2002       199384.34             -14727.57     4802.51          159678.14\n",
       "2003       202599.40             -15224.82     4209.27          161359.72\n",
       "2004       213381.88             -16615.55     3735.02          170298.70\n",
       "2005       218842.68             -17256.75     4873.11          173105.86\n",
       "2006       225613.99             -16729.30     5106.69          178276.74\n",
       "2007       238021.04             -15859.20     5200.32          189140.88\n",
       "2008       251897.55             -18646.85     6080.79          195412.94\n",
       "2009       242395.39             -12796.40     7271.13          190814.83\n",
       "2010       267318.11             -18526.36     8555.28          207712.48\n",
       "2011       270685.20             -18336.90     7093.91          214859.53\n",
       "2012       283941.63             -22606.88      -13.49          229774.08\n",
       "2013       296978.95             -28475.02    12316.53          233713.25\n",
       "2014       305591.67             -31361.27      324.67          237763.12\n",
       "2015       299577.81             -30174.57      409.41          232537.06\n",
       "2016       289705.92             -26079.55     -361.20          228653.04\n",
       "2017       294744.15             -26507.00      180.69          233004.63\n",
       "2018       290908.11             -24741.86     -137.15          228665.38\n",
       "2019       295192.45             -26193.16       -8.83          230298.05\n",
       "2020       286990.01             -23730.45      339.10          226959.77\n",
       "2021       298402.50             -26510.47      130.14          237194.52"
      ]
     },
     "metadata": {},
     "output_type": "display_data"
    }
   ],
   "source": [
    "# Group by Year and SECTOR, and sum the TOTAL values\n",
    "selected_SECTORS=['TOTAL SUPPLY','TOTAL TRANSFORMATION','ADJUSTMENT','FINAL CONSUMPTION']\n",
    "df_summary=df_concat.copy()\n",
    "\n",
    "df_summary=df_summary.apply(lambda column: column.fillna(0))\n",
    "df_summary=df_summary[df_summary['SECTOR'].isin(selected_SECTORS)]\n",
    "df_summary = df_summary.groupby(['YEAR','SECTOR'])['TOTAL'].sum().reset_index()\n",
    "# Pivot the data\n",
    "df_summary = df_summary.pivot(index='YEAR', columns='SECTOR', values='TOTAL')\n",
    "\n",
    "# Reorder the columns in df\n",
    "df_summary = df_summary[selected_SECTORS]\n",
    "\n",
    "# Display the result\n",
    "display(df_summary)"
   ]
  },
  {
   "cell_type": "markdown",
   "id": "099f4672-7b99-4f89-995c-ad8d0a1b217e",
   "metadata": {},
   "source": [
    "### Visualize the data summary"
   ]
  },
  {
   "cell_type": "code",
   "execution_count": 54,
   "id": "2d9f326d-dcaa-472d-ae3f-f661b638cfa4",
   "metadata": {
    "tags": []
   },
   "outputs": [
    {
     "data": {
      "image/png": "[encoded data removed]",
      "text/plain": [
       "<Figure size 1000x600 with 1 Axes>"
      ]
     },
     "metadata": {},
     "output_type": "display_data"
    }
   ],
   "source": [
    "#selected_SECTORS=['TOTAL SUPPLY','TOTAL TRANSFORMATION','ADJUSTMENT','FINAL CONSUMPTION']\n",
    "# Create a figure and axis\n",
    "fig, ax = plt.subplots(figsize=( 10,6))\n",
    "\n",
    "#for k in selected_SECTORS:\n",
    " #   df_k=df_concat.loc[df_concat[\"SECTOR\"]==k].drop(columns=[\"SECTOR\"], axis=1)\n",
    "  #  sns.lineplot(data=df_k, x=df_k.index, y='TOTAL', label=k, ax=ax)\n",
    "\n",
    "for col in df_summary.columns:\n",
    "    sns.lineplot(data=df_summary[col], x=df_summary.index, y=df_summary[col], label=col, ax=ax)\n",
    "        \n",
    "# Set labels and title\n",
    "ax.set_xlabel('Year')\n",
    "ax.set_ylabel(f'Values [Ktoe]')\n",
    "ax.set_title(f'Total Supply, Transfomation, Adjustment, Final Consumption vs Year')\n",
    "ax.set_xticks(df_concat.index.unique()[::5])\n",
    "\n",
    "# Show the legend\n",
    "ax.legend()\n",
    "\n",
    "# Show the plot\n",
    "plt.grid(True)\n",
    "plt.show()\n",
    "\n",
    "\n"
   ]
  },
  {
   "cell_type": "markdown",
   "id": "0dbe1d24-033f-4553-99c0-3b07ad346bd7",
   "metadata": {},
   "source": [
    "The negative transformation values over  years typically means that more energy was consumed or transformed within the energy system than was produced or input into the system during that specific time period (year). In other words, it indicates an energy deficit or a situation where the energy demands and transformations within the system exceeded the energy available from primary sources or imports."
   ]
  },
  {
   "cell_type": "markdown",
   "id": "a346115c-5917-45fa-927d-bdad57ab2111",
   "metadata": {},
   "source": [
    "## I.3 Sankey Diagram\n",
    "\n",
    "- Sankey diagrams are valuable tools for visualizing energy flows and understanding energy balances in complex systems. \n",
    "\n",
    "- Reviewing Sankey diagrams in an energy balance context is crucial for gaining insights into energy flows, identifying inefficiencies, ensuring a balance between supply and demand, and making informed decisions about energy policy, efficiency improvements, and environmental management. They provide a concise and visually intuitive representation of complex energy data, making it easier for stakeholders to understand and act upon energy-related challenges and opportunities."
   ]
  },
  {
   "cell_type": "code",
   "execution_count": 55,
   "id": "82663e56-2c19-4e76-949e-58a5d47a8903",
   "metadata": {},
   "outputs": [],
   "source": [
    "from collections import defaultdict\n",
    "import plotly.graph_objects as go"
   ]
  },
  {
   "cell_type": "markdown",
   "id": "e83eddaa-e6f9-4614-870c-af549455462e",
   "metadata": {},
   "source": [
    "### Define the Plot function"
   ]
  },
  {
   "cell_type": "code",
   "execution_count": 56,
   "id": "f4d6c79e-7397-4790-bf3f-98d67c9b24b9",
   "metadata": {},
   "outputs": [],
   "source": [
    "# Defining the Plot function\n",
    "def Plot(sheet_name, label, source, target, value):\n",
    "    fig = go.Figure(data=[go.Sankey(\n",
    "        node = dict(\n",
    "          pad = 30,\n",
    "          thickness = 20,\n",
    "          line = None, # dict(color = \"black\", width = 0.5),\n",
    "          label = label,\n",
    "          color = None # \"blue\"\n",
    "        ),\n",
    "        link = dict(\n",
    "          source = source, # indices correspond to labels, eg A1, A2, A1, B1, ...\n",
    "          target = target,\n",
    "          value = value\n",
    "      ))])\n",
    "\n",
    "    fig.update_layout(title_text=sheet_name, font_size=10)\n",
    "    fig.show()"
   ]
  },
  {
   "cell_type": "markdown",
   "id": "fbaa7c32-d39d-4de5-8489-2d9a5aa11369",
   "metadata": {},
   "source": [
    "#### Preparation the data to plot"
   ]
  },
  {
   "cell_type": "code",
   "execution_count": 57,
   "id": "7c4671e7-59cb-4306-adbc-14040ac770ba",
   "metadata": {
    "tags": []
   },
   "outputs": [],
   "source": [
    "# Preparation the data to plot\n",
    "def Data_Generate(Dict):\n",
    "    \n",
    "    Dict_out = {}  # Initialize the output dictionary\n",
    "    for sheet_name in Dict.keys():\n",
    "\n",
    "        df=Dict[sheet_name]\n",
    "        \n",
    "         # Reset index\n",
    "        df=df.set_index('SECTOR')\n",
    "\n",
    "        # Transpose df\n",
    "        df=df.T\n",
    "\n",
    "        # Fill NaN values\n",
    "        df=df.fillna(np.nan)\n",
    "        #df.fillna(0, inplace=True)\n",
    "\n",
    "        # define the combinations\n",
    "        Transformers=['REFINERIES', 'POWER PLANTS', 'SELF-PRODUCERS',\n",
    "               'GAS PLANTS', 'CHARCOAL PLANTS', 'COKE PLANTS AND BLAST FURNACES',\n",
    "               'DISTILLERIES', 'OTHER CENTERS']\n",
    "        Primaries=['OIL','NATURAL GAS','COAL','HYDROENERGY','GEOTHERMAL','NUCLEAR','FIREWOOD','SUGARCANE AND PRODUCTS','OTHER PRIMARY']\n",
    "        Secondaries=['ELECTRICITY','LPG','GASOLINE/ALCOHOL','KEROSENE/JET FUEL','DIESEL OIL','FUEL OIL','COKE','CHARCOAL','GASES','OTHER SECONDARY']\n",
    "        Consumptions=['TRANSPORT','INDUSTRIAL','RESIDENTIAL','COMMERCIAL, SERVICES, PUBLIC','AGRICULTURE, FISHING AND MINING','CONSTRUCTION AND OTHERS']\n",
    "\n",
    "        unique_combinations = []\n",
    "\n",
    "        # here add secondary combination then type of consumption combination\n",
    "\n",
    "        for i in Transformers:\n",
    "            for j in Primaries:\n",
    "                unique_combinations.append((j, i,abs(df[i][j])))\n",
    "\n",
    "        for i in Transformers:\n",
    "            for j in Secondaries:\n",
    "                unique_combinations.append((i, j,abs(df[i][j])))\n",
    "\n",
    "        #get the final consumption column     \n",
    "\n",
    "        for i in Primaries+Secondaries:\n",
    "                unique_combinations.append((i, i+'-FINAL CONSUMPTION',abs(df['FINAL CONSUMPTION'][i])))\n",
    "\n",
    "        # the final consumption column - Usage column\n",
    "        for i in Primaries+Secondaries:\n",
    "            for j in Consumptions:\n",
    "                unique_combinations.append((i+'-FINAL CONSUMPTION', j,abs(df['FINAL CONSUMPTION'][i])))      \n",
    "\n",
    "        label=Transformers+Primaries+Secondaries+Consumptions+[i+'-FINAL CONSUMPTION' for i in Primaries+Secondaries]\n",
    "                \n",
    "        _dict=Dict_out[sheet_name]={}\n",
    "        _dict[\"source\"]=[]\n",
    "        _dict[\"target\"]=[]\n",
    "        _dict[\"value\"]=[]\n",
    "        _dict[\"label\"]=label\n",
    "\n",
    "\n",
    "        #Dict_out[sheet_name_new] = data  # Store the data in the dictionary\n",
    "        for k in unique_combinations:\n",
    "            _dict[\"source\"].append(label.index(k[0]))\n",
    "            _dict[\"target\"].append(label.index(k[1]))\n",
    "            _dict[\"value\"].append(k[2])\n",
    "           \n",
    "    return Dict_out"
   ]
  },
  {
   "cell_type": "code",
   "execution_count": 58,
   "id": "34979791-3623-47da-a241-7c3a2d6365a9",
   "metadata": {},
   "outputs": [],
   "source": [
    "Dict_out=Data_Generate(Dict)"
   ]
  },
  {
   "cell_type": "markdown",
   "id": "bfe3ea02-3465-4d97-b8ba-9dc8ee30b25d",
   "metadata": {},
   "source": [
    "### Sample plot"
   ]
  },
  {
   "cell_type": "code",
   "execution_count": 59,
   "id": "71291b61-a8a2-491a-ac9e-109e0fee41ce",
   "metadata": {},
   "outputs": [],
   "source": [
    "sheet_name=\"2021\"\n",
    "label=Dict_out[sheet_name][\"label\"]\n",
    "source=Dict_out[sheet_name][\"source\"]\n",
    "target=Dict_out[sheet_name][\"target\"]\n",
    "value=Dict_out[sheet_name][\"value\"]"
   ]
  },
  {
   "cell_type": "code",
   "execution_count": 60,
   "id": "3216903b-f42c-4c0e-8a3d-a9b73f29f5e4",
   "metadata": {},
   "outputs": [
    {
     "data": {
      "application/vnd.plotly.v1+json": {
       "config": {
        "plotlyServerURL": "https://plot.ly"
       },
       "data": [
        {
         "link": {
          "source": [
           8,
           9,
           10,
           11,
           12,
           13,
           14,
           15,
           16,
           8,
           9,
           10,
           11,
           12,
           13,
           14,
           15,
           16,
           8,
           9,
           10,
           11,
           12,
           13,
           14,
           15,
           16,
           8,
           9,
           10,
           11,
           12,
           13,
           14,
           15,
           16,
           8,
           9,
           10,
           11,
           12,
           13,
           14,
           15,
           16,
           8,
           9,
           10,
           11,
           12,
           13,
           14,
           15,
           16,
           8,
           9,
           10,
           11,
           12,
           13,
           14,
           15,
           16,
           8,
           9,
           10,
           11,
           12,
           13,
           14,
           15,
           16,
           0,
           0,
           0,
           0,
           0,
           0,
           0,
           0,
           0,
           0,
           1,
           1,
           1,
           1,
           1,
           1,
           1,
           1,
           1,
           1,
           2,
           2,
           2,
           2,
           2,
           2,
           2,
           2,
           2,
           2,
           3,
           3,
           3,
           3,
           3,
           3,
           3,
           3,
           3,
           3,
           4,
           4,
           4,
           4,
           4,
           4,
           4,
           4,
           4,
           4,
           5,
           5,
           5,
           5,
           5,
           5,
           5,
           5,
           5,
           5,
           6,
           6,
           6,
           6,
           6,
           6,
           6,
           6,
           6,
           6,
           7,
           7,
           7,
           7,
           7,
           7,
           7,
           7,
           7,
           7,
           8,
           9,
           10,
           11,
           12,
           13,
           14,
           15,
           16,
           17,
           18,
           19,
           20,
           21,
           22,
           23,
           24,
           25,
           26,
           33,
           33,
           33,
           33,
           33,
           33,
           34,
           34,
           34,
           34,
           34,
           34,
           35,
           35,
           35,
           35,
           35,
           35,
           36,
           36,
           36,
           36,
           36,
           36,
           37,
           37,
           37,
           37,
           37,
           37,
           38,
           38,
           38,
           38,
           38,
           38,
           39,
           39,
           39,
           39,
           39,
           39,
           40,
           40,
           40,
           40,
           40,
           40,
           41,
           41,
           41,
           41,
           41,
           41,
           42,
           42,
           42,
           42,
           42,
           42,
           43,
           43,
           43,
           43,
           43,
           43,
           44,
           44,
           44,
           44,
           44,
           44,
           45,
           45,
           45,
           45,
           45,
           45,
           46,
           46,
           46,
           46,
           46,
           46,
           47,
           47,
           47,
           47,
           47,
           47,
           48,
           48,
           48,
           48,
           48,
           48,
           49,
           49,
           49,
           49,
           49,
           49,
           50,
           50,
           50,
           50,
           50,
           50,
           51,
           51,
           51,
           51,
           51,
           51
          ],
          "target": [
           0,
           0,
           0,
           0,
           0,
           0,
           0,
           0,
           0,
           1,
           1,
           1,
           1,
           1,
           1,
           1,
           1,
           1,
           2,
           2,
           2,
           2,
           2,
           2,
           2,
           2,
           2,
           3,
           3,
           3,
           3,
           3,
           3,
           3,
           3,
           3,
           4,
           4,
           4,
           4,
           4,
           4,
           4,
           4,
           4,
           5,
           5,
           5,
           5,
           5,
           5,
           5,
           5,
           5,
           6,
           6,
           6,
           6,
           6,
           6,
           6,
           6,
           6,
           7,
           7,
           7,
           7,
           7,
           7,
           7,
           7,
           7,
           17,
           18,
           19,
           20,
           21,
           22,
           23,
           24,
           25,
           26,
           17,
           18,
           19,
           20,
           21,
           22,
           23,
           24,
           25,
           26,
           17,
           18,
           19,
           20,
           21,
           22,
           23,
           24,
           25,
           26,
           17,
           18,
           19,
           20,
           21,
           22,
           23,
           24,
           25,
           26,
           17,
           18,
           19,
           20,
           21,
           22,
           23,
           24,
           25,
           26,
           17,
           18,
           19,
           20,
           21,
           22,
           23,
           24,
           25,
           26,
           17,
           18,
           19,
           20,
           21,
           22,
           23,
           24,
           25,
           26,
           17,
           18,
           19,
           20,
           21,
           22,
           23,
           24,
           25,
           26,
           33,
           34,
           35,
           36,
           37,
           38,
           39,
           40,
           41,
           42,
           43,
           44,
           45,
           46,
           47,
           48,
           49,
           50,
           51,
           27,
           28,
           29,
           30,
           31,
           32,
           27,
           28,
           29,
           30,
           31,
           32,
           27,
           28,
           29,
           30,
           31,
           32,
           27,
           28,
           29,
           30,
           31,
           32,
           27,
           28,
           29,
           30,
           31,
           32,
           27,
           28,
           29,
           30,
           31,
           32,
           27,
           28,
           29,
           30,
           31,
           32,
           27,
           28,
           29,
           30,
           31,
           32,
           27,
           28,
           29,
           30,
           31,
           32,
           27,
           28,
           29,
           30,
           31,
           32,
           27,
           28,
           29,
           30,
           31,
           32,
           27,
           28,
           29,
           30,
           31,
           32,
           27,
           28,
           29,
           30,
           31,
           32,
           27,
           28,
           29,
           30,
           31,
           32,
           27,
           28,
           29,
           30,
           31,
           32,
           27,
           28,
           29,
           30,
           31,
           32,
           27,
           28,
           29,
           30,
           31,
           32,
           27,
           28,
           29,
           30,
           31,
           32,
           27,
           28,
           29,
           30,
           31,
           32
          ],
          "value": [
           92551.74,
           null,
           null,
           null,
           null,
           null,
           null,
           null,
           null,
           null,
           13219,
           4189.67,
           29752.22,
           null,
           3835.75,
           56.11,
           null,
           7138.42,
           null,
           4266.04,
           215.78,
           1372.79,
           null,
           null,
           373.38,
           5782.78,
           5688.41,
           null,
           2583.62,
           null,
           null,
           null,
           null,
           null,
           null,
           null,
           null,
           null,
           null,
           null,
           null,
           null,
           7346.03,
           null,
           null,
           null,
           null,
           7849.84,
           null,
           null,
           null,
           null,
           null,
           null,
           null,
           null,
           null,
           null,
           null,
           null,
           null,
           15381.37,
           158.61,
           734.46,
           null,
           null,
           null,
           null,
           null,
           null,
           null,
           5589.7,
           null,
           4410.84,
           23103.65,
           3278.26,
           36249.21,
           16109.25,
           null,
           null,
           null,
           7528.3,
           46508.5,
           null,
           null,
           null,
           1371.21,
           1656.49,
           null,
           null,
           null,
           75.3,
           9776.97,
           null,
           null,
           null,
           561.98,
           225.32,
           null,
           null,
           394.47,
           551.3,
           null,
           1318.38,
           115.21,
           null,
           null,
           null,
           null,
           null,
           null,
           null,
           null,
           null,
           null,
           null,
           null,
           null,
           null,
           3915.43,
           null,
           null,
           null,
           null,
           null,
           null,
           null,
           null,
           6866.86,
           null,
           2060.14,
           1280.22,
           null,
           null,
           15486.71,
           null,
           null,
           null,
           null,
           null,
           null,
           null,
           null,
           127.75,
           1865.73,
           null,
           5723.21,
           null,
           null,
           null,
           null,
           1580.88,
           null,
           11389.86,
           3643.53,
           null,
           null,
           null,
           18242.44,
           15418.5,
           9462.23,
           45634.17,
           8277.03,
           43129.75,
           2463.8,
           51271.06,
           2282.93,
           7883.22,
           3857.57,
           1483.19,
           6128.55,
           null,
           null,
           null,
           null,
           null,
           null,
           11389.86,
           11389.86,
           11389.86,
           11389.86,
           11389.86,
           11389.86,
           3643.53,
           3643.53,
           3643.53,
           3643.53,
           3643.53,
           3643.53,
           null,
           null,
           null,
           null,
           null,
           null,
           null,
           null,
           null,
           null,
           null,
           null,
           null,
           null,
           null,
           null,
           null,
           null,
           18242.44,
           18242.44,
           18242.44,
           18242.44,
           18242.44,
           18242.44,
           15418.5,
           15418.5,
           15418.5,
           15418.5,
           15418.5,
           15418.5,
           9462.23,
           9462.23,
           9462.23,
           9462.23,
           9462.23,
           9462.23,
           45634.17,
           45634.17,
           45634.17,
           45634.17,
           45634.17,
           45634.17,
           8277.03,
           8277.03,
           8277.03,
           8277.03,
           8277.03,
           8277.03,
           43129.75,
           43129.75,
           43129.75,
           43129.75,
           43129.75,
           43129.75,
           2463.8,
           2463.8,
           2463.8,
           2463.8,
           2463.8,
           2463.8,
           51271.06,
           51271.06,
           51271.06,
           51271.06,
           51271.06,
           51271.06,
           2282.93,
           2282.93,
           2282.93,
           2282.93,
           2282.93,
           2282.93,
           7883.22,
           7883.22,
           7883.22,
           7883.22,
           7883.22,
           7883.22,
           3857.57,
           3857.57,
           3857.57,
           3857.57,
           3857.57,
           3857.57,
           1483.19,
           1483.19,
           1483.19,
           1483.19,
           1483.19,
           1483.19,
           6128.55,
           6128.55,
           6128.55,
           6128.55,
           6128.55,
           6128.55
          ]
         },
         "node": {
          "label": [
           "REFINERIES",
           "POWER PLANTS",
           "SELF-PRODUCERS",
           "GAS PLANTS",
           "CHARCOAL PLANTS",
           "COKE PLANTS AND BLAST FURNACES",
           "DISTILLERIES",
           "OTHER CENTERS",
           "OIL",
           "NATURAL GAS",
           "COAL",
           "HYDROENERGY",
           "GEOTHERMAL",
           "NUCLEAR",
           "FIREWOOD",
           "SUGARCANE AND PRODUCTS",
           "OTHER PRIMARY",
           "ELECTRICITY",
           "LPG",
           "GASOLINE/ALCOHOL",
           "KEROSENE/JET FUEL",
           "DIESEL OIL",
           "FUEL OIL",
           "COKE",
           "CHARCOAL",
           "GASES",
           "OTHER SECONDARY",
           "TRANSPORT",
           "INDUSTRIAL",
           "RESIDENTIAL",
           "COMMERCIAL, SERVICES, PUBLIC",
           "AGRICULTURE, FISHING AND MINING",
           "CONSTRUCTION AND OTHERS",
           "OIL-FINAL CONSUMPTION",
           "NATURAL GAS-FINAL CONSUMPTION",
           "COAL-FINAL CONSUMPTION",
           "HYDROENERGY-FINAL CONSUMPTION",
           "GEOTHERMAL-FINAL CONSUMPTION",
           "NUCLEAR-FINAL CONSUMPTION",
           "FIREWOOD-FINAL CONSUMPTION",
           "SUGARCANE AND PRODUCTS-FINAL CONSUMPTION",
           "OTHER PRIMARY-FINAL CONSUMPTION",
           "ELECTRICITY-FINAL CONSUMPTION",
           "LPG-FINAL CONSUMPTION",
           "GASOLINE/ALCOHOL-FINAL CONSUMPTION",
           "KEROSENE/JET FUEL-FINAL CONSUMPTION",
           "DIESEL OIL-FINAL CONSUMPTION",
           "FUEL OIL-FINAL CONSUMPTION",
           "COKE-FINAL CONSUMPTION",
           "CHARCOAL-FINAL CONSUMPTION",
           "GASES-FINAL CONSUMPTION",
           "OTHER SECONDARY-FINAL CONSUMPTION"
          ],
          "pad": 30,
          "thickness": 20
         },
         "type": "sankey"
        }
       ],
       "layout": {
        "autosize": true,
        "font": {
         "size": 10
        },
        "template": {
         "data": {
          "bar": [
           {
            "error_x": {
             "color": "#2a3f5f"
            },
            "error_y": {
             "color": "#2a3f5f"
            },
            "marker": {
             "line": {
              "color": "#E5ECF6",
              "width": 0.5
             },
             "pattern": {
              "fillmode": "overlay",
              "size": 10,
              "solidity": 0.2
             }
            },
            "type": "bar"
           }
          ],
          "barpolar": [
           {
            "marker": {
             "line": {
              "color": "#E5ECF6",
              "width": 0.5
             },
             "pattern": {
              "fillmode": "overlay",
              "size": 10,
              "solidity": 0.2
             }
            },
            "type": "barpolar"
           }
          ],
          "carpet": [
           {
            "aaxis": {
             "endlinecolor": "#2a3f5f",
             "gridcolor": "white",
             "linecolor": "white",
             "minorgridcolor": "white",
             "startlinecolor": "#2a3f5f"
            },
            "baxis": {
             "endlinecolor": "#2a3f5f",
             "gridcolor": "white",
             "linecolor": "white",
             "minorgridcolor": "white",
             "startlinecolor": "#2a3f5f"
            },
            "type": "carpet"
           }
          ],
          "choropleth": [
           {
            "colorbar": {
             "outlinewidth": 0,
             "ticks": ""
            },
            "type": "choropleth"
           }
          ],
          "contour": [
           {
            "colorbar": {
             "outlinewidth": 0,
             "ticks": ""
            },
            "colorscale": [
             [
              0,
              "#0d0887"
             ],
             [
              0.1111111111111111,
              "#46039f"
             ],
             [
              0.2222222222222222,
              "#7201a8"
             ],
             [
              0.3333333333333333,
              "#9c179e"
             ],
             [
              0.4444444444444444,
              "#bd3786"
             ],
             [
              0.5555555555555556,
              "#d8576b"
             ],
             [
              0.6666666666666666,
              "#ed7953"
             ],
             [
              0.7777777777777778,
              "#fb9f3a"
             ],
             [
              0.8888888888888888,
              "#fdca26"
             ],
             [
              1,
              "#f0f921"
             ]
            ],
            "type": "contour"
           }
          ],
          "contourcarpet": [
           {
            "colorbar": {
             "outlinewidth": 0,
             "ticks": ""
            },
            "type": "contourcarpet"
           }
          ],
          "heatmap": [
           {
            "colorbar": {
             "outlinewidth": 0,
             "ticks": ""
            },
            "colorscale": [
             [
              0,
              "#0d0887"
             ],
             [
              0.1111111111111111,
              "#46039f"
             ],
             [
              0.2222222222222222,
              "#7201a8"
             ],
             [
              0.3333333333333333,
              "#9c179e"
             ],
             [
              0.4444444444444444,
              "#bd3786"
             ],
             [
              0.5555555555555556,
              "#d8576b"
             ],
             [
              0.6666666666666666,
              "#ed7953"
             ],
             [
              0.7777777777777778,
              "#fb9f3a"
             ],
             [
              0.8888888888888888,
              "#fdca26"
             ],
             [
              1,
              "#f0f921"
             ]
            ],
            "type": "heatmap"
           }
          ],
          "heatmapgl": [
           {
            "colorbar": {
             "outlinewidth": 0,
             "ticks": ""
            },
            "colorscale": [
             [
              0,
              "#0d0887"
             ],
             [
              0.1111111111111111,
              "#46039f"
             ],
             [
              0.2222222222222222,
              "#7201a8"
             ],
             [
              0.3333333333333333,
              "#9c179e"
             ],
             [
              0.4444444444444444,
              "#bd3786"
             ],
             [
              0.5555555555555556,
              "#d8576b"
             ],
             [
              0.6666666666666666,
              "#ed7953"
             ],
             [
              0.7777777777777778,
              "#fb9f3a"
             ],
             [
              0.8888888888888888,
              "#fdca26"
             ],
             [
              1,
              "#f0f921"
             ]
            ],
            "type": "heatmapgl"
           }
          ],
          "histogram": [
           {
            "marker": {
             "pattern": {
              "fillmode": "overlay",
              "size": 10,
              "solidity": 0.2
             }
            },
            "type": "histogram"
           }
          ],
          "histogram2d": [
           {
            "colorbar": {
             "outlinewidth": 0,
             "ticks": ""
            },
            "colorscale": [
             [
              0,
              "#0d0887"
             ],
             [
              0.1111111111111111,
              "#46039f"
             ],
             [
              0.2222222222222222,
              "#7201a8"
             ],
             [
              0.3333333333333333,
              "#9c179e"
             ],
             [
              0.4444444444444444,
              "#bd3786"
             ],
             [
              0.5555555555555556,
              "#d8576b"
             ],
             [
              0.6666666666666666,
              "#ed7953"
             ],
             [
              0.7777777777777778,
              "#fb9f3a"
             ],
             [
              0.8888888888888888,
              "#fdca26"
             ],
             [
              1,
              "#f0f921"
             ]
            ],
            "type": "histogram2d"
           }
          ],
          "histogram2dcontour": [
           {
            "colorbar": {
             "outlinewidth": 0,
             "ticks": ""
            },
            "colorscale": [
             [
              0,
              "#0d0887"
             ],
             [
              0.1111111111111111,
              "#46039f"
             ],
             [
              0.2222222222222222,
              "#7201a8"
             ],
             [
              0.3333333333333333,
              "#9c179e"
             ],
             [
              0.4444444444444444,
              "#bd3786"
             ],
             [
              0.5555555555555556,
              "#d8576b"
             ],
             [
              0.6666666666666666,
              "#ed7953"
             ],
             [
              0.7777777777777778,
              "#fb9f3a"
             ],
             [
              0.8888888888888888,
              "#fdca26"
             ],
             [
              1,
              "#f0f921"
             ]
            ],
            "type": "histogram2dcontour"
           }
          ],
          "mesh3d": [
           {
            "colorbar": {
             "outlinewidth": 0,
             "ticks": ""
            },
            "type": "mesh3d"
           }
          ],
          "parcoords": [
           {
            "line": {
             "colorbar": {
              "outlinewidth": 0,
              "ticks": ""
             }
            },
            "type": "parcoords"
           }
          ],
          "pie": [
           {
            "automargin": true,
            "type": "pie"
           }
          ],
          "scatter": [
           {
            "fillpattern": {
             "fillmode": "overlay",
             "size": 10,
             "solidity": 0.2
            },
            "type": "scatter"
           }
          ],
          "scatter3d": [
           {
            "line": {
             "colorbar": {
              "outlinewidth": 0,
              "ticks": ""
             }
            },
            "marker": {
             "colorbar": {
              "outlinewidth": 0,
              "ticks": ""
             }
            },
            "type": "scatter3d"
           }
          ],
          "scattercarpet": [
           {
            "marker": {
             "colorbar": {
              "outlinewidth": 0,
              "ticks": ""
             }
            },
            "type": "scattercarpet"
           }
          ],
          "scattergeo": [
           {
            "marker": {
             "colorbar": {
              "outlinewidth": 0,
              "ticks": ""
             }
            },
            "type": "scattergeo"
           }
          ],
          "scattergl": [
           {
            "marker": {
             "colorbar": {
              "outlinewidth": 0,
              "ticks": ""
             }
            },
            "type": "scattergl"
           }
          ],
          "scattermapbox": [
           {
            "marker": {
             "colorbar": {
              "outlinewidth": 0,
              "ticks": ""
             }
            },
            "type": "scattermapbox"
           }
          ],
          "scatterpolar": [
           {
            "marker": {
             "colorbar": {
              "outlinewidth": 0,
              "ticks": ""
             }
            },
            "type": "scatterpolar"
           }
          ],
          "scatterpolargl": [
           {
            "marker": {
             "colorbar": {
              "outlinewidth": 0,
              "ticks": ""
             }
            },
            "type": "scatterpolargl"
           }
          ],
          "scatterternary": [
           {
            "marker": {
             "colorbar": {
              "outlinewidth": 0,
              "ticks": ""
             }
            },
            "type": "scatterternary"
           }
          ],
          "surface": [
           {
            "colorbar": {
             "outlinewidth": 0,
             "ticks": ""
            },
            "colorscale": [
             [
              0,
              "#0d0887"
             ],
             [
              0.1111111111111111,
              "#46039f"
             ],
             [
              0.2222222222222222,
              "#7201a8"
             ],
             [
              0.3333333333333333,
              "#9c179e"
             ],
             [
              0.4444444444444444,
              "#bd3786"
             ],
             [
              0.5555555555555556,
              "#d8576b"
             ],
             [
              0.6666666666666666,
              "#ed7953"
             ],
             [
              0.7777777777777778,
              "#fb9f3a"
             ],
             [
              0.8888888888888888,
              "#fdca26"
             ],
             [
              1,
              "#f0f921"
             ]
            ],
            "type": "surface"
           }
          ],
          "table": [
           {
            "cells": {
             "fill": {
              "color": "#EBF0F8"
             },
             "line": {
              "color": "white"
             }
            },
            "header": {
             "fill": {
              "color": "#C8D4E3"
             },
             "line": {
              "color": "white"
             }
            },
            "type": "table"
           }
          ]
         },
         "layout": {
          "annotationdefaults": {
           "arrowcolor": "#2a3f5f",
           "arrowhead": 0,
           "arrowwidth": 1
          },
          "autotypenumbers": "strict",
          "coloraxis": {
           "colorbar": {
            "outlinewidth": 0,
            "ticks": ""
           }
          },
          "colorscale": {
           "diverging": [
            [
             0,
             "#8e0152"
            ],
            [
             0.1,
             "#c51b7d"
            ],
            [
             0.2,
             "#de77ae"
            ],
            [
             0.3,
             "#f1b6da"
            ],
            [
             0.4,
             "#fde0ef"
            ],
            [
             0.5,
             "#f7f7f7"
            ],
            [
             0.6,
             "#e6f5d0"
            ],
            [
             0.7,
             "#b8e186"
            ],
            [
             0.8,
             "#7fbc41"
            ],
            [
             0.9,
             "#4d9221"
            ],
            [
             1,
             "#276419"
            ]
           ],
           "sequential": [
            [
             0,
             "#0d0887"
            ],
            [
             0.1111111111111111,
             "#46039f"
            ],
            [
             0.2222222222222222,
             "#7201a8"
            ],
            [
             0.3333333333333333,
             "#9c179e"
            ],
            [
             0.4444444444444444,
             "#bd3786"
            ],
            [
             0.5555555555555556,
             "#d8576b"
            ],
            [
             0.6666666666666666,
             "#ed7953"
            ],
            [
             0.7777777777777778,
             "#fb9f3a"
            ],
            [
             0.8888888888888888,
             "#fdca26"
            ],
            [
             1,
             "#f0f921"
            ]
           ],
           "sequentialminus": [
            [
             0,
             "#0d0887"
            ],
            [
             0.1111111111111111,
             "#46039f"
            ],
            [
             0.2222222222222222,
             "#7201a8"
            ],
            [
             0.3333333333333333,
             "#9c179e"
            ],
            [
             0.4444444444444444,
             "#bd3786"
            ],
            [
             0.5555555555555556,
             "#d8576b"
            ],
            [
             0.6666666666666666,
             "#ed7953"
            ],
            [
             0.7777777777777778,
             "#fb9f3a"
            ],
            [
             0.8888888888888888,
             "#fdca26"
            ],
            [
             1,
             "#f0f921"
            ]
           ]
          },
          "colorway": [
           "#636efa",
           "#EF553B",
           "#00cc96",
           "#ab63fa",
           "#FFA15A",
           "#19d3f3",
           "#FF6692",
           "#B6E880",
           "#FF97FF",
           "#FECB52"
          ],
          "font": {
           "color": "#2a3f5f"
          },
          "geo": {
           "bgcolor": "white",
           "lakecolor": "white",
           "landcolor": "#E5ECF6",
           "showlakes": true,
           "showland": true,
           "subunitcolor": "white"
          },
          "hoverlabel": {
           "align": "left"
          },
          "hovermode": "closest",
          "mapbox": {
           "style": "light"
          },
          "paper_bgcolor": "white",
          "plot_bgcolor": "#E5ECF6",
          "polar": {
           "angularaxis": {
            "gridcolor": "white",
            "linecolor": "white",
            "ticks": ""
           },
           "bgcolor": "#E5ECF6",
           "radialaxis": {
            "gridcolor": "white",
            "linecolor": "white",
            "ticks": ""
           }
          },
          "scene": {
           "xaxis": {
            "backgroundcolor": "#E5ECF6",
            "gridcolor": "white",
            "gridwidth": 2,
            "linecolor": "white",
            "showbackground": true,
            "ticks": "",
            "zerolinecolor": "white"
           },
           "yaxis": {
            "backgroundcolor": "#E5ECF6",
            "gridcolor": "white",
            "gridwidth": 2,
            "linecolor": "white",
            "showbackground": true,
            "ticks": "",
            "zerolinecolor": "white"
           },
           "zaxis": {
            "backgroundcolor": "#E5ECF6",
            "gridcolor": "white",
            "gridwidth": 2,
            "linecolor": "white",
            "showbackground": true,
            "ticks": "",
            "zerolinecolor": "white"
           }
          },
          "shapedefaults": {
           "line": {
            "color": "#2a3f5f"
           }
          },
          "ternary": {
           "aaxis": {
            "gridcolor": "white",
            "linecolor": "white",
            "ticks": ""
           },
           "baxis": {
            "gridcolor": "white",
            "linecolor": "white",
            "ticks": ""
           },
           "bgcolor": "#E5ECF6",
           "caxis": {
            "gridcolor": "white",
            "linecolor": "white",
            "ticks": ""
           }
          },
          "title": {
           "x": 0.05
          },
          "xaxis": {
           "automargin": true,
           "gridcolor": "white",
           "linecolor": "white",
           "ticks": "",
           "title": {
            "standoff": 15
           },
           "zerolinecolor": "white",
           "zerolinewidth": 2
          },
          "yaxis": {
           "automargin": true,
           "gridcolor": "white",
           "linecolor": "white",
           "ticks": "",
           "title": {
            "standoff": 15
           },
           "zerolinecolor": "white",
           "zerolinewidth": 2
          }
         }
        },
        "title": {
         "text": "2021"
        }
       }
      },
      "image/png": "[encoded data removed]",
      "text/html": [
       "<div>                            <div id=\"ebd14cb9-a264-4ac0-a7a4-147d268a838a\" class=\"plotly-graph-div\" style=\"height:525px; width:100%;\"></div>            <script type=\"text/javascript\">                require([\"plotly\"], function(Plotly) {                    window.PLOTLYENV=window.PLOTLYENV || {};                                    if (document.getElementById(\"ebd14cb9-a264-4ac0-a7a4-147d268a838a\")) {                    Plotly.newPlot(                        \"ebd14cb9-a264-4ac0-a7a4-147d268a838a\",                        [{\"link\":{\"source\":[8,9,10,11,12,13,14,15,16,8,9,10,11,12,13,14,15,16,8,9,10,11,12,13,14,15,16,8,9,10,11,12,13,14,15,16,8,9,10,11,12,13,14,15,16,8,9,10,11,12,13,14,15,16,8,9,10,11,12,13,14,15,16,8,9,10,11,12,13,14,15,16,0,0,0,0,0,0,0,0,0,0,1,1,1,1,1,1,1,1,1,1,2,2,2,2,2,2,2,2,2,2,3,3,3,3,3,3,3,3,3,3,4,4,4,4,4,4,4,4,4,4,5,5,5,5,5,5,5,5,5,5,6,6,6,6,6,6,6,6,6,6,7,7,7,7,7,7,7,7,7,7,8,9,10,11,12,13,14,15,16,17,18,19,20,21,22,23,24,25,26,33,33,33,33,33,33,34,34,34,34,34,34,35,35,35,35,35,35,36,36,36,36,36,36,37,37,37,37,37,37,38,38,38,38,38,38,39,39,39,39,39,39,40,40,40,40,40,40,41,41,41,41,41,41,42,42,42,42,42,42,43,43,43,43,43,43,44,44,44,44,44,44,45,45,45,45,45,45,46,46,46,46,46,46,47,47,47,47,47,47,48,48,48,48,48,48,49,49,49,49,49,49,50,50,50,50,50,50,51,51,51,51,51,51],\"target\":[0,0,0,0,0,0,0,0,0,1,1,1,1,1,1,1,1,1,2,2,2,2,2,2,2,2,2,3,3,3,3,3,3,3,3,3,4,4,4,4,4,4,4,4,4,5,5,5,5,5,5,5,5,5,6,6,6,6,6,6,6,6,6,7,7,7,7,7,7,7,7,7,17,18,19,20,21,22,23,24,25,26,17,18,19,20,21,22,23,24,25,26,17,18,19,20,21,22,23,24,25,26,17,18,19,20,21,22,23,24,25,26,17,18,19,20,21,22,23,24,25,26,17,18,19,20,21,22,23,24,25,26,17,18,19,20,21,22,23,24,25,26,17,18,19,20,21,22,23,24,25,26,33,34,35,36,37,38,39,40,41,42,43,44,45,46,47,48,49,50,51,27,28,29,30,31,32,27,28,29,30,31,32,27,28,29,30,31,32,27,28,29,30,31,32,27,28,29,30,31,32,27,28,29,30,31,32,27,28,29,30,31,32,27,28,29,30,31,32,27,28,29,30,31,32,27,28,29,30,31,32,27,28,29,30,31,32,27,28,29,30,31,32,27,28,29,30,31,32,27,28,29,30,31,32,27,28,29,30,31,32,27,28,29,30,31,32,27,28,29,30,31,32,27,28,29,30,31,32,27,28,29,30,31,32],\"value\":[92551.74,null,null,null,null,null,null,null,null,null,13219.0,4189.67,29752.22,null,3835.75,56.11,null,7138.42,null,4266.04,215.78,1372.79,null,null,373.38,5782.78,5688.41,null,2583.62,null,null,null,null,null,null,null,null,null,null,null,null,null,7346.03,null,null,null,null,7849.84,null,null,null,null,null,null,null,null,null,null,null,null,null,15381.37,158.61,734.46,null,null,null,null,null,null,null,5589.7,null,4410.84,23103.65,3278.26,36249.21,16109.25,null,null,null,7528.3,46508.5,null,null,null,1371.21,1656.49,null,null,null,75.3,9776.97,null,null,null,561.98,225.32,null,null,394.47,551.3,null,1318.38,115.21,null,null,null,null,null,null,null,null,null,null,null,null,null,null,3915.43,null,null,null,null,null,null,null,null,6866.86,null,2060.14,1280.22,null,null,15486.71,null,null,null,null,null,null,null,null,127.75,1865.73,null,5723.21,null,null,null,null,1580.88,null,11389.86,3643.53,null,null,null,18242.44,15418.5,9462.23,45634.17,8277.03,43129.75,2463.8,51271.06,2282.93,7883.22,3857.57,1483.19,6128.55,null,null,null,null,null,null,11389.86,11389.86,11389.86,11389.86,11389.86,11389.86,3643.53,3643.53,3643.53,3643.53,3643.53,3643.53,null,null,null,null,null,null,null,null,null,null,null,null,null,null,null,null,null,null,18242.44,18242.44,18242.44,18242.44,18242.44,18242.44,15418.5,15418.5,15418.5,15418.5,15418.5,15418.5,9462.23,9462.23,9462.23,9462.23,9462.23,9462.23,45634.17,45634.17,45634.17,45634.17,45634.17,45634.17,8277.03,8277.03,8277.03,8277.03,8277.03,8277.03,43129.75,43129.75,43129.75,43129.75,43129.75,43129.75,2463.8,2463.8,2463.8,2463.8,2463.8,2463.8,51271.06,51271.06,51271.06,51271.06,51271.06,51271.06,2282.93,2282.93,2282.93,2282.93,2282.93,2282.93,7883.22,7883.22,7883.22,7883.22,7883.22,7883.22,3857.57,3857.57,3857.57,3857.57,3857.57,3857.57,1483.19,1483.19,1483.19,1483.19,1483.19,1483.19,6128.55,6128.55,6128.55,6128.55,6128.55,6128.55]},\"node\":{\"label\":[\"REFINERIES\",\"POWER PLANTS\",\"SELF-PRODUCERS\",\"GAS PLANTS\",\"CHARCOAL PLANTS\",\"COKE PLANTS AND BLAST FURNACES\",\"DISTILLERIES\",\"OTHER CENTERS\",\"OIL\",\"NATURAL GAS\",\"COAL\",\"HYDROENERGY\",\"GEOTHERMAL\",\"NUCLEAR\",\"FIREWOOD\",\"SUGARCANE AND PRODUCTS\",\"OTHER PRIMARY\",\"ELECTRICITY\",\"LPG\",\"GASOLINE\\u002fALCOHOL\",\"KEROSENE\\u002fJET FUEL\",\"DIESEL OIL\",\"FUEL OIL\",\"COKE\",\"CHARCOAL\",\"GASES\",\"OTHER SECONDARY\",\"TRANSPORT\",\"INDUSTRIAL\",\"RESIDENTIAL\",\"COMMERCIAL, SERVICES, PUBLIC\",\"AGRICULTURE, FISHING AND MINING\",\"CONSTRUCTION AND OTHERS\",\"OIL-FINAL CONSUMPTION\",\"NATURAL GAS-FINAL CONSUMPTION\",\"COAL-FINAL CONSUMPTION\",\"HYDROENERGY-FINAL CONSUMPTION\",\"GEOTHERMAL-FINAL CONSUMPTION\",\"NUCLEAR-FINAL CONSUMPTION\",\"FIREWOOD-FINAL CONSUMPTION\",\"SUGARCANE AND PRODUCTS-FINAL CONSUMPTION\",\"OTHER PRIMARY-FINAL CONSUMPTION\",\"ELECTRICITY-FINAL CONSUMPTION\",\"LPG-FINAL CONSUMPTION\",\"GASOLINE\\u002fALCOHOL-FINAL CONSUMPTION\",\"KEROSENE\\u002fJET FUEL-FINAL CONSUMPTION\",\"DIESEL OIL-FINAL CONSUMPTION\",\"FUEL OIL-FINAL CONSUMPTION\",\"COKE-FINAL CONSUMPTION\",\"CHARCOAL-FINAL CONSUMPTION\",\"GASES-FINAL CONSUMPTION\",\"OTHER SECONDARY-FINAL CONSUMPTION\"],\"pad\":30,\"thickness\":20},\"type\":\"sankey\"}],                        {\"template\":{\"data\":{\"histogram2dcontour\":[{\"type\":\"histogram2dcontour\",\"colorbar\":{\"outlinewidth\":0,\"ticks\":\"\"},\"colorscale\":[[0.0,\"#0d0887\"],[0.1111111111111111,\"#46039f\"],[0.2222222222222222,\"#7201a8\"],[0.3333333333333333,\"#9c179e\"],[0.4444444444444444,\"#bd3786\"],[0.5555555555555556,\"#d8576b\"],[0.6666666666666666,\"#ed7953\"],[0.7777777777777778,\"#fb9f3a\"],[0.8888888888888888,\"#fdca26\"],[1.0,\"#f0f921\"]]}],\"choropleth\":[{\"type\":\"choropleth\",\"colorbar\":{\"outlinewidth\":0,\"ticks\":\"\"}}],\"histogram2d\":[{\"type\":\"histogram2d\",\"colorbar\":{\"outlinewidth\":0,\"ticks\":\"\"},\"colorscale\":[[0.0,\"#0d0887\"],[0.1111111111111111,\"#46039f\"],[0.2222222222222222,\"#7201a8\"],[0.3333333333333333,\"#9c179e\"],[0.4444444444444444,\"#bd3786\"],[0.5555555555555556,\"#d8576b\"],[0.6666666666666666,\"#ed7953\"],[0.7777777777777778,\"#fb9f3a\"],[0.8888888888888888,\"#fdca26\"],[1.0,\"#f0f921\"]]}],\"heatmap\":[{\"type\":\"heatmap\",\"colorbar\":{\"outlinewidth\":0,\"ticks\":\"\"},\"colorscale\":[[0.0,\"#0d0887\"],[0.1111111111111111,\"#46039f\"],[0.2222222222222222,\"#7201a8\"],[0.3333333333333333,\"#9c179e\"],[0.4444444444444444,\"#bd3786\"],[0.5555555555555556,\"#d8576b\"],[0.6666666666666666,\"#ed7953\"],[0.7777777777777778,\"#fb9f3a\"],[0.8888888888888888,\"#fdca26\"],[1.0,\"#f0f921\"]]}],\"heatmapgl\":[{\"type\":\"heatmapgl\",\"colorbar\":{\"outlinewidth\":0,\"ticks\":\"\"},\"colorscale\":[[0.0,\"#0d0887\"],[0.1111111111111111,\"#46039f\"],[0.2222222222222222,\"#7201a8\"],[0.3333333333333333,\"#9c179e\"],[0.4444444444444444,\"#bd3786\"],[0.5555555555555556,\"#d8576b\"],[0.6666666666666666,\"#ed7953\"],[0.7777777777777778,\"#fb9f3a\"],[0.8888888888888888,\"#fdca26\"],[1.0,\"#f0f921\"]]}],\"contourcarpet\":[{\"type\":\"contourcarpet\",\"colorbar\":{\"outlinewidth\":0,\"ticks\":\"\"}}],\"contour\":[{\"type\":\"contour\",\"colorbar\":{\"outlinewidth\":0,\"ticks\":\"\"},\"colorscale\":[[0.0,\"#0d0887\"],[0.1111111111111111,\"#46039f\"],[0.2222222222222222,\"#7201a8\"],[0.3333333333333333,\"#9c179e\"],[0.4444444444444444,\"#bd3786\"],[0.5555555555555556,\"#d8576b\"],[0.6666666666666666,\"#ed7953\"],[0.7777777777777778,\"#fb9f3a\"],[0.8888888888888888,\"#fdca26\"],[1.0,\"#f0f921\"]]}],\"surface\":[{\"type\":\"surface\",\"colorbar\":{\"outlinewidth\":0,\"ticks\":\"\"},\"colorscale\":[[0.0,\"#0d0887\"],[0.1111111111111111,\"#46039f\"],[0.2222222222222222,\"#7201a8\"],[0.3333333333333333,\"#9c179e\"],[0.4444444444444444,\"#bd3786\"],[0.5555555555555556,\"#d8576b\"],[0.6666666666666666,\"#ed7953\"],[0.7777777777777778,\"#fb9f3a\"],[0.8888888888888888,\"#fdca26\"],[1.0,\"#f0f921\"]]}],\"mesh3d\":[{\"type\":\"mesh3d\",\"colorbar\":{\"outlinewidth\":0,\"ticks\":\"\"}}],\"scatter\":[{\"fillpattern\":{\"fillmode\":\"overlay\",\"size\":10,\"solidity\":0.2},\"type\":\"scatter\"}],\"parcoords\":[{\"type\":\"parcoords\",\"line\":{\"colorbar\":{\"outlinewidth\":0,\"ticks\":\"\"}}}],\"scatterpolargl\":[{\"type\":\"scatterpolargl\",\"marker\":{\"colorbar\":{\"outlinewidth\":0,\"ticks\":\"\"}}}],\"bar\":[{\"error_x\":{\"color\":\"#2a3f5f\"},\"error_y\":{\"color\":\"#2a3f5f\"},\"marker\":{\"line\":{\"color\":\"#E5ECF6\",\"width\":0.5},\"pattern\":{\"fillmode\":\"overlay\",\"size\":10,\"solidity\":0.2}},\"type\":\"bar\"}],\"scattergeo\":[{\"type\":\"scattergeo\",\"marker\":{\"colorbar\":{\"outlinewidth\":0,\"ticks\":\"\"}}}],\"scatterpolar\":[{\"type\":\"scatterpolar\",\"marker\":{\"colorbar\":{\"outlinewidth\":0,\"ticks\":\"\"}}}],\"histogram\":[{\"marker\":{\"pattern\":{\"fillmode\":\"overlay\",\"size\":10,\"solidity\":0.2}},\"type\":\"histogram\"}],\"scattergl\":[{\"type\":\"scattergl\",\"marker\":{\"colorbar\":{\"outlinewidth\":0,\"ticks\":\"\"}}}],\"scatter3d\":[{\"type\":\"scatter3d\",\"line\":{\"colorbar\":{\"outlinewidth\":0,\"ticks\":\"\"}},\"marker\":{\"colorbar\":{\"outlinewidth\":0,\"ticks\":\"\"}}}],\"scattermapbox\":[{\"type\":\"scattermapbox\",\"marker\":{\"colorbar\":{\"outlinewidth\":0,\"ticks\":\"\"}}}],\"scatterternary\":[{\"type\":\"scatterternary\",\"marker\":{\"colorbar\":{\"outlinewidth\":0,\"ticks\":\"\"}}}],\"scattercarpet\":[{\"type\":\"scattercarpet\",\"marker\":{\"colorbar\":{\"outlinewidth\":0,\"ticks\":\"\"}}}],\"carpet\":[{\"aaxis\":{\"endlinecolor\":\"#2a3f5f\",\"gridcolor\":\"white\",\"linecolor\":\"white\",\"minorgridcolor\":\"white\",\"startlinecolor\":\"#2a3f5f\"},\"baxis\":{\"endlinecolor\":\"#2a3f5f\",\"gridcolor\":\"white\",\"linecolor\":\"white\",\"minorgridcolor\":\"white\",\"startlinecolor\":\"#2a3f5f\"},\"type\":\"carpet\"}],\"table\":[{\"cells\":{\"fill\":{\"color\":\"#EBF0F8\"},\"line\":{\"color\":\"white\"}},\"header\":{\"fill\":{\"color\":\"#C8D4E3\"},\"line\":{\"color\":\"white\"}},\"type\":\"table\"}],\"barpolar\":[{\"marker\":{\"line\":{\"color\":\"#E5ECF6\",\"width\":0.5},\"pattern\":{\"fillmode\":\"overlay\",\"size\":10,\"solidity\":0.2}},\"type\":\"barpolar\"}],\"pie\":[{\"automargin\":true,\"type\":\"pie\"}]},\"layout\":{\"autotypenumbers\":\"strict\",\"colorway\":[\"#636efa\",\"#EF553B\",\"#00cc96\",\"#ab63fa\",\"#FFA15A\",\"#19d3f3\",\"#FF6692\",\"#B6E880\",\"#FF97FF\",\"#FECB52\"],\"font\":{\"color\":\"#2a3f5f\"},\"hovermode\":\"closest\",\"hoverlabel\":{\"align\":\"left\"},\"paper_bgcolor\":\"white\",\"plot_bgcolor\":\"#E5ECF6\",\"polar\":{\"bgcolor\":\"#E5ECF6\",\"angularaxis\":{\"gridcolor\":\"white\",\"linecolor\":\"white\",\"ticks\":\"\"},\"radialaxis\":{\"gridcolor\":\"white\",\"linecolor\":\"white\",\"ticks\":\"\"}},\"ternary\":{\"bgcolor\":\"#E5ECF6\",\"aaxis\":{\"gridcolor\":\"white\",\"linecolor\":\"white\",\"ticks\":\"\"},\"baxis\":{\"gridcolor\":\"white\",\"linecolor\":\"white\",\"ticks\":\"\"},\"caxis\":{\"gridcolor\":\"white\",\"linecolor\":\"white\",\"ticks\":\"\"}},\"coloraxis\":{\"colorbar\":{\"outlinewidth\":0,\"ticks\":\"\"}},\"colorscale\":{\"sequential\":[[0.0,\"#0d0887\"],[0.1111111111111111,\"#46039f\"],[0.2222222222222222,\"#7201a8\"],[0.3333333333333333,\"#9c179e\"],[0.4444444444444444,\"#bd3786\"],[0.5555555555555556,\"#d8576b\"],[0.6666666666666666,\"#ed7953\"],[0.7777777777777778,\"#fb9f3a\"],[0.8888888888888888,\"#fdca26\"],[1.0,\"#f0f921\"]],\"sequentialminus\":[[0.0,\"#0d0887\"],[0.1111111111111111,\"#46039f\"],[0.2222222222222222,\"#7201a8\"],[0.3333333333333333,\"#9c179e\"],[0.4444444444444444,\"#bd3786\"],[0.5555555555555556,\"#d8576b\"],[0.6666666666666666,\"#ed7953\"],[0.7777777777777778,\"#fb9f3a\"],[0.8888888888888888,\"#fdca26\"],[1.0,\"#f0f921\"]],\"diverging\":[[0,\"#8e0152\"],[0.1,\"#c51b7d\"],[0.2,\"#de77ae\"],[0.3,\"#f1b6da\"],[0.4,\"#fde0ef\"],[0.5,\"#f7f7f7\"],[0.6,\"#e6f5d0\"],[0.7,\"#b8e186\"],[0.8,\"#7fbc41\"],[0.9,\"#4d9221\"],[1,\"#276419\"]]},\"xaxis\":{\"gridcolor\":\"white\",\"linecolor\":\"white\",\"ticks\":\"\",\"title\":{\"standoff\":15},\"zerolinecolor\":\"white\",\"automargin\":true,\"zerolinewidth\":2},\"yaxis\":{\"gridcolor\":\"white\",\"linecolor\":\"white\",\"ticks\":\"\",\"title\":{\"standoff\":15},\"zerolinecolor\":\"white\",\"automargin\":true,\"zerolinewidth\":2},\"scene\":{\"xaxis\":{\"backgroundcolor\":\"#E5ECF6\",\"gridcolor\":\"white\",\"linecolor\":\"white\",\"showbackground\":true,\"ticks\":\"\",\"zerolinecolor\":\"white\",\"gridwidth\":2},\"yaxis\":{\"backgroundcolor\":\"#E5ECF6\",\"gridcolor\":\"white\",\"linecolor\":\"white\",\"showbackground\":true,\"ticks\":\"\",\"zerolinecolor\":\"white\",\"gridwidth\":2},\"zaxis\":{\"backgroundcolor\":\"#E5ECF6\",\"gridcolor\":\"white\",\"linecolor\":\"white\",\"showbackground\":true,\"ticks\":\"\",\"zerolinecolor\":\"white\",\"gridwidth\":2}},\"shapedefaults\":{\"line\":{\"color\":\"#2a3f5f\"}},\"annotationdefaults\":{\"arrowcolor\":\"#2a3f5f\",\"arrowhead\":0,\"arrowwidth\":1},\"geo\":{\"bgcolor\":\"white\",\"landcolor\":\"#E5ECF6\",\"subunitcolor\":\"white\",\"showland\":true,\"showlakes\":true,\"lakecolor\":\"white\"},\"title\":{\"x\":0.05},\"mapbox\":{\"style\":\"light\"}}},\"title\":{\"text\":\"2021\"},\"font\":{\"size\":10}},                        {\"responsive\": true}                    ).then(function(){\n",
       "                            \n",
       "var gd = document.getElementById('ebd14cb9-a264-4ac0-a7a4-147d268a838a');\n",
       "var x = new MutationObserver(function (mutations, observer) {{\n",
       "        var display = window.getComputedStyle(gd).display;\n",
       "        if (!display || display === 'none') {{\n",
       "            console.log([gd, 'removed!']);\n",
       "            Plotly.purge(gd);\n",
       "            observer.disconnect();\n",
       "        }}\n",
       "}});\n",
       "\n",
       "// Listen for the removal of the full notebook cells\n",
       "var notebookContainer = gd.closest('#notebook-container');\n",
       "if (notebookContainer) {{\n",
       "    x.observe(notebookContainer, {childList: true});\n",
       "}}\n",
       "\n",
       "// Listen for the clearing of the current output cell\n",
       "var outputEl = gd.closest('.output');\n",
       "if (outputEl) {{\n",
       "    x.observe(outputEl, {childList: true});\n",
       "}}\n",
       "\n",
       "                        })                };                });            </script>        </div>"
      ]
     },
     "metadata": {},
     "output_type": "display_data"
    }
   ],
   "source": [
    "Plot(sheet_name, label, source, target, value)\n"
   ]
  },
  {
   "cell_type": "markdown",
   "id": "6cdfdbc8-9b51-405a-a7b1-8341f9d7e21d",
   "metadata": {},
   "source": [
    "## II. DATA ANALYSIS CONSUMPTION\n",
    "\n"
   ]
  },
  {
   "cell_type": "markdown",
   "id": "75a2600c-16db-41ef-a911-2cea6771c703",
   "metadata": {
    "tags": []
   },
   "source": [
    "\n",
    "**Antonio's notes:**\n",
    "\n",
    "Pronosticar y analizar consumos energéticos:\n",
    "\n",
    " -Balance Eurostat\n",
    " \n",
    " -Balance España\n",
    " \n",
    "Desagregar el consumo por destino\n",
    "\n",
    "Evolución de los consumos:\n",
    "\n",
    " -Patrón\n",
    " \n",
    " -Correlaciones\n",
    " \n",
    " -Tipos de consumo\n",
    " \n",
    " -Relación entre Incremento económico (ciclos económicos de crecimiento)\n",
    " \n",
    "                          Incremento consumo energético\n",
    "                          \n",
    "Análisis integrado con todos los consumos y ver si el abastecimiento, es decir, la oferta.\n",
    "\n",
    "Validar los \"nan\" de cada fuente primaria de Brasil\n",
    "\n",
    "Evaluar la industrialización de Brasil a futuro para ver como va a influir en su consumo\n",
    "\n",
    "¿Es exportador de energía Brasil?\n",
    "\n",
    "Pérdidas de energía eléctrica por distribución\n",
    "\n",
    "Capacidad operativa de energía hidroeléctrica por las capacidades hídricas de los ríos\n",
    "\n",
    "\n",
    "**Edu's notes:**\n",
    "\n",
    "Entiendo que nos dice que hay que que ver la evolución del consumo en cuanto a los suministros\n",
    "\n",
    "Relación oferta y demanda por segmentos en las series temporales\n",
    "\n",
    "De esa forma también podriamos ver la correlación entre las variables (positivas/negativas) en estas series temporales que en Brasil han influido en la demanda/oferta en los diferentes segementos en las series temporales y así se veria la evolución\n",
    "\n",
    "En cuanto a los escenarios, no se como plantearlos, se me ocurre algo pero necesito vuestra opinión:\n",
    "\n",
    "Escenario con un aumento o disminución de la población lo que reflejaría un cambio en el consumo final energético.\n",
    "\n",
    "Escenario con un aumento o disminución de la economía brasileña y su impacto en el consumo final energético.\n",
    "\n",
    "Escenario de un desarrollo tecnológico que muestre su impacto en el consumo final energético"
   ]
  },
  {
   "cell_type": "code",
   "execution_count": 65,
   "id": "872161b7-72c1-4150-a079-31933c6f307d",
   "metadata": {},
   "outputs": [
    {
     "data": {
      "text/plain": [
       "YEAR\n",
       "1970    58834.12\n",
       "1971    61691.69\n",
       "1972    65995.12\n",
       "1973    71692.86\n",
       "1974    76198.40\n",
       "Name: FINAL CONSUMPTION, dtype: float64"
      ]
     },
     "execution_count": 65,
     "metadata": {},
     "output_type": "execute_result"
    }
   ],
   "source": [
    "df_C=df_summary['FINAL CONSUMPTION']\n",
    "df_C.head()"
   ]
  },
  {
   "cell_type": "code",
   "execution_count": 62,
   "id": "1ec039d7-426a-45af-919d-36d5ef039c14",
   "metadata": {},
   "outputs": [
    {
     "ename": "KeyError",
     "evalue": "'FINAL CONSUMPTION'",
     "output_type": "error",
     "traceback": [
      "\u001b[1;31m---------------------------------------------------------------------------\u001b[0m",
      "\u001b[1;31mKeyError\u001b[0m                                  Traceback (most recent call last)",
      "File \u001b[1;32m~\\AppData\\Local\\anaconda3\\lib\\site-packages\\pandas\\core\\indexes\\base.py:3653\u001b[0m, in \u001b[0;36mIndex.get_loc\u001b[1;34m(self, key)\u001b[0m\n\u001b[0;32m   3652\u001b[0m \u001b[38;5;28;01mtry\u001b[39;00m:\n\u001b[1;32m-> 3653\u001b[0m     \u001b[38;5;28;01mreturn\u001b[39;00m \u001b[38;5;28;43mself\u001b[39;49m\u001b[38;5;241;43m.\u001b[39;49m\u001b[43m_engine\u001b[49m\u001b[38;5;241;43m.\u001b[39;49m\u001b[43mget_loc\u001b[49m\u001b[43m(\u001b[49m\u001b[43mcasted_key\u001b[49m\u001b[43m)\u001b[49m\n\u001b[0;32m   3654\u001b[0m \u001b[38;5;28;01mexcept\u001b[39;00m \u001b[38;5;167;01mKeyError\u001b[39;00m \u001b[38;5;28;01mas\u001b[39;00m err:\n",
      "File \u001b[1;32m~\\AppData\\Local\\anaconda3\\lib\\site-packages\\pandas\\_libs\\index.pyx:147\u001b[0m, in \u001b[0;36mpandas._libs.index.IndexEngine.get_loc\u001b[1;34m()\u001b[0m\n",
      "File \u001b[1;32m~\\AppData\\Local\\anaconda3\\lib\\site-packages\\pandas\\_libs\\index.pyx:155\u001b[0m, in \u001b[0;36mpandas._libs.index.IndexEngine.get_loc\u001b[1;34m()\u001b[0m\n",
      "File \u001b[1;32mpandas\\_libs\\index_class_helper.pxi:100\u001b[0m, in \u001b[0;36mpandas._libs.index.Int32Engine._check_type\u001b[1;34m()\u001b[0m\n",
      "\u001b[1;31mKeyError\u001b[0m: 'FINAL CONSUMPTION'",
      "\nThe above exception was the direct cause of the following exception:\n",
      "\u001b[1;31mKeyError\u001b[0m                                  Traceback (most recent call last)",
      "Cell \u001b[1;32mIn[62], line 2\u001b[0m\n\u001b[0;32m      1\u001b[0m \u001b[38;5;66;03m# Drop the 'FINAL CONSUMPTION' column and calculate the percentages\u001b[39;00m\n\u001b[1;32m----> 2\u001b[0m df_percentages \u001b[38;5;241m=\u001b[39m (df_C\u001b[38;5;241m.\u001b[39mdrop(columns\u001b[38;5;241m=\u001b[39m[\u001b[38;5;124m'\u001b[39m\u001b[38;5;124mFINAL CONSUMPTION\u001b[39m\u001b[38;5;124m'\u001b[39m])\u001b[38;5;241m.\u001b[39mdiv(\u001b[43mdf_C\u001b[49m\u001b[43m[\u001b[49m\u001b[38;5;124;43m'\u001b[39;49m\u001b[38;5;124;43mFINAL CONSUMPTION\u001b[39;49m\u001b[38;5;124;43m'\u001b[39;49m\u001b[43m]\u001b[49m, axis\u001b[38;5;241m=\u001b[39m\u001b[38;5;241m0\u001b[39m) \u001b[38;5;241m*\u001b[39m \u001b[38;5;241m100\u001b[39m)\n\u001b[0;32m      3\u001b[0m df_percentages \u001b[38;5;241m=\u001b[39m df_percentages\u001b[38;5;241m.\u001b[39mround(\u001b[38;5;241m0\u001b[39m)\n\u001b[0;32m      5\u001b[0m df_percentages\u001b[38;5;241m.\u001b[39mtail(\u001b[38;5;241m20\u001b[39m)\n",
      "File \u001b[1;32m~\\AppData\\Local\\anaconda3\\lib\\site-packages\\pandas\\core\\series.py:1007\u001b[0m, in \u001b[0;36mSeries.__getitem__\u001b[1;34m(self, key)\u001b[0m\n\u001b[0;32m   1004\u001b[0m     \u001b[38;5;28;01mreturn\u001b[39;00m \u001b[38;5;28mself\u001b[39m\u001b[38;5;241m.\u001b[39m_values[key]\n\u001b[0;32m   1006\u001b[0m \u001b[38;5;28;01melif\u001b[39;00m key_is_scalar:\n\u001b[1;32m-> 1007\u001b[0m     \u001b[38;5;28;01mreturn\u001b[39;00m \u001b[38;5;28;43mself\u001b[39;49m\u001b[38;5;241;43m.\u001b[39;49m\u001b[43m_get_value\u001b[49m\u001b[43m(\u001b[49m\u001b[43mkey\u001b[49m\u001b[43m)\u001b[49m\n\u001b[0;32m   1009\u001b[0m \u001b[38;5;28;01mif\u001b[39;00m is_hashable(key):\n\u001b[0;32m   1010\u001b[0m     \u001b[38;5;66;03m# Otherwise index.get_value will raise InvalidIndexError\u001b[39;00m\n\u001b[0;32m   1011\u001b[0m     \u001b[38;5;28;01mtry\u001b[39;00m:\n\u001b[0;32m   1012\u001b[0m         \u001b[38;5;66;03m# For labels that don't resolve as scalars like tuples and frozensets\u001b[39;00m\n",
      "File \u001b[1;32m~\\AppData\\Local\\anaconda3\\lib\\site-packages\\pandas\\core\\series.py:1116\u001b[0m, in \u001b[0;36mSeries._get_value\u001b[1;34m(self, label, takeable)\u001b[0m\n\u001b[0;32m   1113\u001b[0m     \u001b[38;5;28;01mreturn\u001b[39;00m \u001b[38;5;28mself\u001b[39m\u001b[38;5;241m.\u001b[39m_values[label]\n\u001b[0;32m   1115\u001b[0m \u001b[38;5;66;03m# Similar to Index.get_value, but we do not fall back to positional\u001b[39;00m\n\u001b[1;32m-> 1116\u001b[0m loc \u001b[38;5;241m=\u001b[39m \u001b[38;5;28;43mself\u001b[39;49m\u001b[38;5;241;43m.\u001b[39;49m\u001b[43mindex\u001b[49m\u001b[38;5;241;43m.\u001b[39;49m\u001b[43mget_loc\u001b[49m\u001b[43m(\u001b[49m\u001b[43mlabel\u001b[49m\u001b[43m)\u001b[49m\n\u001b[0;32m   1118\u001b[0m \u001b[38;5;28;01mif\u001b[39;00m is_integer(loc):\n\u001b[0;32m   1119\u001b[0m     \u001b[38;5;28;01mreturn\u001b[39;00m \u001b[38;5;28mself\u001b[39m\u001b[38;5;241m.\u001b[39m_values[loc]\n",
      "File \u001b[1;32m~\\AppData\\Local\\anaconda3\\lib\\site-packages\\pandas\\core\\indexes\\base.py:3655\u001b[0m, in \u001b[0;36mIndex.get_loc\u001b[1;34m(self, key)\u001b[0m\n\u001b[0;32m   3653\u001b[0m     \u001b[38;5;28;01mreturn\u001b[39;00m \u001b[38;5;28mself\u001b[39m\u001b[38;5;241m.\u001b[39m_engine\u001b[38;5;241m.\u001b[39mget_loc(casted_key)\n\u001b[0;32m   3654\u001b[0m \u001b[38;5;28;01mexcept\u001b[39;00m \u001b[38;5;167;01mKeyError\u001b[39;00m \u001b[38;5;28;01mas\u001b[39;00m err:\n\u001b[1;32m-> 3655\u001b[0m     \u001b[38;5;28;01mraise\u001b[39;00m \u001b[38;5;167;01mKeyError\u001b[39;00m(key) \u001b[38;5;28;01mfrom\u001b[39;00m \u001b[38;5;21;01merr\u001b[39;00m\n\u001b[0;32m   3656\u001b[0m \u001b[38;5;28;01mexcept\u001b[39;00m \u001b[38;5;167;01mTypeError\u001b[39;00m:\n\u001b[0;32m   3657\u001b[0m     \u001b[38;5;66;03m# If we have a listlike key, _check_indexing_error will raise\u001b[39;00m\n\u001b[0;32m   3658\u001b[0m     \u001b[38;5;66;03m#  InvalidIndexError. Otherwise we fall through and re-raise\u001b[39;00m\n\u001b[0;32m   3659\u001b[0m     \u001b[38;5;66;03m#  the TypeError.\u001b[39;00m\n\u001b[0;32m   3660\u001b[0m     \u001b[38;5;28mself\u001b[39m\u001b[38;5;241m.\u001b[39m_check_indexing_error(key)\n",
      "\u001b[1;31mKeyError\u001b[0m: 'FINAL CONSUMPTION'"
     ]
    }
   ],
   "source": [
    "# Drop the 'FINAL CONSUMPTION' column and calculate the percentages\n",
    "df_percentages = (df_C.drop(columns=['FINAL CONSUMPTION']).div(df_C['FINAL CONSUMPTION'], axis=0) * 100)\n",
    "df_percentages = df_percentages.round(0)\n",
    "\n",
    "df_percentages.tail(20)"
   ]
  },
  {
   "cell_type": "code",
   "execution_count": null,
   "id": "a2b3e123-47f4-44b4-9d66-e77e5c2d1016",
   "metadata": {},
   "outputs": [],
   "source": [
    "# Drop the 'FINAL CONSUMPTION' column (if not already dropped) as it is not needed for the stack plot\n",
    "df_stackplot = df_EC.drop(columns=[\"FINAL CONSUMPTION\"])\n",
    "\n",
    "# Plot both stack plots side by side\n",
    "fig, (ax1, ax2) = plt.subplots(1, 2, figsize=(18, 6))\n",
    "\n",
    "\n",
    "df_stackplot.plot.area(stacked=True, alpha=0.7, ax=ax1)\n",
    "ax1.set_xlabel('Year')\n",
    "ax1.set_ylabel('Energy Consumption')\n",
    "ax1.set_title('Energy Consumption Over the Years')\n",
    "ax1.legend(loc='upper left', bbox_to_anchor=(1.0, 1.0))\n",
    "\n",
    "df_percentages.plot.area(stacked=True, alpha=0.7, ax=ax2)\n",
    "\n",
    "ax2.set_xlabel('Year')\n",
    "ax2.set_ylabel(' Energy Consumption  (%)')\n",
    "ax2.set_title('Percentage of  Energy Consumption Over the Years')\n",
    "ax2.legend(loc='upper left', bbox_to_anchor=(1.0, 1.0))\n",
    "\n",
    "plt.tight_layout()\n",
    "plt.show()"
   ]
  },
  {
   "cell_type": "code",
   "execution_count": null,
   "id": "0295d5a4-2431-4157-adf8-be0c9b2816ec",
   "metadata": {},
   "outputs": [],
   "source": [
    "data=df_stackplot.copy()\n",
    "\n",
    "# Line_Plot:\n",
    "fig, ax1 = plt.subplots(1, 1, figsize=(10, 6))\n",
    "\n",
    "data.plot(ax=ax1)\n",
    "ax1.set_xlabel('Year')\n",
    "ax1.set_ylabel('Energy Consumption')\n",
    "ax1.set_title('Energy Consumption Over the Years')\n",
    "ax1.legend(loc='upper left')\n",
    "\n",
    "plt.tight_layout()\n",
    "plt.show()"
   ]
  },
  {
   "cell_type": "markdown",
   "id": "f5a38432-f233-4ead-a48e-014fad56bd86",
   "metadata": {},
   "source": [
    "### CORRELATION MATRIX"
   ]
  },
  {
   "cell_type": "code",
   "execution_count": null,
   "id": "4a6029d0-9759-4a50-afad-212a6b54f8fe",
   "metadata": {},
   "outputs": [],
   "source": [
    "\n",
    "list_correlacion=data.columns"
   ]
  },
  {
   "cell_type": "code",
   "execution_count": null,
   "id": "2463f27d-3762-4e0f-a1e3-29e401225b48",
   "metadata": {},
   "outputs": [],
   "source": [
    "df_correlacion = data[list_correlacion]\n",
    "correlation_mat = df_correlacion.corr()\n",
    "sns.heatmap(correlation_mat)\n",
    "plt.show()"
   ]
  },
  {
   "cell_type": "code",
   "execution_count": null,
   "id": "48935cfd-53d7-4734-83e6-669c0c746afe",
   "metadata": {},
   "outputs": [],
   "source": [
    "for i in list_correlacion:\n",
    "    sns.boxplot(x=data[i])\n",
    "    print(i)\n",
    "    plt.show()"
   ]
  },
  {
   "cell_type": "code",
   "execution_count": null,
   "id": "ef94a1fe-5570-43af-b7a1-f753e8c0d55c",
   "metadata": {},
   "outputs": [],
   "source": [
    "def saca_metricas(y_real, y_pred): \n",
    "    false_positive_rate, recall, thresholds = roc_curve(y_real, y_pred)\n",
    "    roc_auc = auc(false_positive_rate, recall)\n",
    "    print('- AUC: {roc_auc}')\n",
    "    plt.plot(false_positive_rate, recall, 'b')\n",
    "    plt.plot([0, 1], [0, 1], 'r--')\n",
    "    plt.title('AUC = %0.2f' % roc_auc)"
   ]
  },
  {
   "cell_type": "code",
   "execution_count": null,
   "id": "c45df917-4895-478c-859a-8d361fb59d68",
   "metadata": {},
   "outputs": [],
   "source": [
    "#models_rcv = {\n",
    " #   \"XGB\": XGBClassifier(n_jobs=-1, n_estimators=30, random_state=1234),\n",
    "  #  \"RF\": RandomForestClassifier(n_estimators =30, n_jobs=-1, random_state=1234),\n",
    "  #  \"Tree\": DecisionTreeClassifier(random_state=1234),\n",
    "  #  \"Log\": LogisticRegression(solver=\"newton-cg\", penalty=\"l2\"),\n",
    "#}\n",
    "\n",
    "def rskf_comparison(models, X_train, y_train):\n",
    "    \n",
    "    results = []\n",
    "    names = []\n",
    "\n",
    "    for k, v in models.items():\n",
    "    \n",
    "        rskf = RepeatedStratifiedKFold(n_splits=10, n_repeats=3, random_state=1234) \n",
    "        cv_scores = cross_val_score(v, X_train, y_train, scoring='roc_auc', cv=rskf, n_jobs=-1)\n",
    "\n",
    "        results.append(cv_scores)\n",
    "        names.append(k)\n",
    "\n",
    "        print(k)\n",
    "        print('CV AUC: %.5f +/- %.5f' % (np.mean(cv_scores), np.std(cv_scores)))\n",
    "        print('-------------------------')\n",
    "        \n",
    "    \n",
    "    return(results, names)\n",
    "\n",
    "\n",
    "#results, names = rskf_comparison(models_rcv, X_train, y_train)\n",
    "#plt.figure(figsize=(10, 6))\n",
    "#comparison = plt.boxplot(results)\n",
    "#plt.xticks(np.arange(1,len(names)+1),names)\n",
    "#plt.show(comparison)"
   ]
  },
  {
   "cell_type": "code",
   "execution_count": null,
   "id": "caf3d776-5981-4665-89a8-4827c181c23d",
   "metadata": {},
   "outputs": [],
   "source": [
    "#grid_param = {\n",
    "#    'n_estimators': [100,300,500],\n",
    "#    'criterion': ['gini', 'entropy'],\n",
    "#    'max_depth': [16,20,22,24],\n",
    "#    'max_features': ['auto', 'sqrt'],\n",
    "\n",
    "#}"
   ]
  },
  {
   "cell_type": "markdown",
   "id": "a35b02c9-be91-4f7f-aac7-1928283aff72",
   "metadata": {},
   "source": [
    "When dealing with time series prediction problems, some **suitable models** are :\n",
    "\n",
    "Autoregressive Integrated Moving Average (ARIMA)\n",
    "\n",
    "Seasonal Autoregressive Integrated Moving-Average (SARIMA):\n",
    "\n",
    "Seasonal Decomposition of Time Series (STL)\n",
    "\n",
    "Exponential Smoothing (ETS)\n",
    "\n",
    "Long Short-Term Memory (LSTM)\n",
    "\n",
    "Gated Recurrent Units (GRU)\n",
    "\n",
    "Convolutional Neural Networks (CNNs)"
   ]
  },
  {
   "cell_type": "markdown",
   "id": "bc708fb3-0f24-4b58-bb7d-280820477d03",
   "metadata": {},
   "source": [
    "**Here's a high-level outline of how you might approach creating such a pipeline:**\n",
    "\n",
    "### 1. Data Preparation:\n",
    "\n",
    "Load and preprocess your time series data.\n",
    "Convert the target variable to numerical values if needed.\n",
    "### 2. Model Selection:\n",
    "\n",
    "Define a list of time series forecasting models you want to consider (ARIMA, SARIMA, STL, ETS, LSTM, GRU, CNNs).\n",
    "Define hyperparameters for each model, if applicable.\n",
    "\n",
    "### 3. Pipeline Creation:\n",
    "\n",
    "For each model in the list, create a separate pipeline that includes data preprocessing, model fitting, and prediction.\n",
    "\n",
    "### 4.Model Evaluation:\n",
    "\n",
    "Use appropriate time series evaluation metrics (e.g., Mean Squared Error, Root Mean Squared Error, Mean Absolute Error) to evaluate the performance of each model on a validation set.\n",
    "\n",
    "### 5. Model Selection:\n",
    "\n",
    "Compare the performance metrics of each model to identify the best-performing model.\n",
    "Select the model with the lowest error or the best fit for your problem.\n",
    "\n",
    "### 6. Fine-Tuning and Validation:\n",
    "\n",
    "If needed, perform hyperparameter tuning on the selected model using techniques like grid search or random search.\n",
    "Validate the tuned model on a separate test set to ensure its generalization performance.\n",
    "\n",
    "### 7. Final Model and Deployment:\n",
    "\n",
    "Once you have identified the best model, train it on the entire dataset (including training and validation data).\n",
    "Deploy the final model for making predictions on new data."
   ]
  },
  {
   "cell_type": "markdown",
   "id": "b25269bb-f56a-4f7c-86b1-d38bc5b6ea1b",
   "metadata": {},
   "source": [
    "### 1. Data Preparation:"
   ]
  },
  {
   "cell_type": "code",
   "execution_count": null,
   "id": "188a524a-0d0f-414f-8776-e0b0b6695837",
   "metadata": {},
   "outputs": [],
   "source": [
    "#Load data of economy\n",
    "economic_demographic_data = pd.read_excel('../datas/Brasil_indices.xlsx', index_col='Año')\n",
    "\n",
    "cols=economic_demographic_data.columns\n",
    "print(cols)"
   ]
  },
  {
   "cell_type": "code",
   "execution_count": null,
   "id": "a9df9c5a-b150-4d82-9050-73d218755c4c",
   "metadata": {
    "tags": []
   },
   "outputs": [],
   "source": [
    "economic_demographic_data.shape"
   ]
  },
  {
   "cell_type": "code",
   "execution_count": null,
   "id": "6b33b7ff-4558-42d5-bdae-9989fabc4ec5",
   "metadata": {
    "tags": []
   },
   "outputs": [],
   "source": [
    "economic_demographic_data.tail(20)"
   ]
  },
  {
   "cell_type": "code",
   "execution_count": null,
   "id": "fe16d7b7-e8fb-43f7-8c7b-6ab14166a7ef",
   "metadata": {},
   "outputs": [],
   "source": [
    "selected_cols=cols[:6]"
   ]
  },
  {
   "cell_type": "code",
   "execution_count": null,
   "id": "0188cca4-c40f-401b-b4d7-3152674dd24e",
   "metadata": {},
   "outputs": [],
   "source": [
    "df1=economic_demographic_data[selected_cols]"
   ]
  },
  {
   "cell_type": "code",
   "execution_count": null,
   "id": "5fa817a8-9452-4fef-9df7-ba965cc7055b",
   "metadata": {},
   "outputs": [],
   "source": []
  },
  {
   "cell_type": "code",
   "execution_count": null,
   "id": "b46d4816-3c1b-4985-81a6-81cd622d019e",
   "metadata": {},
   "outputs": [],
   "source": [
    "data=df_EC\n",
    "#Merge data\n",
    "merged_df = data.merge(df1, left_index=True, right_index=True)\n",
    "\n",
    "# Convertir el índice a tipo entero \n",
    "merged_df.index = merged_df.index.astype(int)\n",
    "# Imprimir el DataFrame unido para verificar\n",
    "merged_df.columns"
   ]
  },
  {
   "cell_type": "code",
   "execution_count": null,
   "id": "6669dda0-1d88-4e43-8508-29170a4556dd",
   "metadata": {},
   "outputs": [],
   "source": [
    "#Convert cols to English\n",
    "merged_df.rename(columns={'Población':'POPULATION','PIB': 'GDP',\n",
    "                          'Crecimiento población anual': 'ANNUAL POPULATION GROWTH',\n",
    "                          'Tasa de natalidad': 'BIRTH RATE',\n",
    "                          #'Tasa inflacion': 'INFLATION RATE',\n",
    "                          'Tasas de muerte/1000 personas': 'DEATH RATES PER 1000 PEOPLE'}, inplace=True)"
   ]
  },
  {
   "cell_type": "code",
   "execution_count": null,
   "id": "d02a0aa0-6c0b-403a-9cc6-0c94ea7952b4",
   "metadata": {},
   "outputs": [],
   "source": [
    "merged_df.head()"
   ]
  },
  {
   "cell_type": "code",
   "execution_count": null,
   "id": "b5a67f13-6d58-4f86-b46c-6e08904fd20a",
   "metadata": {},
   "outputs": [],
   "source": [
    "SECTORS=['AGRICULTURE, FISHING AND MINING', 'COMMERCIAL, SERVICES, PUBLIC', 'INDUSTRIAL', 'NON-ENERGY CONSUMPTION',\n",
    "       'RESIDENTIAL', 'TRANSPORT', 'FINAL CONSUMPTION']"
   ]
  },
  {
   "cell_type": "code",
   "execution_count": null,
   "id": "1cde9f72-1104-4395-882a-0a19b649930b",
   "metadata": {},
   "outputs": [],
   "source": [
    "FEATURES=['POPULATION',\n",
    "       'GDP', 'ANNUAL POPULATION GROWTH', 'BIRTH RATE', #'INFLATION RATE',\n",
    "       'DEATH RATES PER 1000 PEOPLE']\n",
    "\n",
    "\n",
    "missing_values=merged_df.isnull().sum()\n",
    "missing_values"
   ]
  },
  {
   "attachments": {
    "e9c23a6d-74b4-446c-810b-9ceb0da41f8e.png": {
     "image/png": "[encoded data removed]"
    }
   },
   "cell_type": "markdown",
   "id": "f933d7f5-777b-422f-802e-af20c5775715",
   "metadata": {},
   "source": [
    "## MinMaxScaler\n",
    "![image.png](attachment:e9c23a6d-74b4-446c-810b-9ceb0da41f8e.png)"
   ]
  },
  {
   "cell_type": "code",
   "execution_count": null,
   "id": "921623c3-eaf1-4adf-9414-4acd96d9d4e3",
   "metadata": {},
   "outputs": [],
   "source": [
    "merged_df.head()"
   ]
  },
  {
   "cell_type": "code",
   "execution_count": null,
   "id": "52cf5d7e-8a90-4bb0-9fe3-5112e3a4a97e",
   "metadata": {},
   "outputs": [],
   "source": [
    "merged_df.index"
   ]
  },
  {
   "cell_type": "code",
   "execution_count": null,
   "id": "b79b10ef-748e-4631-93f4-5ee9cfa7f409",
   "metadata": {},
   "outputs": [],
   "source": [
    "from sklearn.preprocessing import MinMaxScaler\n",
    "\n",
    "scaler = MinMaxScaler()\n",
    "scaled_data = scaler.fit_transform(merged_df)\n",
    "scaled_df = pd.DataFrame(scaled_data, columns=merged_df.columns)\n",
    "scaled_df.set_index(merged_df.index, inplace=True)"
   ]
  },
  {
   "cell_type": "code",
   "execution_count": null,
   "id": "e8624a4c-ffa2-4e98-875d-737aa1ad53e6",
   "metadata": {},
   "outputs": [],
   "source": [
    "scaled_df"
   ]
  },
  {
   "cell_type": "code",
   "execution_count": null,
   "id": "6c161f61-5ed3-4c11-add8-1b13e01a87fc",
   "metadata": {},
   "outputs": [],
   "source": []
  },
  {
   "cell_type": "code",
   "execution_count": null,
   "id": "05dd383d-1fbd-4e20-a054-b18aca16f340",
   "metadata": {},
   "outputs": [],
   "source": [
    "from statsmodels.tsa.arima.model import ARIMA\n",
    "from statsmodels.tsa.statespace.sarimax import SARIMAX\n",
    "from statsmodels.tsa.holtwinters import ExponentialSmoothing\n",
    "from sklearn.metrics import mean_squared_error, r2_score\n",
    "from keras.models import Sequential\n",
    "from keras.layers import LSTM, GRU, Dense, Conv1D, MaxPooling1D, Flatten\n",
    "\n",
    "import tensorflow\n",
    "\n",
    "\n",
    "# Assuming you have a DataFrame named df with a target column\n",
    "target='FINAL CONSUMPTION'\n",
    "\n",
    "\n",
    "# Split data into train and test sets \n",
    "train_size = int(len(merged_df) * 0.80)\n",
    "# data without scaling\n",
    "#train, test = merged_df.iloc[:train_size], merged_df.iloc[train_size:]\n",
    "\n",
    "#data scaling:\n",
    "train, test = scaled_df.iloc[:train_size], scaled_df.iloc[train_size:]\n",
    "\n",
    "\n",
    "#X_train = train[FEATURES].values.reshape((-1, len(FEATURES), 1))\n",
    "#X_test = test[FEATURES].values.reshape((-1, len(FEATURES), 1))\n",
    "\n",
    "X_train = train[FEATURES]\n",
    "X_test = test[FEATURES]\n",
    "y_train=train[target]   \n",
    "y_test=test[target]\n",
    "\n",
    "combined_index = np.concatenate((train.index.values, test.index.values), axis=0)\n",
    "combined_index\n",
    "train"
   ]
  },
  {
   "cell_type": "code",
   "execution_count": null,
   "id": "7d72a553-ffe2-4a26-af52-a043b81c27d9",
   "metadata": {},
   "outputs": [],
   "source": [
    "from sklearn.metrics import accuracy_score\n",
    "import tensorflow as tf\n",
    "from tensorflow.keras.models import Sequential\n",
    "from tensorflow.keras.layers import Dense, Dropout\n",
    "from tensorflow.keras.optimizers import Adam\n",
    "\n",
    "def Execute_model(model_name,test,train, X_train, X_test, y_train, y_test, FEATURES, target):\n",
    "    if model_name in [\"ARIMA\",\"SARIMA\", \"ETS\"]:\n",
    "        # Initialize the model with appropriate parameters\n",
    "        if model_name == \"ARIMA\":\n",
    "            model = ARIMA(endog=y_train, order=(5, 1, 0))\n",
    "        \n",
    "        if model_name == \"SARIMA\":\n",
    "            model = SARIMAX(endog=y_train, order=(5, 1, 0), seasonal_order=(1, 1, 1, 12))\n",
    "        elif model_name == \"ETS\":\n",
    "            model = ExponentialSmoothing(endog=y_train, seasonal='add', seasonal_periods=12)\n",
    "            \n",
    "        # Fit the model\n",
    "        fit_model = model.fit()\n",
    "        y_pred = fit_model.predict(start=len(y_train), end=len(y_train) + len(y_test) - 1)\n",
    "\n",
    "    if model_name in [\"LSTM\", \"GRU\", \"CNNs\"]:\n",
    "        # Create and compile the deep learning models\n",
    "        model = Sequential()\n",
    "\n",
    "        if model_name == \"LSTM\":\n",
    "            model.add(LSTM(50, input_shape=(len(FEATURES), 1), return_sequences=True))\n",
    "            model.add(Dropout(0.2))\n",
    "            model.add(LSTM(50, input_shape=(len(FEATURES), 1), return_sequences=True))\n",
    "            model.add(Dropout(0.2))\n",
    "            model.add(LSTM(50, return_sequences=False))  # Add another LSTM layer with return_sequences=True\n",
    "            model.add(Dense(1))\n",
    "        elif model_name == \"GRU\":\n",
    "            model.add(GRU(50, input_shape=(len(FEATURES), 1), return_sequences=True))\n",
    "            model.add(Dropout(0.2))\n",
    "            model.add(GRU(50, input_shape=(len(FEATURES), 1), return_sequences=True))\n",
    "            model.add(Dropout(0.2))\n",
    "            model.add(GRU(50, input_shape=(len(FEATURES), 1), return_sequences=False))\n",
    "     \n",
    "            model.add(Dense(1))\n",
    "        elif model_name == \"CNNs\":\n",
    "            model.add(Dense(128, activation='relu', input_dim=X_train.shape[1]))\n",
    "            model.add(Dropout(0.2))  # Agregar dropout para evitar overfitting\n",
    "            model.add(Dense(64, activation='relu'))\n",
    "            model.add(Dense(1, activation='linear'))\n",
    "        #elif model_name == \"CNN\":\n",
    "         #   model.add(Conv1D(filters=64, kernel_size=2, activation='relu', input_shape=(len(FEATURES), 1)))\n",
    "          #  model.add(MaxPooling1D(pool_size=2))\n",
    "           # model.add(Flatten())\n",
    "\n",
    "        \n",
    "        model.compile(optimizer='adam', loss='mse')\n",
    "\n",
    "        # Convert data types to float64\n",
    "        X_train = X_train.values.astype('float64')\n",
    "        X_test = X_test.values.astype('float64')\n",
    "\n",
    "        # Reshape input data for deep learning models\n",
    "        X_train = X_train.reshape((-1, len(FEATURES), 1))\n",
    "        X_test = X_test.reshape((-1, len(FEATURES), 1))\n",
    "\n",
    "        # Ensure y_train and y_test are float64\n",
    "        y_train = y_train.astype('float64')\n",
    "        y_test = y_test.astype('float64')\n",
    "\n",
    "        # Fit the model\n",
    "        model.fit(X_train, y_train, epochs=50, batch_size=16, verbose=0)\n",
    "\n",
    "        # Make predictions\n",
    "        y_pred = model.predict(X_test).flatten()\n",
    "\n",
    "    # Calculate mean squared error\n",
    "    rmse = np.sqrt(mean_squared_error(y_test, y_pred))\n",
    "    #rmse= sqrt(abs(y_test-y_predic))\n",
    "    \n",
    "    # Calculate R-squared (Coefficient of Determination)\n",
    "    r2 = r2_score(y_test, y_pred)\n",
    "    # Define the Plot function within Execute_model\n",
    "    def Plot(train=train, test=test,X_test=X_test, y_test=y_test, y_pred=y_pred):\n",
    "        combined_index = np.concatenate((train.index, test.index), axis=0)\n",
    "        combined_y_pred = np.concatenate((y_train, y_pred), axis=0)\n",
    "        combined_y_test = np.concatenate((y_train, y_test), axis=0)\n",
    "        \n",
    "        plt.figure(figsize=(10, 6))\n",
    "        \n",
    "        plt.plot(combined_index, combined_y_pred, label='Predicted')\n",
    "        plt.plot(combined_index, combined_y_test, label='Actual')\n",
    "        plt.title(f'Actual and Predicted data of model {model_name} with rmse={rmse:.2f}, R-squared={r2:.2f}')\n",
    "        plt.xlabel(\"Year\")\n",
    "        plt.ylabel(target)\n",
    "        plt.legend()\n",
    "        plt.grid(True)\n",
    "        plt.show()\n",
    " \n",
    "    # Call the Plot function\n",
    "    #Plot(X_test, y_test, y_pred)\n",
    "\n",
    "  \n",
    "    results={\"model_name\":model_name, \"rmse\":rmse, \"y_pred\":y_pred, \"R-squared\": r2, \"Plot\": Plot()}\n",
    "    \n",
    "    return results\n"
   ]
  },
  {
   "cell_type": "code",
   "execution_count": null,
   "id": "c3d07318-8779-4078-adde-98d8a3091e9c",
   "metadata": {},
   "outputs": [],
   "source": [
    "columns=[\"SECTOR\", \"model_name\", \"RMSE\"]\n",
    "df_BEST_MODELS=pd.DataFrame(columns= columns)\n",
    "for target in SECTORS: \n",
    "    \n",
    "    # Split data into train and test sets \n",
    "    train_size = int(len(scaled_df) * 0.80)\n",
    "    train, test = scaled_df.iloc[:train_size], scaled_df.iloc[train_size:]  \n",
    "    X_train = train[FEATURES]\n",
    "    X_test = test[FEATURES]\n",
    "    y_train = train[target]   \n",
    "    y_test = test[target]\n",
    "    \n",
    "    models=[\"ARIMA\",\"SARIMA\", \"ETS\",\"LSTM\", \"GRU\",\"CNNs\"]\n",
    "    results=[]\n",
    "    for model_name in models:\n",
    "        res=Execute_model(model_name=model_name,test=test,train=train, X_train=X_train, X_test=X_test, y_train=y_train, y_test=y_test, FEATURES=FEATURES, target=target)\n",
    "    \n",
    "        results.append(res)\n",
    "    \n",
    "    #best_accuracy=max(result['Accuracy'] for result in results)\n",
    "    min_rmse = min(result['rmse'] for result in results)\n",
    "    best_model = next(result['model_name'] for result in results if result['rmse'] == min_rmse)   \n",
    "    result_dict = {'SECTOR': target, 'model_name': best_model, 'RMSE': f\"{min_rmse:.2f}\"}\n",
    "    df_BEST_MODELS = pd.concat([df_BEST_MODELS, pd.DataFrame([result_dict])], ignore_index=True)\n",
    "    \n",
    "    \n",
    "\n",
    "    "
   ]
  },
  {
   "cell_type": "code",
   "execution_count": null,
   "id": "5f86f026-aed5-43c0-aefa-ded646a38c53",
   "metadata": {},
   "outputs": [],
   "source": [
    "df_BEST_MODELS"
   ]
  },
  {
   "cell_type": "markdown",
   "id": "0714fea3-f523-4168-9906-64325d8416d9",
   "metadata": {},
   "source": [
    "# Predict for 20 more years:\n",
    "\n",
    "Use the best model for each sector to predict then sum the values of all sectors to obtain the final consumption. We will do step by step as folowing:"
   ]
  },
  {
   "cell_type": "markdown",
   "id": "4a9d58d2-2b7a-4aa3-bdb6-85ea48f429fa",
   "metadata": {},
   "source": [
    "### Step 1: Extend the time series data for 20 more years\n",
    "Creating the extended data when it will happen in the future might involve a different approach compared to creating it with historical data. In this case, you won't have the actual future values to include in your extended data.\n",
    "\n",
    "One approach is to make use of the predictions from your selected best models to generate a forecast for the next 20 years. "
   ]
  },
  {
   "cell_type": "code",
   "execution_count": null,
   "id": "cb13ad8b-0408-45a7-a953-09711978ca0a",
   "metadata": {
    "tags": []
   },
   "outputs": [],
   "source": [
    "# Create an extended DataFrame to store the forecasted data\n",
    "extended_data = scaled_df.copy()\n",
    "extended_data.tail()"
   ]
  },
  {
   "cell_type": "code",
   "execution_count": null,
   "id": "32505371-52d0-49ba-9c95-9c77d3afc56c",
   "metadata": {
    "tags": []
   },
   "outputs": [],
   "source": [
    "extended_data.columns[-6:]"
   ]
  },
  {
   "cell_type": "code",
   "execution_count": null,
   "id": "a2186977-76ee-414f-81ac-38dfd52f534f",
   "metadata": {},
   "outputs": [],
   "source": []
  },
  {
   "cell_type": "code",
   "execution_count": null,
   "id": "f14e3789-d26c-4d01-92b6-d4ccfea7de0f",
   "metadata": {},
   "outputs": [],
   "source": []
  },
  {
   "cell_type": "code",
   "execution_count": null,
   "id": "b16887fd-496f-4256-a041-bf9824278f7b",
   "metadata": {},
   "outputs": [],
   "source": []
  },
  {
   "cell_type": "code",
   "execution_count": null,
   "id": "fbc4e448-f9f4-4dbc-8846-063b2cc742fd",
   "metadata": {},
   "outputs": [],
   "source": []
  },
  {
   "cell_type": "code",
   "execution_count": null,
   "id": "7fffcfd9-5fc3-4131-b3c3-747561883a8e",
   "metadata": {},
   "outputs": [],
   "source": []
  },
  {
   "cell_type": "code",
   "execution_count": null,
   "id": "7fa6a806-36ba-4842-9ebe-54955ccde503",
   "metadata": {},
   "outputs": [],
   "source": []
  },
  {
   "cell_type": "code",
   "execution_count": null,
   "id": "3ae23b08-7820-4c9c-8326-debf9754e772",
   "metadata": {},
   "outputs": [],
   "source": [
    "# Step 1: Extend the time series data for 20 more years\n",
    "extended_years = 20\n",
    "extended_data = ...  # Create a new DataFrame with 20 more years of data\n",
    "\n",
    "# Step 2: Retrieve Best Models for Each Sector\n",
    "best_models = {}\n",
    "for target in SECTORS:\n",
    "    best_model_row = df_BEST_MODELS[df_BEST_MODELS['SECTOR'] == target].iloc[0]\n",
    "    best_models[target] = best_model_row['model_name']\n",
    "\n",
    "# Step 3: Retrain Best Models with Extended Data\n",
    "extended_results = {}\n",
    "for target, best_model_name in best_models.items():\n",
    "    train_size = int(len(scaled_df) * 0.80)\n",
    "    train, _ = scaled_df.iloc[:train_size], scaled_df\n",
    "    X_train = train[FEATURES]\n",
    "    y_train = train[target]\n",
    "\n",
    "    # Retrain the best model using the extended data\n",
    "    extended_X_train = extended_data[FEATURES]\n",
    "    extended_y_train = extended_data[target]\n",
    "    extended_result = Execute_model_with_optimization(extended_data, train, extended_X_train, extended_X_train, extended_y_train, extended_y_train, FEATURES, target)\n",
    "    extended_results[target] = extended_result\n",
    "\n",
    "# Step 4: Make Predictions for Extended Period\n",
    "for target, result in extended_results.items():\n",
    "    best_model = best_models[target]\n",
    "    best_model_name = result['model_name']\n",
    "    best_model_rmse = result['rmse']\n",
    "    extended_y_pred = result['y_pred']\n",
    "\n",
    "    # Print or process the extended predictions for the next 20 years\n",
    "    print(f\"Predictions for {target} using {best_model_name} (RMSE: {best_model_rmse:.2f}):\")\n",
    "    print(extended_y_pred)"
   ]
  },
  {
   "cell_type": "code",
   "execution_count": null,
   "id": "b3705f14-c644-4b01-b1a4-076b75a86a9f",
   "metadata": {},
   "outputs": [],
   "source": []
  },
  {
   "cell_type": "code",
   "execution_count": null,
   "id": "e93dccd6-6b31-4449-87fc-8e54dc24670d",
   "metadata": {},
   "outputs": [],
   "source": []
  },
  {
   "cell_type": "code",
   "execution_count": null,
   "id": "6544f8cc-e8e7-4621-bdb5-615055bc32bb",
   "metadata": {},
   "outputs": [],
   "source": []
  },
  {
   "cell_type": "code",
   "execution_count": null,
   "id": "76c1a117-2972-426b-9c91-466ed8138761",
   "metadata": {},
   "outputs": [],
   "source": []
  },
  {
   "cell_type": "code",
   "execution_count": null,
   "id": "5208723c-0f46-44a7-8b15-f6160470414f",
   "metadata": {},
   "outputs": [],
   "source": []
  },
  {
   "cell_type": "code",
   "execution_count": null,
   "id": "31da5706-e9bd-4c7a-b902-dfc3dfca8ef4",
   "metadata": {},
   "outputs": [],
   "source": []
  },
  {
   "cell_type": "code",
   "execution_count": null,
   "id": "acd6d75b-0307-4e4a-a3ff-ae4984da0e6e",
   "metadata": {},
   "outputs": [],
   "source": []
  },
  {
   "cell_type": "code",
   "execution_count": null,
   "id": "50fc3b11-3fa5-4ed6-93a0-f5b8eb157506",
   "metadata": {},
   "outputs": [],
   "source": []
  },
  {
   "cell_type": "code",
   "execution_count": null,
   "id": "f6d450df-6c92-4e1a-ad6f-9217daa74a2c",
   "metadata": {},
   "outputs": [],
   "source": []
  },
  {
   "cell_type": "code",
   "execution_count": null,
   "id": "c668c10a-07aa-4d09-803b-93093bcc8184",
   "metadata": {},
   "outputs": [],
   "source": []
  },
  {
   "cell_type": "code",
   "execution_count": null,
   "id": "f6bd6fff-fe2f-420a-9b85-0d54c913bf6c",
   "metadata": {},
   "outputs": [],
   "source": []
  },
  {
   "cell_type": "code",
   "execution_count": null,
   "id": "c192bf70-a1da-4554-b295-d21e163b0923",
   "metadata": {},
   "outputs": [],
   "source": []
  },
  {
   "cell_type": "code",
   "execution_count": null,
   "id": "9c323426-3138-4949-b400-264a6cd0c3e4",
   "metadata": {},
   "outputs": [],
   "source": []
  },
  {
   "cell_type": "code",
   "execution_count": null,
   "id": "be0b199a-cce0-46e6-a421-15e293e7b32f",
   "metadata": {},
   "outputs": [],
   "source": []
  },
  {
   "cell_type": "code",
   "execution_count": null,
   "id": "54605042-ac24-4b95-a400-84956a9e80be",
   "metadata": {},
   "outputs": [],
   "source": []
  },
  {
   "cell_type": "code",
   "execution_count": null,
   "id": "2e1a9ddb-610b-4fc5-8fe0-fdb11304cdd8",
   "metadata": {},
   "outputs": [],
   "source": []
  },
  {
   "cell_type": "code",
   "execution_count": null,
   "id": "b2ea3d0c-c2e1-4994-8b61-b63926786dd2",
   "metadata": {},
   "outputs": [],
   "source": []
  },
  {
   "cell_type": "code",
   "execution_count": null,
   "id": "eddae874-5741-4d2b-aa82-26823f93de61",
   "metadata": {},
   "outputs": [],
   "source": []
  },
  {
   "cell_type": "code",
   "execution_count": null,
   "id": "1f6ec504-3117-42fc-9477-d72bec1ba284",
   "metadata": {},
   "outputs": [],
   "source": []
  },
  {
   "cell_type": "code",
   "execution_count": null,
   "id": "4694e172-bdc3-4125-a83c-8cf9322bf44b",
   "metadata": {},
   "outputs": [],
   "source": []
  },
  {
   "cell_type": "code",
   "execution_count": null,
   "id": "a507b758-e665-4fcd-839b-310ae71d13bc",
   "metadata": {},
   "outputs": [],
   "source": []
  },
  {
   "cell_type": "code",
   "execution_count": null,
   "id": "3ee33f6c-0e99-4ff7-a181-f2d2f2ffa78e",
   "metadata": {},
   "outputs": [],
   "source": []
  },
  {
   "cell_type": "code",
   "execution_count": null,
   "id": "9d9a9986-1b7c-4236-a9f1-c4270e3c323d",
   "metadata": {},
   "outputs": [],
   "source": []
  }
 ],
 "metadata": {
  "kernelspec": {
   "display_name": "Python 3 (ipykernel)",
   "language": "python",
   "name": "python3"
  },
  "language_info": {
   "codemirror_mode": {
    "name": "ipython",
    "version": 3
   },
   "file_extension": ".py",
   "mimetype": "text/x-python",
   "name": "python",
   "nbconvert_exporter": "python",
   "pygments_lexer": "ipython3",
   "version": "3.10.9"
  }
 },
 "nbformat": 4,
 "nbformat_minor": 5
}
